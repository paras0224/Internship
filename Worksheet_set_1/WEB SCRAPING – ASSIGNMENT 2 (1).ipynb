{
 "cells": [
  {
   "cell_type": "markdown",
   "id": "aa0d7f22",
   "metadata": {},
   "source": [
    "Q1: Write a python program to scrape data for “Data Analyst” Job position in “Bangalore” location. You have to scrape the job-title, job-location, company_name, experience_required. You have to scrape first 10 jobs data.\n",
    "This task will be done in following steps:\n",
    "1. First get the webpage https://www.naukri.com/\n",
    "2. Enter “Data Analyst” in “Skill, Designations, Companies” field and enter “Bangalore” in “enter the location” field.\n",
    "3. Then click the search button.\n",
    "4. Then scrape the data for the first 10 jobs results you get.\n",
    "5. Finally create a dataframe of the scraped data."
   ]
  },
  {
   "cell_type": "code",
   "execution_count": 1,
   "id": "04bbc360",
   "metadata": {
    "collapsed": true
   },
   "outputs": [
    {
     "name": "stdout",
     "output_type": "stream",
     "text": [
      "Requirement already satisfied: selenium in c:\\programdata\\anaconda3\\lib\\site-packages (4.1.3)\n",
      "Requirement already satisfied: trio~=0.17 in c:\\programdata\\anaconda3\\lib\\site-packages (from selenium) (0.20.0)\n",
      "Requirement already satisfied: urllib3[secure,socks]~=1.26 in c:\\programdata\\anaconda3\\lib\\site-packages (from selenium) (1.26.4)\n",
      "Requirement already satisfied: trio-websocket~=0.9 in c:\\programdata\\anaconda3\\lib\\site-packages (from selenium) (0.9.2)\n",
      "Requirement already satisfied: sniffio in c:\\programdata\\anaconda3\\lib\\site-packages (from trio~=0.17->selenium) (1.2.0)\n",
      "Requirement already satisfied: outcome in c:\\programdata\\anaconda3\\lib\\site-packages (from trio~=0.17->selenium) (1.1.0)\n",
      "Requirement already satisfied: sortedcontainers in c:\\programdata\\anaconda3\\lib\\site-packages (from trio~=0.17->selenium) (2.3.0)\n",
      "Requirement already satisfied: idna in c:\\programdata\\anaconda3\\lib\\site-packages (from trio~=0.17->selenium) (2.10)\n",
      "Requirement already satisfied: attrs>=19.2.0 in c:\\programdata\\anaconda3\\lib\\site-packages (from trio~=0.17->selenium) (20.3.0)\n",
      "Requirement already satisfied: async-generator>=1.9 in c:\\programdata\\anaconda3\\lib\\site-packages (from trio~=0.17->selenium) (1.10)\n",
      "Requirement already satisfied: cffi>=1.14 in c:\\programdata\\anaconda3\\lib\\site-packages (from trio~=0.17->selenium) (1.14.5)\n",
      "Requirement already satisfied: pycparser in c:\\programdata\\anaconda3\\lib\\site-packages (from cffi>=1.14->trio~=0.17->selenium) (2.20)\n",
      "Requirement already satisfied: wsproto>=0.14 in c:\\programdata\\anaconda3\\lib\\site-packages (from trio-websocket~=0.9->selenium) (1.1.0)\n",
      "Requirement already satisfied: PySocks!=1.5.7,<2.0,>=1.5.6 in c:\\programdata\\anaconda3\\lib\\site-packages (from urllib3[secure,socks]~=1.26->selenium) (1.7.1)\n",
      "Requirement already satisfied: certifi in c:\\programdata\\anaconda3\\lib\\site-packages (from urllib3[secure,socks]~=1.26->selenium) (2020.12.5)\n",
      "Requirement already satisfied: pyOpenSSL>=0.14 in c:\\programdata\\anaconda3\\lib\\site-packages (from urllib3[secure,socks]~=1.26->selenium) (20.0.1)\n",
      "Requirement already satisfied: cryptography>=1.3.4 in c:\\programdata\\anaconda3\\lib\\site-packages (from urllib3[secure,socks]~=1.26->selenium) (3.4.7)\n",
      "Requirement already satisfied: six>=1.5.2 in c:\\programdata\\anaconda3\\lib\\site-packages (from pyOpenSSL>=0.14->urllib3[secure,socks]~=1.26->selenium) (1.15.0)\n",
      "Requirement already satisfied: h11<1,>=0.9.0 in c:\\programdata\\anaconda3\\lib\\site-packages (from wsproto>=0.14->trio-websocket~=0.9->selenium) (0.13.0)\n"
     ]
    }
   ],
   "source": [
    "! pip install selenium"
   ]
  },
  {
   "cell_type": "code",
   "execution_count": 2,
   "id": "e30b99bb",
   "metadata": {
    "collapsed": true
   },
   "outputs": [],
   "source": [
    "import selenium\n",
    "import pandas as pd\n",
    "from selenium import webdriver\n",
    "import warnings\n",
    "warnings.filterwarnings(\"ignore\")\n",
    "import time\n",
    "import numpy as np"
   ]
  },
  {
   "cell_type": "code",
   "execution_count": 4,
   "id": "d8db82d6",
   "metadata": {
    "collapsed": true
   },
   "outputs": [],
   "source": [
    "driver = webdriver.Chrome(r\"C:\\Drivers\\my driver\\chromedriver.exe\")"
   ]
  },
  {
   "cell_type": "code",
   "execution_count": 5,
   "id": "3bf68336",
   "metadata": {
    "collapsed": true
   },
   "outputs": [],
   "source": [
    "driver=webdriver.Chrome(\"chromedriver.exe\")\n",
    "time.sleep(2)"
   ]
  },
  {
   "cell_type": "code",
   "execution_count": 6,
   "id": "16bb3214",
   "metadata": {
    "collapsed": true
   },
   "outputs": [],
   "source": [
    "driver.get(\"https://www.naukri.com/\")"
   ]
  },
  {
   "cell_type": "code",
   "execution_count": 7,
   "id": "12e493a1",
   "metadata": {
    "collapsed": true
   },
   "outputs": [],
   "source": [
    "search_field_designation=driver.find_element_by_class_name(\"suggestor-input\")\n",
    "search_field_designation.send_keys(\"Data Analyst\")"
   ]
  },
  {
   "cell_type": "code",
   "execution_count": 10,
   "id": "527cbfbe",
   "metadata": {
    "collapsed": true
   },
   "outputs": [],
   "source": [
    "search_field_location=driver.find_element_by_xpath(\"/html/body/div/div[2]/div[3]/div/div/div[3]/div/div/div/input\")\n",
    "search_field_location.send_keys(\"Bangalore\")"
   ]
  },
  {
   "cell_type": "code",
   "execution_count": 11,
   "id": "c1e2fbd0",
   "metadata": {
    "collapsed": true
   },
   "outputs": [],
   "source": [
    "search_button=driver.find_element_by_xpath(\"/html/body/div/div[2]/div[3]/div/div/div[6]\")\n",
    "search_button.click()"
   ]
  },
  {
   "cell_type": "code",
   "execution_count": 12,
   "id": "6cc94718",
   "metadata": {
    "collapsed": true
   },
   "outputs": [],
   "source": [
    "job_titles=[]\n",
    "company_names=[]\n",
    "locations_list=[]\n",
    "experience_list=[]"
   ]
  },
  {
   "cell_type": "code",
   "execution_count": 13,
   "id": "746a808a",
   "metadata": {
    "collapsed": true
   },
   "outputs": [
    {
     "data": {
      "text/plain": [
       "[<selenium.webdriver.remote.webelement.WebElement (session=\"a9c5e13a6c9d9d0112abbc0c612549e2\", element=\"1f7109ce-8db1-4615-9554-899646bbf5a9\")>,\n",
       " <selenium.webdriver.remote.webelement.WebElement (session=\"a9c5e13a6c9d9d0112abbc0c612549e2\", element=\"55cf3f6d-10ec-4599-a1f6-e2a6febe90cb\")>,\n",
       " <selenium.webdriver.remote.webelement.WebElement (session=\"a9c5e13a6c9d9d0112abbc0c612549e2\", element=\"7720be34-7a0e-4310-944e-1ff3d67511a9\")>,\n",
       " <selenium.webdriver.remote.webelement.WebElement (session=\"a9c5e13a6c9d9d0112abbc0c612549e2\", element=\"2f5fc3db-3d87-4acc-8def-012c9f1a1df7\")>,\n",
       " <selenium.webdriver.remote.webelement.WebElement (session=\"a9c5e13a6c9d9d0112abbc0c612549e2\", element=\"d62be785-3b4d-4bd3-aee1-41c8fb9f3f5b\")>,\n",
       " <selenium.webdriver.remote.webelement.WebElement (session=\"a9c5e13a6c9d9d0112abbc0c612549e2\", element=\"0888b346-c3ba-4ea8-afd8-be689f8967ad\")>,\n",
       " <selenium.webdriver.remote.webelement.WebElement (session=\"a9c5e13a6c9d9d0112abbc0c612549e2\", element=\"c71e0666-4d00-45a8-9d54-4f1597a06c05\")>,\n",
       " <selenium.webdriver.remote.webelement.WebElement (session=\"a9c5e13a6c9d9d0112abbc0c612549e2\", element=\"bbbe833c-8e41-419e-911a-ec3f73af6ab8\")>,\n",
       " <selenium.webdriver.remote.webelement.WebElement (session=\"a9c5e13a6c9d9d0112abbc0c612549e2\", element=\"ceef6278-64a0-4f93-bfd3-4522c17ffe9a\")>,\n",
       " <selenium.webdriver.remote.webelement.WebElement (session=\"a9c5e13a6c9d9d0112abbc0c612549e2\", element=\"5589ba29-e189-4115-acc2-6c1297771aeb\")>]"
      ]
     },
     "execution_count": 13,
     "metadata": {},
     "output_type": "execute_result"
    }
   ],
   "source": [
    "titles_tags=driver.find_elements_by_xpath(\"//a[@class='title fw500 ellipsis']\")\n",
    "titles_tags[0:10]"
   ]
  },
  {
   "cell_type": "code",
   "execution_count": 14,
   "id": "c5d27ba9",
   "metadata": {
    "collapsed": true
   },
   "outputs": [
    {
     "data": {
      "text/plain": [
       "['Senior Data Analyst',\n",
       " 'Data Analyst- customer facing',\n",
       " 'Sr Data Analyst II',\n",
       " 'Data Analyst',\n",
       " 'Senior Business Analyst - Data Sciences and Advanced Analytics',\n",
       " 'Business and Data Analyst',\n",
       " 'Senior Data Analyst',\n",
       " 'Senior Data Analyst',\n",
       " 'Jr . Data Analyst',\n",
       " 'Data Analyst']"
      ]
     },
     "execution_count": 14,
     "metadata": {},
     "output_type": "execute_result"
    }
   ],
   "source": [
    "for i in titles_tags:\n",
    "    title=i.text\n",
    "    job_titles.append(title)\n",
    "job_titles[0:10]"
   ]
  },
  {
   "cell_type": "code",
   "execution_count": 15,
   "id": "2d2673b6",
   "metadata": {
    "collapsed": true
   },
   "outputs": [
    {
     "data": {
      "text/plain": [
       "[<selenium.webdriver.remote.webelement.WebElement (session=\"a9c5e13a6c9d9d0112abbc0c612549e2\", element=\"36ca867c-b63e-4dca-a940-2e8ffb5c13c2\")>,\n",
       " <selenium.webdriver.remote.webelement.WebElement (session=\"a9c5e13a6c9d9d0112abbc0c612549e2\", element=\"e8f9b860-584c-40e4-8aa7-c5b4452db103\")>,\n",
       " <selenium.webdriver.remote.webelement.WebElement (session=\"a9c5e13a6c9d9d0112abbc0c612549e2\", element=\"a338c11f-3374-4171-9f88-e6079bfd3cd0\")>,\n",
       " <selenium.webdriver.remote.webelement.WebElement (session=\"a9c5e13a6c9d9d0112abbc0c612549e2\", element=\"33dd761c-0ba6-4fd9-8c09-6c77d073f757\")>,\n",
       " <selenium.webdriver.remote.webelement.WebElement (session=\"a9c5e13a6c9d9d0112abbc0c612549e2\", element=\"534b013b-0f9c-4d5f-af4f-f1e19e150d55\")>,\n",
       " <selenium.webdriver.remote.webelement.WebElement (session=\"a9c5e13a6c9d9d0112abbc0c612549e2\", element=\"4f4cdff8-2ac3-4bf7-8cbd-bb6f56f16d4b\")>,\n",
       " <selenium.webdriver.remote.webelement.WebElement (session=\"a9c5e13a6c9d9d0112abbc0c612549e2\", element=\"7bf4c2b0-df2c-49ef-b75e-51743e0a9b05\")>,\n",
       " <selenium.webdriver.remote.webelement.WebElement (session=\"a9c5e13a6c9d9d0112abbc0c612549e2\", element=\"21502740-405e-42b9-88b1-1f7e376c0111\")>,\n",
       " <selenium.webdriver.remote.webelement.WebElement (session=\"a9c5e13a6c9d9d0112abbc0c612549e2\", element=\"508ff930-816d-480e-b887-6d6b7650e38c\")>,\n",
       " <selenium.webdriver.remote.webelement.WebElement (session=\"a9c5e13a6c9d9d0112abbc0c612549e2\", element=\"a5eac6f3-ed64-4433-93b7-42d6e0f9f910\")>]"
      ]
     },
     "execution_count": 15,
     "metadata": {},
     "output_type": "execute_result"
    }
   ],
   "source": [
    "companies_tags=driver.find_elements_by_xpath(\"//a[@class='subTitle ellipsis fleft']\")\n",
    "companies_tags[0:10]"
   ]
  },
  {
   "cell_type": "code",
   "execution_count": 16,
   "id": "3964eeb3",
   "metadata": {
    "collapsed": true
   },
   "outputs": [
    {
     "data": {
      "text/plain": [
       "['Thomson Reuters',\n",
       " 'Synamedia',\n",
       " 'IHS Markit',\n",
       " 'VOLVO ASSET FINANCE INDIA PRIVATE LIMITED',\n",
       " 'Vmware',\n",
       " 'CAREERDOST ENTERPRISE',\n",
       " 'Capco',\n",
       " 'Gsn Games India',\n",
       " 'Armorblox',\n",
       " 'G S E-COMMERCE PVT LTD']"
      ]
     },
     "execution_count": 16,
     "metadata": {},
     "output_type": "execute_result"
    }
   ],
   "source": [
    "for i in companies_tags:\n",
    "    company_name=i.text\n",
    "    company_names.append(company_name)\n",
    "company_names[0:10]"
   ]
  },
  {
   "cell_type": "code",
   "execution_count": 17,
   "id": "3ab90f36",
   "metadata": {
    "collapsed": true
   },
   "outputs": [
    {
     "data": {
      "text/plain": [
       "[<selenium.webdriver.remote.webelement.WebElement (session=\"a9c5e13a6c9d9d0112abbc0c612549e2\", element=\"7e730c42-1d2c-4585-95c6-1de1e1bf419b\")>,\n",
       " <selenium.webdriver.remote.webelement.WebElement (session=\"a9c5e13a6c9d9d0112abbc0c612549e2\", element=\"5c81409b-abce-4862-a4a5-d87f977c3bba\")>,\n",
       " <selenium.webdriver.remote.webelement.WebElement (session=\"a9c5e13a6c9d9d0112abbc0c612549e2\", element=\"8ca516ae-0143-47a5-a50e-409122aec04f\")>,\n",
       " <selenium.webdriver.remote.webelement.WebElement (session=\"a9c5e13a6c9d9d0112abbc0c612549e2\", element=\"1f06bb0f-37f0-426d-bee1-0ac2b94d5f28\")>,\n",
       " <selenium.webdriver.remote.webelement.WebElement (session=\"a9c5e13a6c9d9d0112abbc0c612549e2\", element=\"182d20ba-6692-46a4-8fba-130e41c29a6e\")>,\n",
       " <selenium.webdriver.remote.webelement.WebElement (session=\"a9c5e13a6c9d9d0112abbc0c612549e2\", element=\"ea1795df-d169-411b-9aa2-8b9c5f9b2038\")>,\n",
       " <selenium.webdriver.remote.webelement.WebElement (session=\"a9c5e13a6c9d9d0112abbc0c612549e2\", element=\"8bfd68db-bf31-4d4e-9b64-260a5a6391ff\")>,\n",
       " <selenium.webdriver.remote.webelement.WebElement (session=\"a9c5e13a6c9d9d0112abbc0c612549e2\", element=\"f0bbc067-fdf7-4479-a52a-8155467dae2f\")>,\n",
       " <selenium.webdriver.remote.webelement.WebElement (session=\"a9c5e13a6c9d9d0112abbc0c612549e2\", element=\"6c2bb043-5eec-4523-834d-abdbaad0cf4a\")>,\n",
       " <selenium.webdriver.remote.webelement.WebElement (session=\"a9c5e13a6c9d9d0112abbc0c612549e2\", element=\"f0a81315-5099-42b2-a6d0-787bc5778bb9\")>]"
      ]
     },
     "execution_count": 17,
     "metadata": {},
     "output_type": "execute_result"
    }
   ],
   "source": [
    "experience_tags=driver.find_elements_by_xpath(\"//li[@class='fleft grey-text br2 placeHolderLi experience']\")\n",
    "experience_tags[0:10]"
   ]
  },
  {
   "cell_type": "code",
   "execution_count": 18,
   "id": "14cbcb94",
   "metadata": {
    "collapsed": true
   },
   "outputs": [
    {
     "data": {
      "text/plain": [
       "['2-4 Yrs',\n",
       " '0-3 Yrs',\n",
       " '3-6 Yrs',\n",
       " '2-4 Yrs',\n",
       " '3-7 Yrs',\n",
       " '0-5 Yrs',\n",
       " '7-12 Yrs',\n",
       " '3-7 Yrs',\n",
       " '0-2 Yrs',\n",
       " '4-7 Yrs']"
      ]
     },
     "execution_count": 18,
     "metadata": {},
     "output_type": "execute_result"
    }
   ],
   "source": [
    "for i in experience_tags:\n",
    "    experience=i.text\n",
    "    experience_list.append(experience)\n",
    "experience_list[0:10]"
   ]
  },
  {
   "cell_type": "code",
   "execution_count": 20,
   "id": "ea84ce98",
   "metadata": {
    "collapsed": true
   },
   "outputs": [
    {
     "data": {
      "text/plain": [
       "[<selenium.webdriver.remote.webelement.WebElement (session=\"a9c5e13a6c9d9d0112abbc0c612549e2\", element=\"1314a661-d33f-4d65-b465-0e5e1c8eb1b0\")>,\n",
       " <selenium.webdriver.remote.webelement.WebElement (session=\"a9c5e13a6c9d9d0112abbc0c612549e2\", element=\"5e0c8279-22f5-4e7c-8fe1-b6a7240816b4\")>,\n",
       " <selenium.webdriver.remote.webelement.WebElement (session=\"a9c5e13a6c9d9d0112abbc0c612549e2\", element=\"8bcc7198-f7b9-4638-a629-82f3abfccc8a\")>,\n",
       " <selenium.webdriver.remote.webelement.WebElement (session=\"a9c5e13a6c9d9d0112abbc0c612549e2\", element=\"cc9aae3e-8838-49b9-ad69-8938c1bc2ef0\")>,\n",
       " <selenium.webdriver.remote.webelement.WebElement (session=\"a9c5e13a6c9d9d0112abbc0c612549e2\", element=\"e79f68be-0dd2-40f6-a1f0-a83d5389e61a\")>,\n",
       " <selenium.webdriver.remote.webelement.WebElement (session=\"a9c5e13a6c9d9d0112abbc0c612549e2\", element=\"3fbe2a58-9f6c-43d5-9775-29e571eca570\")>,\n",
       " <selenium.webdriver.remote.webelement.WebElement (session=\"a9c5e13a6c9d9d0112abbc0c612549e2\", element=\"4eb17c78-f318-4197-992a-ff35ba579510\")>,\n",
       " <selenium.webdriver.remote.webelement.WebElement (session=\"a9c5e13a6c9d9d0112abbc0c612549e2\", element=\"23a04b5e-e21f-4c1a-8d90-1817bfbba0ff\")>,\n",
       " <selenium.webdriver.remote.webelement.WebElement (session=\"a9c5e13a6c9d9d0112abbc0c612549e2\", element=\"933cca54-3460-4229-ab84-b0f98b1b9919\")>,\n",
       " <selenium.webdriver.remote.webelement.WebElement (session=\"a9c5e13a6c9d9d0112abbc0c612549e2\", element=\"5a16439a-98fb-4024-9791-be2bfffb8fc6\")>]"
      ]
     },
     "execution_count": 20,
     "metadata": {},
     "output_type": "execute_result"
    }
   ],
   "source": [
    "locations_tags=driver.find_elements_by_xpath(\"//li[@class='fleft grey-text br2 placeHolderLi location']\")\n",
    "locations_tags[0:10]"
   ]
  },
  {
   "cell_type": "code",
   "execution_count": 21,
   "id": "fcff2af5",
   "metadata": {
    "collapsed": true
   },
   "outputs": [
    {
     "data": {
      "text/plain": [
       "['Bangalore/Bengaluru',\n",
       " 'Bangalore/Bengaluru',\n",
       " 'Gurgaon/Gurugram, Bangalore/Bengaluru',\n",
       " 'Bangalore/Bengaluru',\n",
       " 'Bangalore/Bengaluru',\n",
       " 'Bangalore/Bengaluru\\n(WFH during Covid)',\n",
       " 'Pune, Gurgaon/Gurugram, Chennai, Bangalore/Bengaluru',\n",
       " 'Bangalore/Bengaluru',\n",
       " 'Bangalore/Bengaluru',\n",
       " 'Bangalore/Bengaluru(Jayanagar)']"
      ]
     },
     "execution_count": 21,
     "metadata": {},
     "output_type": "execute_result"
    }
   ],
   "source": [
    "for i in locations_tags:\n",
    "    location=i.text\n",
    "    locations_list.append(location)\n",
    "locations_list[0:10]"
   ]
  },
  {
   "cell_type": "code",
   "execution_count": 22,
   "id": "6edda7ff",
   "metadata": {
    "collapsed": true
   },
   "outputs": [
    {
     "name": "stdout",
     "output_type": "stream",
     "text": [
      "20 20 20 20\n"
     ]
    }
   ],
   "source": [
    "print(len(job_titles),len(company_names),len(experience_list),len(locations_list))"
   ]
  },
  {
   "cell_type": "code",
   "execution_count": 23,
   "id": "949ce3f7",
   "metadata": {
    "collapsed": true
   },
   "outputs": [],
   "source": [
    "jobs=pd.DataFrame({})\n",
    "jobs['title']=job_titles\n",
    "jobs['company']=company_names\n",
    "jobs['experience_required']=experience_list\n",
    "jobs['location']=locations_list"
   ]
  },
  {
   "cell_type": "code",
   "execution_count": 25,
   "id": "ab523c17",
   "metadata": {},
   "outputs": [
    {
     "data": {
      "text/html": [
       "<div>\n",
       "<style scoped>\n",
       "    .dataframe tbody tr th:only-of-type {\n",
       "        vertical-align: middle;\n",
       "    }\n",
       "\n",
       "    .dataframe tbody tr th {\n",
       "        vertical-align: top;\n",
       "    }\n",
       "\n",
       "    .dataframe thead th {\n",
       "        text-align: right;\n",
       "    }\n",
       "</style>\n",
       "<table border=\"1\" class=\"dataframe\">\n",
       "  <thead>\n",
       "    <tr style=\"text-align: right;\">\n",
       "      <th></th>\n",
       "      <th>title</th>\n",
       "      <th>company</th>\n",
       "      <th>experience_required</th>\n",
       "      <th>location</th>\n",
       "    </tr>\n",
       "  </thead>\n",
       "  <tbody>\n",
       "    <tr>\n",
       "      <th>0</th>\n",
       "      <td>Senior Data Analyst</td>\n",
       "      <td>Thomson Reuters</td>\n",
       "      <td>2-4 Yrs</td>\n",
       "      <td>Bangalore/Bengaluru</td>\n",
       "    </tr>\n",
       "    <tr>\n",
       "      <th>1</th>\n",
       "      <td>Data Analyst- customer facing</td>\n",
       "      <td>Synamedia</td>\n",
       "      <td>0-3 Yrs</td>\n",
       "      <td>Bangalore/Bengaluru</td>\n",
       "    </tr>\n",
       "    <tr>\n",
       "      <th>2</th>\n",
       "      <td>Sr Data Analyst II</td>\n",
       "      <td>IHS Markit</td>\n",
       "      <td>3-6 Yrs</td>\n",
       "      <td>Gurgaon/Gurugram, Bangalore/Bengaluru</td>\n",
       "    </tr>\n",
       "    <tr>\n",
       "      <th>3</th>\n",
       "      <td>Data Analyst</td>\n",
       "      <td>VOLVO ASSET FINANCE INDIA PRIVATE LIMITED</td>\n",
       "      <td>2-4 Yrs</td>\n",
       "      <td>Bangalore/Bengaluru</td>\n",
       "    </tr>\n",
       "    <tr>\n",
       "      <th>4</th>\n",
       "      <td>Senior Business Analyst - Data Sciences and Ad...</td>\n",
       "      <td>Vmware</td>\n",
       "      <td>3-7 Yrs</td>\n",
       "      <td>Bangalore/Bengaluru</td>\n",
       "    </tr>\n",
       "    <tr>\n",
       "      <th>5</th>\n",
       "      <td>Business and Data Analyst</td>\n",
       "      <td>CAREERDOST ENTERPRISE</td>\n",
       "      <td>0-5 Yrs</td>\n",
       "      <td>Bangalore/Bengaluru\\n(WFH during Covid)</td>\n",
       "    </tr>\n",
       "    <tr>\n",
       "      <th>6</th>\n",
       "      <td>Senior Data Analyst</td>\n",
       "      <td>Capco</td>\n",
       "      <td>7-12 Yrs</td>\n",
       "      <td>Pune, Gurgaon/Gurugram, Chennai, Bangalore/Ben...</td>\n",
       "    </tr>\n",
       "    <tr>\n",
       "      <th>7</th>\n",
       "      <td>Senior Data Analyst</td>\n",
       "      <td>Gsn Games India</td>\n",
       "      <td>3-7 Yrs</td>\n",
       "      <td>Bangalore/Bengaluru</td>\n",
       "    </tr>\n",
       "    <tr>\n",
       "      <th>8</th>\n",
       "      <td>Jr . Data Analyst</td>\n",
       "      <td>Armorblox</td>\n",
       "      <td>0-2 Yrs</td>\n",
       "      <td>Bangalore/Bengaluru</td>\n",
       "    </tr>\n",
       "    <tr>\n",
       "      <th>9</th>\n",
       "      <td>Data Analyst</td>\n",
       "      <td>G S E-COMMERCE PVT LTD</td>\n",
       "      <td>4-7 Yrs</td>\n",
       "      <td>Bangalore/Bengaluru(Jayanagar)</td>\n",
       "    </tr>\n",
       "  </tbody>\n",
       "</table>\n",
       "</div>"
      ],
      "text/plain": [
       "                                               title  \\\n",
       "0                                Senior Data Analyst   \n",
       "1                      Data Analyst- customer facing   \n",
       "2                                 Sr Data Analyst II   \n",
       "3                                       Data Analyst   \n",
       "4  Senior Business Analyst - Data Sciences and Ad...   \n",
       "5                          Business and Data Analyst   \n",
       "6                                Senior Data Analyst   \n",
       "7                                Senior Data Analyst   \n",
       "8                                  Jr . Data Analyst   \n",
       "9                                       Data Analyst   \n",
       "\n",
       "                                     company experience_required  \\\n",
       "0                            Thomson Reuters             2-4 Yrs   \n",
       "1                                  Synamedia             0-3 Yrs   \n",
       "2                                 IHS Markit             3-6 Yrs   \n",
       "3  VOLVO ASSET FINANCE INDIA PRIVATE LIMITED             2-4 Yrs   \n",
       "4                                     Vmware             3-7 Yrs   \n",
       "5                      CAREERDOST ENTERPRISE             0-5 Yrs   \n",
       "6                                      Capco            7-12 Yrs   \n",
       "7                            Gsn Games India             3-7 Yrs   \n",
       "8                                  Armorblox             0-2 Yrs   \n",
       "9                     G S E-COMMERCE PVT LTD             4-7 Yrs   \n",
       "\n",
       "                                            location  \n",
       "0                                Bangalore/Bengaluru  \n",
       "1                                Bangalore/Bengaluru  \n",
       "2              Gurgaon/Gurugram, Bangalore/Bengaluru  \n",
       "3                                Bangalore/Bengaluru  \n",
       "4                                Bangalore/Bengaluru  \n",
       "5            Bangalore/Bengaluru\\n(WFH during Covid)  \n",
       "6  Pune, Gurgaon/Gurugram, Chennai, Bangalore/Ben...  \n",
       "7                                Bangalore/Bengaluru  \n",
       "8                                Bangalore/Bengaluru  \n",
       "9                     Bangalore/Bengaluru(Jayanagar)  "
      ]
     },
     "execution_count": 25,
     "metadata": {},
     "output_type": "execute_result"
    }
   ],
   "source": [
    "jobs[0:10]"
   ]
  },
  {
   "cell_type": "code",
   "execution_count": null,
   "id": "36b40307",
   "metadata": {
    "collapsed": true
   },
   "outputs": [],
   "source": []
  },
  {
   "cell_type": "markdown",
   "id": "89c5314e",
   "metadata": {},
   "source": [
    "Q2: Write a python program to scrape data for “Data Scientist” Job position in “Bangalore” location. You have to scrape the job-title, job-location, company_name. You have to scrape first 10 jobs data.\n",
    "This task will be done in following steps:\n",
    "1. First get the webpage https://www.naukri.com/\n",
    "2. Enter “Data Scientist” in “Skill, Designations, Companies” field and enter “Bangalore” in “enter the location” field.\n",
    "3. Then click the search button.\n",
    "4. Then scrape the data for the first 10 jobs results you get.\n",
    "5. Finally create a dataframe of the scraped data."
   ]
  },
  {
   "cell_type": "code",
   "execution_count": 26,
   "id": "75b28120",
   "metadata": {
    "collapsed": true
   },
   "outputs": [],
   "source": [
    "import selenium\n",
    "import pandas as pd\n",
    "from selenium import webdriver\n",
    "import warnings\n",
    "warnings.filterwarnings(\"ignore\")\n",
    "import time\n",
    "import numpy as np"
   ]
  },
  {
   "cell_type": "code",
   "execution_count": 28,
   "id": "e53d2f42",
   "metadata": {
    "collapsed": true
   },
   "outputs": [],
   "source": [
    "driver=webdriver.Chrome(r\"C:\\Drivers\\my driver\\chromedriver.exe\")"
   ]
  },
  {
   "cell_type": "code",
   "execution_count": 29,
   "id": "896551cc",
   "metadata": {
    "collapsed": true
   },
   "outputs": [],
   "source": [
    "driver = webdriver.Chrome(\"chromedriver\")\n",
    "time.sleep(2)"
   ]
  },
  {
   "cell_type": "code",
   "execution_count": 30,
   "id": "0be1d396",
   "metadata": {
    "collapsed": true
   },
   "outputs": [],
   "source": [
    "driver.get('https://www.naukri.com/')"
   ]
  },
  {
   "cell_type": "code",
   "execution_count": 32,
   "id": "a8413e18",
   "metadata": {
    "collapsed": true
   },
   "outputs": [],
   "source": [
    "search_field_designation=driver.find_element_by_class_name(\"suggestor-input\")\n",
    "search_field_designation.send_keys(\"Data Scientist\")"
   ]
  },
  {
   "cell_type": "code",
   "execution_count": 34,
   "id": "e14c721b",
   "metadata": {
    "collapsed": true
   },
   "outputs": [],
   "source": [
    "search_field_location=driver.find_element_by_xpath(\"/html/body/div/div[2]/div[3]/div/div/div[3]/div/div/div/input\")\n",
    "search_field_location.send_keys(\"Bangalore\")"
   ]
  },
  {
   "cell_type": "code",
   "execution_count": 35,
   "id": "fb4c49c5",
   "metadata": {
    "collapsed": true
   },
   "outputs": [],
   "source": [
    "search_button=driver.find_element_by_xpath(\"/html/body/div/div[2]/div[3]/div/div/div[6]\")\n",
    "search_button.click()"
   ]
  },
  {
   "cell_type": "code",
   "execution_count": 36,
   "id": "db8dd825",
   "metadata": {
    "collapsed": true
   },
   "outputs": [],
   "source": [
    "job_titles=[]\n",
    "company_names=[]\n",
    "locations_list=[]"
   ]
  },
  {
   "cell_type": "code",
   "execution_count": 37,
   "id": "23d7b51e",
   "metadata": {
    "collapsed": true
   },
   "outputs": [
    {
     "data": {
      "text/plain": [
       "[<selenium.webdriver.remote.webelement.WebElement (session=\"38dd1f9f86523a0c91e25b2b97182157\", element=\"ff758e52-e8c5-4641-815d-d59b1324b535\")>,\n",
       " <selenium.webdriver.remote.webelement.WebElement (session=\"38dd1f9f86523a0c91e25b2b97182157\", element=\"553af9d5-85a4-407e-aaec-93d624ca5df7\")>,\n",
       " <selenium.webdriver.remote.webelement.WebElement (session=\"38dd1f9f86523a0c91e25b2b97182157\", element=\"4d30ac82-388e-49ce-89f0-ddec7f36e27a\")>,\n",
       " <selenium.webdriver.remote.webelement.WebElement (session=\"38dd1f9f86523a0c91e25b2b97182157\", element=\"e251a4fb-64e6-4c69-9fbc-c3238f479209\")>,\n",
       " <selenium.webdriver.remote.webelement.WebElement (session=\"38dd1f9f86523a0c91e25b2b97182157\", element=\"34c243e3-ca38-4060-b67d-33d73bff9203\")>,\n",
       " <selenium.webdriver.remote.webelement.WebElement (session=\"38dd1f9f86523a0c91e25b2b97182157\", element=\"0eaf1025-4580-4eca-8294-0ca6581ff89f\")>,\n",
       " <selenium.webdriver.remote.webelement.WebElement (session=\"38dd1f9f86523a0c91e25b2b97182157\", element=\"ba83833d-37fe-4c73-9ef7-be872356a29b\")>,\n",
       " <selenium.webdriver.remote.webelement.WebElement (session=\"38dd1f9f86523a0c91e25b2b97182157\", element=\"878ab24b-224d-4fc0-974a-880e8b03984e\")>,\n",
       " <selenium.webdriver.remote.webelement.WebElement (session=\"38dd1f9f86523a0c91e25b2b97182157\", element=\"df2c232e-3465-4f1e-8b72-b71e4edae262\")>,\n",
       " <selenium.webdriver.remote.webelement.WebElement (session=\"38dd1f9f86523a0c91e25b2b97182157\", element=\"78deb778-c9b3-4ce0-b973-fa92cd9fed6b\")>]"
      ]
     },
     "execution_count": 37,
     "metadata": {},
     "output_type": "execute_result"
    }
   ],
   "source": [
    "titles_tags=driver.find_elements_by_xpath(\"//a[@class='title fw500 ellipsis']\")\n",
    "titles_tags[0:10]"
   ]
  },
  {
   "cell_type": "code",
   "execution_count": 38,
   "id": "10260d93",
   "metadata": {
    "collapsed": true
   },
   "outputs": [
    {
     "data": {
      "text/plain": [
       "['Senior Data Scientist',\n",
       " 'Data Scientist: Advanced Analytics',\n",
       " 'Data Scientist',\n",
       " 'Data Scientist: Artificial Intelligence',\n",
       " 'Data Scientist: Artificial Intelligence',\n",
       " 'Data Scientist: Artificial Intelligence',\n",
       " 'Data Scientist: Artificial Intelligence',\n",
       " 'Data Scientist, Machine Learning (AIML)',\n",
       " 'Sr. Data Scientist',\n",
       " 'Lead Data Scientist']"
      ]
     },
     "execution_count": 38,
     "metadata": {},
     "output_type": "execute_result"
    }
   ],
   "source": [
    "for i in titles_tags:\n",
    "    title=i.text\n",
    "    job_titles.append(title)\n",
    "job_titles[0:10]"
   ]
  },
  {
   "cell_type": "code",
   "execution_count": 39,
   "id": "459688b3",
   "metadata": {
    "collapsed": true
   },
   "outputs": [
    {
     "data": {
      "text/plain": [
       "[<selenium.webdriver.remote.webelement.WebElement (session=\"38dd1f9f86523a0c91e25b2b97182157\", element=\"ef2d0b36-4224-47f7-89d3-7053721e43b6\")>,\n",
       " <selenium.webdriver.remote.webelement.WebElement (session=\"38dd1f9f86523a0c91e25b2b97182157\", element=\"aa159cd7-e509-445b-a001-1e8d44316aa7\")>,\n",
       " <selenium.webdriver.remote.webelement.WebElement (session=\"38dd1f9f86523a0c91e25b2b97182157\", element=\"949c85df-8119-451f-a4d1-dbccb52204ab\")>,\n",
       " <selenium.webdriver.remote.webelement.WebElement (session=\"38dd1f9f86523a0c91e25b2b97182157\", element=\"25784cbf-238a-49ce-9172-d8bd60a1fe30\")>,\n",
       " <selenium.webdriver.remote.webelement.WebElement (session=\"38dd1f9f86523a0c91e25b2b97182157\", element=\"81494bc4-4437-4c3c-81bf-e00c80d1e384\")>,\n",
       " <selenium.webdriver.remote.webelement.WebElement (session=\"38dd1f9f86523a0c91e25b2b97182157\", element=\"4c00a27e-620f-4a6c-874f-154ca26bee40\")>,\n",
       " <selenium.webdriver.remote.webelement.WebElement (session=\"38dd1f9f86523a0c91e25b2b97182157\", element=\"24622a78-0d79-437d-977b-82e9239287f7\")>,\n",
       " <selenium.webdriver.remote.webelement.WebElement (session=\"38dd1f9f86523a0c91e25b2b97182157\", element=\"3103c881-b12f-4cfb-a133-225871792025\")>,\n",
       " <selenium.webdriver.remote.webelement.WebElement (session=\"38dd1f9f86523a0c91e25b2b97182157\", element=\"9bb08c1c-a41d-4cc8-9ab2-f93c83561316\")>,\n",
       " <selenium.webdriver.remote.webelement.WebElement (session=\"38dd1f9f86523a0c91e25b2b97182157\", element=\"869bb2fd-7791-4f98-a726-8092aa77328f\")>]"
      ]
     },
     "execution_count": 39,
     "metadata": {},
     "output_type": "execute_result"
    }
   ],
   "source": [
    "companies_tags=driver.find_elements_by_xpath(\"//a[@class='subTitle ellipsis fleft']\")\n",
    "companies_tags[0:10]"
   ]
  },
  {
   "cell_type": "code",
   "execution_count": 42,
   "id": "ee5d7b4a",
   "metadata": {
    "collapsed": true
   },
   "outputs": [
    {
     "data": {
      "text/plain": [
       "['Fractal Analytics',\n",
       " 'IBM',\n",
       " 'VISA',\n",
       " 'IBM',\n",
       " 'IBM',\n",
       " 'IBM',\n",
       " 'IBM',\n",
       " 'Fractal Analytics',\n",
       " \"HUDSON'S BAY SERVICES PRIVATE LIMITED\",\n",
       " 'TransOrg Solutions Services (P) Ltd.']"
      ]
     },
     "execution_count": 42,
     "metadata": {},
     "output_type": "execute_result"
    }
   ],
   "source": [
    "for i in companies_tags:\n",
    "    company_name=i.text\n",
    "    company_names.append(company_name)\n",
    "company_names[0:10]"
   ]
  },
  {
   "cell_type": "code",
   "execution_count": 43,
   "id": "0c96ff34",
   "metadata": {
    "collapsed": true
   },
   "outputs": [
    {
     "data": {
      "text/plain": [
       "[<selenium.webdriver.remote.webelement.WebElement (session=\"38dd1f9f86523a0c91e25b2b97182157\", element=\"455a9f50-c876-40d9-a766-a8b09cf6d645\")>,\n",
       " <selenium.webdriver.remote.webelement.WebElement (session=\"38dd1f9f86523a0c91e25b2b97182157\", element=\"db9489d0-2425-4131-8c16-7048bd99835f\")>,\n",
       " <selenium.webdriver.remote.webelement.WebElement (session=\"38dd1f9f86523a0c91e25b2b97182157\", element=\"ddba3589-bb25-4369-9613-d973cd4064a0\")>,\n",
       " <selenium.webdriver.remote.webelement.WebElement (session=\"38dd1f9f86523a0c91e25b2b97182157\", element=\"e3a1ae3e-1a53-4d85-a18b-13375597e949\")>,\n",
       " <selenium.webdriver.remote.webelement.WebElement (session=\"38dd1f9f86523a0c91e25b2b97182157\", element=\"552e20f9-2ac8-46b3-8103-22855a3a4da8\")>,\n",
       " <selenium.webdriver.remote.webelement.WebElement (session=\"38dd1f9f86523a0c91e25b2b97182157\", element=\"1ae57487-6f42-42bc-9190-1874a4ae1143\")>,\n",
       " <selenium.webdriver.remote.webelement.WebElement (session=\"38dd1f9f86523a0c91e25b2b97182157\", element=\"dd391678-8912-4e82-b5c5-6881c73b2aff\")>,\n",
       " <selenium.webdriver.remote.webelement.WebElement (session=\"38dd1f9f86523a0c91e25b2b97182157\", element=\"8007b91e-d2cd-435f-9ff1-b761705c54d6\")>,\n",
       " <selenium.webdriver.remote.webelement.WebElement (session=\"38dd1f9f86523a0c91e25b2b97182157\", element=\"98ef8f18-d667-4ba8-a482-97aa139d6247\")>,\n",
       " <selenium.webdriver.remote.webelement.WebElement (session=\"38dd1f9f86523a0c91e25b2b97182157\", element=\"1b24e8fe-66cf-4786-b640-ffe7f291d16a\")>]"
      ]
     },
     "execution_count": 43,
     "metadata": {},
     "output_type": "execute_result"
    }
   ],
   "source": [
    "locations_tags=driver.find_elements_by_xpath(\"//li[@class='fleft grey-text br2 placeHolderLi location']\")\n",
    "locations_tags[0:10]"
   ]
  },
  {
   "cell_type": "code",
   "execution_count": 44,
   "id": "1aedf5fe",
   "metadata": {
    "collapsed": true
   },
   "outputs": [
    {
     "data": {
      "text/plain": [
       "['Bangalore/Bengaluru',\n",
       " 'Bengaluru/Bangalore',\n",
       " 'Bangalore/Bengaluru',\n",
       " 'Bangalore/Bengaluru',\n",
       " 'Bengaluru/Bangalore',\n",
       " 'Bengaluru/Bangalore',\n",
       " 'Bengaluru/Bangalore',\n",
       " 'Bangalore/Bengaluru',\n",
       " 'Bangalore/Bengaluru',\n",
       " 'Bangalore/Bengaluru, Delhi / NCR, Mumbai (All Areas)\\n(WFH during Covid)']"
      ]
     },
     "execution_count": 44,
     "metadata": {},
     "output_type": "execute_result"
    }
   ],
   "source": [
    "for i in locations_tags:\n",
    "    location=i.text\n",
    "    locations_list.append(location)\n",
    "locations_list[0:10]"
   ]
  },
  {
   "cell_type": "code",
   "execution_count": 45,
   "id": "6b980952",
   "metadata": {
    "collapsed": true
   },
   "outputs": [
    {
     "name": "stdout",
     "output_type": "stream",
     "text": [
      "20 20 20\n"
     ]
    }
   ],
   "source": [
    "print(len(job_titles),len(company_names),len(locations_list))"
   ]
  },
  {
   "cell_type": "code",
   "execution_count": 49,
   "id": "ac17317b",
   "metadata": {
    "collapsed": true
   },
   "outputs": [],
   "source": [
    "jobs=pd.DataFrame({})\n",
    "jobs['titles']=job_titles\n",
    "jobs['company']=company_names\n",
    "jobs['location']=locations_list"
   ]
  },
  {
   "cell_type": "code",
   "execution_count": 50,
   "id": "157d3958",
   "metadata": {},
   "outputs": [
    {
     "data": {
      "text/html": [
       "<div>\n",
       "<style scoped>\n",
       "    .dataframe tbody tr th:only-of-type {\n",
       "        vertical-align: middle;\n",
       "    }\n",
       "\n",
       "    .dataframe tbody tr th {\n",
       "        vertical-align: top;\n",
       "    }\n",
       "\n",
       "    .dataframe thead th {\n",
       "        text-align: right;\n",
       "    }\n",
       "</style>\n",
       "<table border=\"1\" class=\"dataframe\">\n",
       "  <thead>\n",
       "    <tr style=\"text-align: right;\">\n",
       "      <th></th>\n",
       "      <th>titles</th>\n",
       "      <th>company</th>\n",
       "      <th>location</th>\n",
       "    </tr>\n",
       "  </thead>\n",
       "  <tbody>\n",
       "    <tr>\n",
       "      <th>0</th>\n",
       "      <td>Senior Data Scientist</td>\n",
       "      <td>Fractal Analytics</td>\n",
       "      <td>Bangalore/Bengaluru</td>\n",
       "    </tr>\n",
       "    <tr>\n",
       "      <th>1</th>\n",
       "      <td>Data Scientist: Advanced Analytics</td>\n",
       "      <td>IBM</td>\n",
       "      <td>Bengaluru/Bangalore</td>\n",
       "    </tr>\n",
       "    <tr>\n",
       "      <th>2</th>\n",
       "      <td>Data Scientist</td>\n",
       "      <td>VISA</td>\n",
       "      <td>Bangalore/Bengaluru</td>\n",
       "    </tr>\n",
       "    <tr>\n",
       "      <th>3</th>\n",
       "      <td>Data Scientist: Artificial Intelligence</td>\n",
       "      <td>IBM</td>\n",
       "      <td>Bangalore/Bengaluru</td>\n",
       "    </tr>\n",
       "    <tr>\n",
       "      <th>4</th>\n",
       "      <td>Data Scientist: Artificial Intelligence</td>\n",
       "      <td>IBM</td>\n",
       "      <td>Bengaluru/Bangalore</td>\n",
       "    </tr>\n",
       "    <tr>\n",
       "      <th>5</th>\n",
       "      <td>Data Scientist: Artificial Intelligence</td>\n",
       "      <td>IBM</td>\n",
       "      <td>Bengaluru/Bangalore</td>\n",
       "    </tr>\n",
       "    <tr>\n",
       "      <th>6</th>\n",
       "      <td>Data Scientist: Artificial Intelligence</td>\n",
       "      <td>IBM</td>\n",
       "      <td>Bengaluru/Bangalore</td>\n",
       "    </tr>\n",
       "    <tr>\n",
       "      <th>7</th>\n",
       "      <td>Data Scientist, Machine Learning (AIML)</td>\n",
       "      <td>Fractal Analytics</td>\n",
       "      <td>Bangalore/Bengaluru</td>\n",
       "    </tr>\n",
       "    <tr>\n",
       "      <th>8</th>\n",
       "      <td>Sr. Data Scientist</td>\n",
       "      <td>HUDSON'S BAY SERVICES PRIVATE LIMITED</td>\n",
       "      <td>Bangalore/Bengaluru</td>\n",
       "    </tr>\n",
       "    <tr>\n",
       "      <th>9</th>\n",
       "      <td>Lead Data Scientist</td>\n",
       "      <td>TransOrg Solutions Services (P) Ltd.</td>\n",
       "      <td>Bangalore/Bengaluru, Delhi / NCR, Mumbai (All ...</td>\n",
       "    </tr>\n",
       "  </tbody>\n",
       "</table>\n",
       "</div>"
      ],
      "text/plain": [
       "                                    titles  \\\n",
       "0                    Senior Data Scientist   \n",
       "1       Data Scientist: Advanced Analytics   \n",
       "2                           Data Scientist   \n",
       "3  Data Scientist: Artificial Intelligence   \n",
       "4  Data Scientist: Artificial Intelligence   \n",
       "5  Data Scientist: Artificial Intelligence   \n",
       "6  Data Scientist: Artificial Intelligence   \n",
       "7  Data Scientist, Machine Learning (AIML)   \n",
       "8                       Sr. Data Scientist   \n",
       "9                      Lead Data Scientist   \n",
       "\n",
       "                                 company  \\\n",
       "0                      Fractal Analytics   \n",
       "1                                    IBM   \n",
       "2                                   VISA   \n",
       "3                                    IBM   \n",
       "4                                    IBM   \n",
       "5                                    IBM   \n",
       "6                                    IBM   \n",
       "7                      Fractal Analytics   \n",
       "8  HUDSON'S BAY SERVICES PRIVATE LIMITED   \n",
       "9   TransOrg Solutions Services (P) Ltd.   \n",
       "\n",
       "                                            location  \n",
       "0                                Bangalore/Bengaluru  \n",
       "1                                Bengaluru/Bangalore  \n",
       "2                                Bangalore/Bengaluru  \n",
       "3                                Bangalore/Bengaluru  \n",
       "4                                Bengaluru/Bangalore  \n",
       "5                                Bengaluru/Bangalore  \n",
       "6                                Bengaluru/Bangalore  \n",
       "7                                Bangalore/Bengaluru  \n",
       "8                                Bangalore/Bengaluru  \n",
       "9  Bangalore/Bengaluru, Delhi / NCR, Mumbai (All ...  "
      ]
     },
     "execution_count": 50,
     "metadata": {},
     "output_type": "execute_result"
    }
   ],
   "source": [
    "jobs[0:10]"
   ]
  },
  {
   "cell_type": "code",
   "execution_count": null,
   "id": "c1692025",
   "metadata": {
    "collapsed": true
   },
   "outputs": [],
   "source": []
  },
  {
   "cell_type": "markdown",
   "id": "4e2909a4",
   "metadata": {},
   "source": [
    "Q3: In this question you have to scrape data using the filters available on the webpage as shown below:\n",
    "ASSIGNMENT 2\n",
    "You have to use the location and salary filter.\n",
    "You have to scrape data for “Data Scientist” designation for first 10 job results.\n",
    "You have to scrape the job-title, job-location, company name, experience required. The location filter to be used is “Delhi/NCR”. The salary filter to be used is “3-6” lakhs\n",
    "The task will be done as shown in the below steps:\n",
    "1. first get the webpage https://www.naukri.com/\n",
    "2. Enter “Data Scientist” in “Skill, Designations, and Companies” field.\n",
    "3. Then click the search button.\n",
    "4. Then apply the location filter and salary filter by checking the respective boxes\n",
    "5. Then scrape the data for the first 10 jobs results you get.\n",
    "6. Finally create a dataframe of the scraped data."
   ]
  },
  {
   "cell_type": "code",
   "execution_count": 67,
   "id": "b8909382",
   "metadata": {
    "collapsed": true
   },
   "outputs": [],
   "source": [
    "import selenium\n",
    "import pandas as pd\n",
    "from selenium import webdriver\n",
    "import warnings\n",
    "warnings.filterwarnings(\"ignore\")\n",
    "import time\n",
    "import numpy as np"
   ]
  },
  {
   "cell_type": "code",
   "execution_count": 68,
   "id": "6377e663",
   "metadata": {
    "collapsed": true
   },
   "outputs": [],
   "source": [
    "driver = webdriver.Chrome(r\"C:\\Drivers\\my driver\\chromedriver.exe\")"
   ]
  },
  {
   "cell_type": "code",
   "execution_count": 69,
   "id": "bc913711",
   "metadata": {
    "collapsed": true
   },
   "outputs": [],
   "source": [
    "driver=webdriver.Chrome(\"chromedriver.exe\")\n",
    "time.sleep(2)"
   ]
  },
  {
   "cell_type": "code",
   "execution_count": 70,
   "id": "1abb297e",
   "metadata": {
    "collapsed": true
   },
   "outputs": [],
   "source": [
    "driver.get('https://www.naukri.com/')"
   ]
  },
  {
   "cell_type": "code",
   "execution_count": 71,
   "id": "a6a72d50",
   "metadata": {
    "collapsed": true
   },
   "outputs": [],
   "source": [
    "search_field_designation=driver.find_element_by_class_name(\"suggestor-input\")\n",
    "search_field_designation.send_keys(\"Data Science\")"
   ]
  },
  {
   "cell_type": "code",
   "execution_count": 72,
   "id": "f7387946",
   "metadata": {
    "collapsed": true
   },
   "outputs": [],
   "source": [
    "search_button=driver.find_element_by_xpath(\"/html/body/div/div[2]/div[3]/div/div/div[6]\")\n",
    "search_button.click()"
   ]
  },
  {
   "cell_type": "code",
   "execution_count": 73,
   "id": "402c1fbc",
   "metadata": {
    "collapsed": true
   },
   "outputs": [],
   "source": [
    "job_titles=[]\n",
    "company_names=[]\n",
    "locations_list=[]\n",
    "experience_list=[]"
   ]
  },
  {
   "cell_type": "code",
   "execution_count": 74,
   "id": "d3d7029c",
   "metadata": {
    "collapsed": true
   },
   "outputs": [
    {
     "data": {
      "text/plain": [
       "[<selenium.webdriver.remote.webelement.WebElement (session=\"512dde87731fb7894b62696fea9b32f4\", element=\"2975d26a-2eac-4029-9e44-af3adc2b6337\")>,\n",
       " <selenium.webdriver.remote.webelement.WebElement (session=\"512dde87731fb7894b62696fea9b32f4\", element=\"ac77281f-880d-4e8d-a7f3-fac94f942af9\")>,\n",
       " <selenium.webdriver.remote.webelement.WebElement (session=\"512dde87731fb7894b62696fea9b32f4\", element=\"c15e95a0-fb22-4db2-8022-be69ddcda14c\")>,\n",
       " <selenium.webdriver.remote.webelement.WebElement (session=\"512dde87731fb7894b62696fea9b32f4\", element=\"c7b2a32d-8feb-4144-9379-248e5b71e1ad\")>,\n",
       " <selenium.webdriver.remote.webelement.WebElement (session=\"512dde87731fb7894b62696fea9b32f4\", element=\"d6393ad2-d3b6-4374-b3bd-fb87423e687f\")>,\n",
       " <selenium.webdriver.remote.webelement.WebElement (session=\"512dde87731fb7894b62696fea9b32f4\", element=\"f7e9c652-85d2-4105-8ece-aeaa159b7d3d\")>,\n",
       " <selenium.webdriver.remote.webelement.WebElement (session=\"512dde87731fb7894b62696fea9b32f4\", element=\"7d32c983-7f27-4406-a5f2-71c01371d17a\")>,\n",
       " <selenium.webdriver.remote.webelement.WebElement (session=\"512dde87731fb7894b62696fea9b32f4\", element=\"da111bcd-0f1a-4f8c-9185-b298509057b5\")>,\n",
       " <selenium.webdriver.remote.webelement.WebElement (session=\"512dde87731fb7894b62696fea9b32f4\", element=\"7060a6c2-92f4-49c0-83f5-babedc86b36e\")>,\n",
       " <selenium.webdriver.remote.webelement.WebElement (session=\"512dde87731fb7894b62696fea9b32f4\", element=\"56977d26-7442-45f3-8064-193055e12e45\")>]"
      ]
     },
     "execution_count": 74,
     "metadata": {},
     "output_type": "execute_result"
    }
   ],
   "source": [
    "titles_tags=driver.find_elements_by_xpath(\"//a[@class='title fw500 ellipsis']\")\n",
    "titles_tags[0:10]"
   ]
  },
  {
   "cell_type": "code",
   "execution_count": 75,
   "id": "0e0ad25d",
   "metadata": {
    "collapsed": true
   },
   "outputs": [
    {
     "data": {
      "text/plain": [
       "['Senior Research Analyst/ Team Lead',\n",
       " 'Social Media Analyst',\n",
       " 'Conversational AI',\n",
       " 'AI Technologist',\n",
       " 'Business Analyst / Assistant Manager: Credit & Fraud Risk',\n",
       " 'Social Media - Sr. Analyst',\n",
       " 'Azure Data Engineer',\n",
       " 'Azure Data Engineer',\n",
       " 'Senior Data Scientist Lead',\n",
       " 'Job | Business Analyst | RPA (Uipath) II HCL Technologies']"
      ]
     },
     "execution_count": 75,
     "metadata": {},
     "output_type": "execute_result"
    }
   ],
   "source": [
    "for i in titles_tags:\n",
    "    title=i.text\n",
    "    job_titles.append(title)\n",
    "job_titles[0:10]"
   ]
  },
  {
   "cell_type": "code",
   "execution_count": 76,
   "id": "f9dcb8d0",
   "metadata": {
    "collapsed": true
   },
   "outputs": [
    {
     "data": {
      "text/plain": [
       "[<selenium.webdriver.remote.webelement.WebElement (session=\"512dde87731fb7894b62696fea9b32f4\", element=\"1058ffc0-bccb-4c5f-bda7-8a1df18867e8\")>,\n",
       " <selenium.webdriver.remote.webelement.WebElement (session=\"512dde87731fb7894b62696fea9b32f4\", element=\"9d79b2a6-5a75-4e3b-b7a1-e3d090b90228\")>,\n",
       " <selenium.webdriver.remote.webelement.WebElement (session=\"512dde87731fb7894b62696fea9b32f4\", element=\"99dc65f1-cecd-47f9-92c7-b18bad11eecb\")>,\n",
       " <selenium.webdriver.remote.webelement.WebElement (session=\"512dde87731fb7894b62696fea9b32f4\", element=\"0634640b-96eb-4b29-b586-f7e44f9ad6ad\")>,\n",
       " <selenium.webdriver.remote.webelement.WebElement (session=\"512dde87731fb7894b62696fea9b32f4\", element=\"8338fba0-437f-40a4-b653-2a562c53949d\")>,\n",
       " <selenium.webdriver.remote.webelement.WebElement (session=\"512dde87731fb7894b62696fea9b32f4\", element=\"982d7e19-9fc9-4222-bd7a-1f981b239bf5\")>,\n",
       " <selenium.webdriver.remote.webelement.WebElement (session=\"512dde87731fb7894b62696fea9b32f4\", element=\"d59fd6bb-48d0-4470-8723-9a12a44ed5a6\")>,\n",
       " <selenium.webdriver.remote.webelement.WebElement (session=\"512dde87731fb7894b62696fea9b32f4\", element=\"f45d0981-d3a7-4dc8-9f25-954391e3b909\")>,\n",
       " <selenium.webdriver.remote.webelement.WebElement (session=\"512dde87731fb7894b62696fea9b32f4\", element=\"2e337bd9-60f8-4d83-81d7-99ea947cc58c\")>,\n",
       " <selenium.webdriver.remote.webelement.WebElement (session=\"512dde87731fb7894b62696fea9b32f4\", element=\"3bf836f8-1d64-4d58-bfc7-69b82dff066e\")>]"
      ]
     },
     "execution_count": 76,
     "metadata": {},
     "output_type": "execute_result"
    }
   ],
   "source": [
    "companies_tags=driver.find_elements_by_xpath(\"//a[@class='subTitle ellipsis fleft']\")\n",
    "companies_tags[0:10]"
   ]
  },
  {
   "cell_type": "code",
   "execution_count": 77,
   "id": "327bce93",
   "metadata": {
    "collapsed": true
   },
   "outputs": [
    {
     "data": {
      "text/plain": [
       "['Olympus Research Global Pvt. Ltd.',\n",
       " 'Concentrix',\n",
       " 'Wipro',\n",
       " 'Wipro',\n",
       " 'AMERICAN EXPRESS',\n",
       " 'Concentrix',\n",
       " 'DXC Technology',\n",
       " 'DXC Technology',\n",
       " 'Wipro',\n",
       " 'HCL Technologies']"
      ]
     },
     "execution_count": 77,
     "metadata": {},
     "output_type": "execute_result"
    }
   ],
   "source": [
    "for i in companies_tags:\n",
    "    company_name=i.text\n",
    "    company_names.append(company_name)\n",
    "company_names[0:10]"
   ]
  },
  {
   "cell_type": "code",
   "execution_count": 78,
   "id": "81382b1b",
   "metadata": {
    "collapsed": true
   },
   "outputs": [
    {
     "data": {
      "text/plain": [
       "[<selenium.webdriver.remote.webelement.WebElement (session=\"512dde87731fb7894b62696fea9b32f4\", element=\"944c42b0-b12e-4260-8e66-c72e930adf5d\")>,\n",
       " <selenium.webdriver.remote.webelement.WebElement (session=\"512dde87731fb7894b62696fea9b32f4\", element=\"aaaf0bef-a34a-46e2-a461-e9c131661015\")>,\n",
       " <selenium.webdriver.remote.webelement.WebElement (session=\"512dde87731fb7894b62696fea9b32f4\", element=\"f302ba29-adca-48c1-b681-d9d5874fd520\")>,\n",
       " <selenium.webdriver.remote.webelement.WebElement (session=\"512dde87731fb7894b62696fea9b32f4\", element=\"9185fd6f-a720-4ee2-8a56-0cb3a105af3e\")>,\n",
       " <selenium.webdriver.remote.webelement.WebElement (session=\"512dde87731fb7894b62696fea9b32f4\", element=\"1c5012f3-b467-451e-8f6b-20cdf9004b1e\")>,\n",
       " <selenium.webdriver.remote.webelement.WebElement (session=\"512dde87731fb7894b62696fea9b32f4\", element=\"7ab4d929-ef40-42d9-a035-3e6fcaabb7d8\")>,\n",
       " <selenium.webdriver.remote.webelement.WebElement (session=\"512dde87731fb7894b62696fea9b32f4\", element=\"7b28a59d-807e-4fe5-9d51-64b8ee42d489\")>,\n",
       " <selenium.webdriver.remote.webelement.WebElement (session=\"512dde87731fb7894b62696fea9b32f4\", element=\"3e6da99e-dd24-4661-9e67-22ba71dee526\")>,\n",
       " <selenium.webdriver.remote.webelement.WebElement (session=\"512dde87731fb7894b62696fea9b32f4\", element=\"8230b3fd-e170-4b14-aea3-23c85789d17d\")>,\n",
       " <selenium.webdriver.remote.webelement.WebElement (session=\"512dde87731fb7894b62696fea9b32f4\", element=\"65126f4c-e174-485c-a2a5-4d0f6a864372\")>]"
      ]
     },
     "execution_count": 78,
     "metadata": {},
     "output_type": "execute_result"
    }
   ],
   "source": [
    "experience_tags=driver.find_elements_by_xpath(\"//li[@class='fleft grey-text br2 placeHolderLi experience']\")\n",
    "experience_tags[0:10]"
   ]
  },
  {
   "cell_type": "code",
   "execution_count": 79,
   "id": "05a94e61",
   "metadata": {
    "collapsed": true
   },
   "outputs": [
    {
     "data": {
      "text/plain": [
       "['2-5 Yrs',\n",
       " '3-6 Yrs',\n",
       " '5-10 Yrs',\n",
       " '5-10 Yrs',\n",
       " '0-3 Yrs',\n",
       " '3-6 Yrs',\n",
       " '4-9 Yrs',\n",
       " '4-9 Yrs',\n",
       " '6-11 Yrs',\n",
       " '2-7 Yrs']"
      ]
     },
     "execution_count": 79,
     "metadata": {},
     "output_type": "execute_result"
    }
   ],
   "source": [
    "for i in experience_tags :\n",
    "    experience=i.text\n",
    "    experience_list.append(experience)\n",
    "experience_list[0:10]"
   ]
  },
  {
   "cell_type": "code",
   "execution_count": 80,
   "id": "5aa0d2e0",
   "metadata": {
    "collapsed": true
   },
   "outputs": [
    {
     "data": {
      "text/plain": [
       "[<selenium.webdriver.remote.webelement.WebElement (session=\"512dde87731fb7894b62696fea9b32f4\", element=\"f532bdf1-782f-4da8-bb97-a803b7aabf16\")>,\n",
       " <selenium.webdriver.remote.webelement.WebElement (session=\"512dde87731fb7894b62696fea9b32f4\", element=\"4712c4c3-6765-4315-8fc5-1b557283330f\")>,\n",
       " <selenium.webdriver.remote.webelement.WebElement (session=\"512dde87731fb7894b62696fea9b32f4\", element=\"2b00e818-2696-41d8-a45b-0035889aadf8\")>,\n",
       " <selenium.webdriver.remote.webelement.WebElement (session=\"512dde87731fb7894b62696fea9b32f4\", element=\"3ff97fc9-47e6-43dd-a4d9-2f9263e78ea5\")>,\n",
       " <selenium.webdriver.remote.webelement.WebElement (session=\"512dde87731fb7894b62696fea9b32f4\", element=\"337e16fc-a639-43c0-b278-9d45a0c7f0d8\")>,\n",
       " <selenium.webdriver.remote.webelement.WebElement (session=\"512dde87731fb7894b62696fea9b32f4\", element=\"620a75f0-cb25-4e5e-b8d8-d63d91510a2a\")>,\n",
       " <selenium.webdriver.remote.webelement.WebElement (session=\"512dde87731fb7894b62696fea9b32f4\", element=\"ac0af506-31f9-4990-a4df-529cbd793560\")>,\n",
       " <selenium.webdriver.remote.webelement.WebElement (session=\"512dde87731fb7894b62696fea9b32f4\", element=\"7a980085-661c-45fb-ab79-601c89b2ea51\")>,\n",
       " <selenium.webdriver.remote.webelement.WebElement (session=\"512dde87731fb7894b62696fea9b32f4\", element=\"20b07624-0db3-4b6e-a5cc-e1e78644de22\")>,\n",
       " <selenium.webdriver.remote.webelement.WebElement (session=\"512dde87731fb7894b62696fea9b32f4\", element=\"d4154e14-d9e9-45f7-a988-5071ecd43774\")>]"
      ]
     },
     "execution_count": 80,
     "metadata": {},
     "output_type": "execute_result"
    }
   ],
   "source": [
    "locations_tags=driver.find_elements_by_xpath(\"//li[@class='fleft grey-text br2 placeHolderLi location']\")\n",
    "locations_tags[0:10]"
   ]
  },
  {
   "cell_type": "code",
   "execution_count": 81,
   "id": "cbd44575",
   "metadata": {
    "collapsed": true
   },
   "outputs": [
    {
     "data": {
      "text/plain": [
       "['Delhi / NCR(A1 Block Janakpuri)',\n",
       " 'Pune, Gurgaon/Gurugram, Bangalore/Bengaluru, Delhi / NCR, Mumbai (All Areas)',\n",
       " 'Kolkata, Hyderabad/Secunderabad, Pune, Ahmedabad, Chennai, Bangalore/Bengaluru, Delhi / NCR, Mumbai (All Areas)',\n",
       " 'Kochi/Cochin, Kolkata, Hyderabad/Secunderabad, Pune, Ahmedabad, Chennai, Bangalore/Bengaluru, Delhi / NCR, Mumbai (All Areas)',\n",
       " 'Bangalore/Bengaluru, Delhi / NCR, Mumbai (All Areas)',\n",
       " 'Pune, Bangalore/Bengaluru, Delhi / NCR, Mumbai (All Areas)',\n",
       " 'Kolkata, Hyderabad/Secunderabad, Pune, Chennai, Bangalore/Bengaluru, Delhi / NCR, Mumbai (All Areas)',\n",
       " 'Kolkata, Hyderabad/Secunderabad, Pune, Chennai, Bangalore/Bengaluru, Delhi / NCR, Mumbai (All Areas)',\n",
       " 'Kolkata, Hyderabad/Secunderabad, Pune, Chennai, Bangalore/Bengaluru, Delhi / NCR, Mumbai (All Areas)',\n",
       " 'Noida, Mumbai, Hyderabad/Secunderabad, Pune, Chennai, Bangalore/Bengaluru\\n(WFH during Covid)']"
      ]
     },
     "execution_count": 81,
     "metadata": {},
     "output_type": "execute_result"
    }
   ],
   "source": [
    "for i in locations_tags:\n",
    "    location=i.text\n",
    "    locations_list.append(location)\n",
    "locations_list[0:10]"
   ]
  },
  {
   "cell_type": "code",
   "execution_count": 82,
   "id": "72758aef",
   "metadata": {
    "collapsed": true
   },
   "outputs": [
    {
     "name": "stdout",
     "output_type": "stream",
     "text": [
      "20 20 20 20\n"
     ]
    }
   ],
   "source": [
    "print(len(job_titles),len(company_names),len(experience_list),len(locations_list))"
   ]
  },
  {
   "cell_type": "code",
   "execution_count": 83,
   "id": "fe4294d3",
   "metadata": {
    "collapsed": true
   },
   "outputs": [],
   "source": [
    "jobs=pd.DataFrame({})\n",
    "jobs['title']=job_titles\n",
    "jobs['company']=company_names\n",
    "jobs['experiece_required']=experience_list\n",
    "jobs['location']=locations_list"
   ]
  },
  {
   "cell_type": "code",
   "execution_count": 86,
   "id": "43505ca4",
   "metadata": {},
   "outputs": [
    {
     "data": {
      "text/html": [
       "<div>\n",
       "<style scoped>\n",
       "    .dataframe tbody tr th:only-of-type {\n",
       "        vertical-align: middle;\n",
       "    }\n",
       "\n",
       "    .dataframe tbody tr th {\n",
       "        vertical-align: top;\n",
       "    }\n",
       "\n",
       "    .dataframe thead th {\n",
       "        text-align: right;\n",
       "    }\n",
       "</style>\n",
       "<table border=\"1\" class=\"dataframe\">\n",
       "  <thead>\n",
       "    <tr style=\"text-align: right;\">\n",
       "      <th></th>\n",
       "      <th>title</th>\n",
       "      <th>company</th>\n",
       "      <th>experiece_required</th>\n",
       "      <th>location</th>\n",
       "    </tr>\n",
       "  </thead>\n",
       "  <tbody>\n",
       "    <tr>\n",
       "      <th>0</th>\n",
       "      <td>Senior Research Analyst/ Team Lead</td>\n",
       "      <td>Olympus Research Global Pvt. Ltd.</td>\n",
       "      <td>2-5 Yrs</td>\n",
       "      <td>Delhi / NCR(A1 Block Janakpuri)</td>\n",
       "    </tr>\n",
       "    <tr>\n",
       "      <th>1</th>\n",
       "      <td>Social Media Analyst</td>\n",
       "      <td>Concentrix</td>\n",
       "      <td>3-6 Yrs</td>\n",
       "      <td>Pune, Gurgaon/Gurugram, Bangalore/Bengaluru, D...</td>\n",
       "    </tr>\n",
       "    <tr>\n",
       "      <th>2</th>\n",
       "      <td>Conversational AI</td>\n",
       "      <td>Wipro</td>\n",
       "      <td>5-10 Yrs</td>\n",
       "      <td>Kolkata, Hyderabad/Secunderabad, Pune, Ahmedab...</td>\n",
       "    </tr>\n",
       "    <tr>\n",
       "      <th>3</th>\n",
       "      <td>AI Technologist</td>\n",
       "      <td>Wipro</td>\n",
       "      <td>5-10 Yrs</td>\n",
       "      <td>Kochi/Cochin, Kolkata, Hyderabad/Secunderabad,...</td>\n",
       "    </tr>\n",
       "    <tr>\n",
       "      <th>4</th>\n",
       "      <td>Business Analyst / Assistant Manager: Credit &amp;...</td>\n",
       "      <td>AMERICAN EXPRESS</td>\n",
       "      <td>0-3 Yrs</td>\n",
       "      <td>Bangalore/Bengaluru, Delhi / NCR, Mumbai (All ...</td>\n",
       "    </tr>\n",
       "    <tr>\n",
       "      <th>5</th>\n",
       "      <td>Social Media - Sr. Analyst</td>\n",
       "      <td>Concentrix</td>\n",
       "      <td>3-6 Yrs</td>\n",
       "      <td>Pune, Bangalore/Bengaluru, Delhi / NCR, Mumbai...</td>\n",
       "    </tr>\n",
       "    <tr>\n",
       "      <th>6</th>\n",
       "      <td>Azure Data Engineer</td>\n",
       "      <td>DXC Technology</td>\n",
       "      <td>4-9 Yrs</td>\n",
       "      <td>Kolkata, Hyderabad/Secunderabad, Pune, Chennai...</td>\n",
       "    </tr>\n",
       "    <tr>\n",
       "      <th>7</th>\n",
       "      <td>Azure Data Engineer</td>\n",
       "      <td>DXC Technology</td>\n",
       "      <td>4-9 Yrs</td>\n",
       "      <td>Kolkata, Hyderabad/Secunderabad, Pune, Chennai...</td>\n",
       "    </tr>\n",
       "    <tr>\n",
       "      <th>8</th>\n",
       "      <td>Senior Data Scientist Lead</td>\n",
       "      <td>Wipro</td>\n",
       "      <td>6-11 Yrs</td>\n",
       "      <td>Kolkata, Hyderabad/Secunderabad, Pune, Chennai...</td>\n",
       "    </tr>\n",
       "    <tr>\n",
       "      <th>9</th>\n",
       "      <td>Job | Business Analyst | RPA (Uipath) II HCL T...</td>\n",
       "      <td>HCL Technologies</td>\n",
       "      <td>2-7 Yrs</td>\n",
       "      <td>Noida, Mumbai, Hyderabad/Secunderabad, Pune, C...</td>\n",
       "    </tr>\n",
       "  </tbody>\n",
       "</table>\n",
       "</div>"
      ],
      "text/plain": [
       "                                               title  \\\n",
       "0                 Senior Research Analyst/ Team Lead   \n",
       "1                               Social Media Analyst   \n",
       "2                                  Conversational AI   \n",
       "3                                    AI Technologist   \n",
       "4  Business Analyst / Assistant Manager: Credit &...   \n",
       "5                         Social Media - Sr. Analyst   \n",
       "6                                Azure Data Engineer   \n",
       "7                                Azure Data Engineer   \n",
       "8                         Senior Data Scientist Lead   \n",
       "9  Job | Business Analyst | RPA (Uipath) II HCL T...   \n",
       "\n",
       "                             company experiece_required  \\\n",
       "0  Olympus Research Global Pvt. Ltd.            2-5 Yrs   \n",
       "1                         Concentrix            3-6 Yrs   \n",
       "2                              Wipro           5-10 Yrs   \n",
       "3                              Wipro           5-10 Yrs   \n",
       "4                   AMERICAN EXPRESS            0-3 Yrs   \n",
       "5                         Concentrix            3-6 Yrs   \n",
       "6                     DXC Technology            4-9 Yrs   \n",
       "7                     DXC Technology            4-9 Yrs   \n",
       "8                              Wipro           6-11 Yrs   \n",
       "9                   HCL Technologies            2-7 Yrs   \n",
       "\n",
       "                                            location  \n",
       "0                    Delhi / NCR(A1 Block Janakpuri)  \n",
       "1  Pune, Gurgaon/Gurugram, Bangalore/Bengaluru, D...  \n",
       "2  Kolkata, Hyderabad/Secunderabad, Pune, Ahmedab...  \n",
       "3  Kochi/Cochin, Kolkata, Hyderabad/Secunderabad,...  \n",
       "4  Bangalore/Bengaluru, Delhi / NCR, Mumbai (All ...  \n",
       "5  Pune, Bangalore/Bengaluru, Delhi / NCR, Mumbai...  \n",
       "6  Kolkata, Hyderabad/Secunderabad, Pune, Chennai...  \n",
       "7  Kolkata, Hyderabad/Secunderabad, Pune, Chennai...  \n",
       "8  Kolkata, Hyderabad/Secunderabad, Pune, Chennai...  \n",
       "9  Noida, Mumbai, Hyderabad/Secunderabad, Pune, C...  "
      ]
     },
     "execution_count": 86,
     "metadata": {},
     "output_type": "execute_result"
    }
   ],
   "source": [
    "jobs[0:10]"
   ]
  },
  {
   "cell_type": "code",
   "execution_count": null,
   "id": "eccdad51",
   "metadata": {
    "collapsed": true
   },
   "outputs": [],
   "source": []
  },
  {
   "cell_type": "markdown",
   "id": "2928c6d6",
   "metadata": {},
   "source": [
    "Q4: Scrape data of first 100 sunglasses listings on flipkart.com. You have to scrape four attributes:\n",
    "1. Brand\n",
    "2. Product Description\n",
    "3. Price\n",
    "\n",
    "To scrape the data you have to go through following steps:\n",
    "\n",
    "1. Go to Flipkart webpage by url : https://www.flipkart.com/\n",
    "2. Enter “sunglasses” in the search field where “search for products, brands andmore” is written and click the search icon\n",
    "3. After that you will reach to the page having a lot of sunglasses. From this pageyou can scrap the required data as usual.\n",
    "4. After scraping data from the first page, go to the “Next” Button at the bottom ofthe page , then click on it.\n",
    "5. Now scrape data from this page as usual\n",
    "6. Repeat this until you get data for 100 sunglasses."
   ]
  },
  {
   "cell_type": "code",
   "execution_count": 156,
   "id": "b2c30e97",
   "metadata": {
    "collapsed": true
   },
   "outputs": [],
   "source": [
    "import selenium\n",
    "import pandas as pd\n",
    "from selenium import webdriver\n",
    "import warnings\n",
    "warnings.filterwarnings(\"ignore\")\n",
    "import time \n",
    "import numpy as np"
   ]
  },
  {
   "cell_type": "code",
   "execution_count": 157,
   "id": "53399e92",
   "metadata": {
    "collapsed": true
   },
   "outputs": [],
   "source": [
    "driver = webdriver.Chrome(r\"C:\\Drivers\\my driver\\chromedriver.exe\")"
   ]
  },
  {
   "cell_type": "code",
   "execution_count": 158,
   "id": "5175144c",
   "metadata": {
    "collapsed": true
   },
   "outputs": [],
   "source": [
    "driver=webdriver.Chrome(\"chromedriver.exe\")\n",
    "time.sleep(2)"
   ]
  },
  {
   "cell_type": "code",
   "execution_count": 159,
   "id": "b4e73afd",
   "metadata": {
    "collapsed": true
   },
   "outputs": [],
   "source": [
    "driver.get('https://www.flipkart.com/')"
   ]
  },
  {
   "cell_type": "code",
   "execution_count": 160,
   "id": "eabfd60b",
   "metadata": {
    "collapsed": true
   },
   "outputs": [],
   "source": [
    "search_products_brands=driver.find_element_by_class_name(\"_3704LK\")\n",
    "search_products_brands.send_keys(\"sunglasses\")"
   ]
  },
  {
   "cell_type": "code",
   "execution_count": 161,
   "id": "4024b0db",
   "metadata": {
    "collapsed": true
   },
   "outputs": [],
   "source": [
    "search_button=driver.find_element_by_xpath(\"/html/body/div[1]/div/div[1]/div[1]/div[2]/div[2]/form/div/button\")\n",
    "search_button.click()"
   ]
  },
  {
   "cell_type": "code",
   "execution_count": 162,
   "id": "f175ae73",
   "metadata": {
    "collapsed": true
   },
   "outputs": [],
   "source": [
    "brand_names=[]\n",
    "product_descriptions=[]\n",
    "price_list=[]"
   ]
  },
  {
   "cell_type": "code",
   "execution_count": 166,
   "id": "71c12853",
   "metadata": {
    "collapsed": true
   },
   "outputs": [
    {
     "data": {
      "text/plain": [
       "[<selenium.webdriver.remote.webelement.WebElement (session=\"7190b8fa85c6bacfb3b010d786776143\", element=\"c25004bd-b771-4fcb-bf0b-011df241b6e1\")>,\n",
       " <selenium.webdriver.remote.webelement.WebElement (session=\"7190b8fa85c6bacfb3b010d786776143\", element=\"2d2f37c7-6b4a-42f5-86f9-6c9a5c6fabd7\")>,\n",
       " <selenium.webdriver.remote.webelement.WebElement (session=\"7190b8fa85c6bacfb3b010d786776143\", element=\"9eeae345-5bc0-476e-a5a0-fbf7d0eb5bc1\")>,\n",
       " <selenium.webdriver.remote.webelement.WebElement (session=\"7190b8fa85c6bacfb3b010d786776143\", element=\"09e0dd4a-f8d7-41eb-ba16-ae9c1d127bd2\")>,\n",
       " <selenium.webdriver.remote.webelement.WebElement (session=\"7190b8fa85c6bacfb3b010d786776143\", element=\"492021ef-4401-432f-b0b5-63080f3a21ee\")>,\n",
       " <selenium.webdriver.remote.webelement.WebElement (session=\"7190b8fa85c6bacfb3b010d786776143\", element=\"e48b2c48-9fe3-4d4a-86ff-3f6f73a80396\")>,\n",
       " <selenium.webdriver.remote.webelement.WebElement (session=\"7190b8fa85c6bacfb3b010d786776143\", element=\"3a71f734-06ea-49a7-ac48-b005d27cd2b8\")>,\n",
       " <selenium.webdriver.remote.webelement.WebElement (session=\"7190b8fa85c6bacfb3b010d786776143\", element=\"e7f58eb9-7ca5-48bd-9173-8e65d298d684\")>,\n",
       " <selenium.webdriver.remote.webelement.WebElement (session=\"7190b8fa85c6bacfb3b010d786776143\", element=\"a57234f0-8480-4181-ac96-2165964a4725\")>,\n",
       " <selenium.webdriver.remote.webelement.WebElement (session=\"7190b8fa85c6bacfb3b010d786776143\", element=\"6cc43c3a-9eac-4177-a8f2-3a34a9c76db3\")>,\n",
       " <selenium.webdriver.remote.webelement.WebElement (session=\"7190b8fa85c6bacfb3b010d786776143\", element=\"0b476a32-ec21-4726-b2c0-c0b9b9f66d5f\")>,\n",
       " <selenium.webdriver.remote.webelement.WebElement (session=\"7190b8fa85c6bacfb3b010d786776143\", element=\"d7a2d9ef-15a0-4afc-9b14-7169da1efeb9\")>,\n",
       " <selenium.webdriver.remote.webelement.WebElement (session=\"7190b8fa85c6bacfb3b010d786776143\", element=\"b3228dda-68f7-428b-bb94-5448329151c2\")>,\n",
       " <selenium.webdriver.remote.webelement.WebElement (session=\"7190b8fa85c6bacfb3b010d786776143\", element=\"03b37316-f073-4a10-9b23-a00f2c00cbe8\")>,\n",
       " <selenium.webdriver.remote.webelement.WebElement (session=\"7190b8fa85c6bacfb3b010d786776143\", element=\"e12936b5-04b1-4d2b-b52c-2cc95d8c41c2\")>,\n",
       " <selenium.webdriver.remote.webelement.WebElement (session=\"7190b8fa85c6bacfb3b010d786776143\", element=\"62c46fc2-2850-453c-be6a-93220a221927\")>,\n",
       " <selenium.webdriver.remote.webelement.WebElement (session=\"7190b8fa85c6bacfb3b010d786776143\", element=\"35ccb33d-df1d-4a3b-b171-b635213a1572\")>,\n",
       " <selenium.webdriver.remote.webelement.WebElement (session=\"7190b8fa85c6bacfb3b010d786776143\", element=\"6c1b5a08-76bb-48ad-b0c9-0e319618cace\")>,\n",
       " <selenium.webdriver.remote.webelement.WebElement (session=\"7190b8fa85c6bacfb3b010d786776143\", element=\"8e289ef4-acd3-4523-afb3-7b1448bd6a75\")>,\n",
       " <selenium.webdriver.remote.webelement.WebElement (session=\"7190b8fa85c6bacfb3b010d786776143\", element=\"7fc53d4a-3424-4131-bf96-a5dd05fc12cb\")>,\n",
       " <selenium.webdriver.remote.webelement.WebElement (session=\"7190b8fa85c6bacfb3b010d786776143\", element=\"44665c9a-d099-462d-84a3-b875e08714d2\")>,\n",
       " <selenium.webdriver.remote.webelement.WebElement (session=\"7190b8fa85c6bacfb3b010d786776143\", element=\"aad9d453-c2b1-4baa-be01-b311cb8acfa5\")>,\n",
       " <selenium.webdriver.remote.webelement.WebElement (session=\"7190b8fa85c6bacfb3b010d786776143\", element=\"38462d85-25e6-4ff6-8d6f-f874c33f2d53\")>,\n",
       " <selenium.webdriver.remote.webelement.WebElement (session=\"7190b8fa85c6bacfb3b010d786776143\", element=\"1654228d-2f80-478c-9b55-eb2c38e46f76\")>,\n",
       " <selenium.webdriver.remote.webelement.WebElement (session=\"7190b8fa85c6bacfb3b010d786776143\", element=\"aeaddcf5-bcb4-49d0-b014-97a9a58bbb86\")>,\n",
       " <selenium.webdriver.remote.webelement.WebElement (session=\"7190b8fa85c6bacfb3b010d786776143\", element=\"f607bd14-3f4b-4d75-9010-8b07fc005852\")>,\n",
       " <selenium.webdriver.remote.webelement.WebElement (session=\"7190b8fa85c6bacfb3b010d786776143\", element=\"423a01e2-79b6-4843-9246-b8ed17fa48d1\")>,\n",
       " <selenium.webdriver.remote.webelement.WebElement (session=\"7190b8fa85c6bacfb3b010d786776143\", element=\"babf5f1a-e654-48bf-ae7c-98c49b4b0e7f\")>,\n",
       " <selenium.webdriver.remote.webelement.WebElement (session=\"7190b8fa85c6bacfb3b010d786776143\", element=\"b5cd7f33-893c-4db1-ba44-db27d17b3a5b\")>,\n",
       " <selenium.webdriver.remote.webelement.WebElement (session=\"7190b8fa85c6bacfb3b010d786776143\", element=\"1026f2b8-b7a9-44ce-a20b-3f433ba93609\")>,\n",
       " <selenium.webdriver.remote.webelement.WebElement (session=\"7190b8fa85c6bacfb3b010d786776143\", element=\"775bbd8a-0e10-4f41-ba59-7fdcafaaef4f\")>,\n",
       " <selenium.webdriver.remote.webelement.WebElement (session=\"7190b8fa85c6bacfb3b010d786776143\", element=\"d75153ea-3d44-420f-90b7-a26b36c4e310\")>,\n",
       " <selenium.webdriver.remote.webelement.WebElement (session=\"7190b8fa85c6bacfb3b010d786776143\", element=\"f46b4958-a02f-48ec-b6cf-c1fc5087e6df\")>,\n",
       " <selenium.webdriver.remote.webelement.WebElement (session=\"7190b8fa85c6bacfb3b010d786776143\", element=\"88431c0e-b9ab-4079-b0e5-ca7d4838e966\")>,\n",
       " <selenium.webdriver.remote.webelement.WebElement (session=\"7190b8fa85c6bacfb3b010d786776143\", element=\"915532b6-ed86-4458-8fd8-a24f60ae7751\")>,\n",
       " <selenium.webdriver.remote.webelement.WebElement (session=\"7190b8fa85c6bacfb3b010d786776143\", element=\"17f33377-1e82-4cb4-8046-031ee8c0656d\")>,\n",
       " <selenium.webdriver.remote.webelement.WebElement (session=\"7190b8fa85c6bacfb3b010d786776143\", element=\"0f619f6b-e119-4e4c-a045-d7c747495155\")>,\n",
       " <selenium.webdriver.remote.webelement.WebElement (session=\"7190b8fa85c6bacfb3b010d786776143\", element=\"1215613c-80a7-420b-8fd4-e43ff06472b0\")>,\n",
       " <selenium.webdriver.remote.webelement.WebElement (session=\"7190b8fa85c6bacfb3b010d786776143\", element=\"5a085582-6a86-495e-ac20-f02d4081ced5\")>,\n",
       " <selenium.webdriver.remote.webelement.WebElement (session=\"7190b8fa85c6bacfb3b010d786776143\", element=\"ee9edcb3-f444-4d05-9fe4-498ed59b0f72\")>]"
      ]
     },
     "execution_count": 166,
     "metadata": {},
     "output_type": "execute_result"
    }
   ],
   "source": [
    "brand_names_tags=driver.find_elements_by_xpath(\"//div[@class='_2WkVRV']\")\n",
    "brand_names_tags[0:40]"
   ]
  },
  {
   "cell_type": "code",
   "execution_count": 167,
   "id": "ed9929fd",
   "metadata": {
    "collapsed": true
   },
   "outputs": [
    {
     "data": {
      "text/plain": [
       "['Arnette',\n",
       " 'Arnette',\n",
       " 'Fastrack',\n",
       " 'SUNBEE',\n",
       " 'Fastrack',\n",
       " 'PIRASO',\n",
       " 'Lee Topper',\n",
       " 'Ray-Ban',\n",
       " 'New Specs',\n",
       " 'Elligator',\n",
       " 'PIRASO',\n",
       " 'Rich Club',\n",
       " 'SHAAH COLLECTIONS',\n",
       " 'Fastrack',\n",
       " 'Fastrack',\n",
       " 'Rich Club',\n",
       " 'PIRASO',\n",
       " 'SRPM',\n",
       " 'PIRASO',\n",
       " 'Silver Kartz',\n",
       " 'DAHAAZIL',\n",
       " 'SUNBEE',\n",
       " 'Fastrack',\n",
       " 'Ray-Ban',\n",
       " 'ROZZETTA CRAFT',\n",
       " 'PIRASO',\n",
       " 'New Specs',\n",
       " 'Ray-Ban',\n",
       " 'DEIXELS',\n",
       " 'kingsunglasses',\n",
       " 'Fastrack',\n",
       " 'Ray-Ban',\n",
       " 'Lee Topper',\n",
       " 'hipe',\n",
       " 'Mi',\n",
       " 'GANSTA',\n",
       " 'HIPPON',\n",
       " 'ROZZETTA CRAFT',\n",
       " 'SRPM',\n",
       " 'Ray-Ban']"
      ]
     },
     "execution_count": 167,
     "metadata": {},
     "output_type": "execute_result"
    }
   ],
   "source": [
    "for i in brand_names_tags:\n",
    "    brand_name=i.text\n",
    "    brand_names.append(brand_name)\n",
    "brand_names[0:40]"
   ]
  },
  {
   "cell_type": "code",
   "execution_count": 168,
   "id": "8479ae54",
   "metadata": {
    "collapsed": true
   },
   "outputs": [
    {
     "data": {
      "text/plain": [
       "[<selenium.webdriver.remote.webelement.WebElement (session=\"7190b8fa85c6bacfb3b010d786776143\", element=\"9a0717f5-478d-4098-b9c2-7db04a29edf0\")>,\n",
       " <selenium.webdriver.remote.webelement.WebElement (session=\"7190b8fa85c6bacfb3b010d786776143\", element=\"e4b2c973-a08c-4072-a220-dc540df5a0a0\")>,\n",
       " <selenium.webdriver.remote.webelement.WebElement (session=\"7190b8fa85c6bacfb3b010d786776143\", element=\"ad859e9f-07da-4ce4-b568-66fe21b383c6\")>,\n",
       " <selenium.webdriver.remote.webelement.WebElement (session=\"7190b8fa85c6bacfb3b010d786776143\", element=\"c360026b-7aec-41a3-b2ea-416dcf69d68c\")>,\n",
       " <selenium.webdriver.remote.webelement.WebElement (session=\"7190b8fa85c6bacfb3b010d786776143\", element=\"07187fa7-5bf1-42c2-8db3-44071e202d48\")>,\n",
       " <selenium.webdriver.remote.webelement.WebElement (session=\"7190b8fa85c6bacfb3b010d786776143\", element=\"880bc37c-f0fa-4133-94f1-91c43528a260\")>,\n",
       " <selenium.webdriver.remote.webelement.WebElement (session=\"7190b8fa85c6bacfb3b010d786776143\", element=\"d2501b6a-2902-4428-9520-655dbf1d5c21\")>,\n",
       " <selenium.webdriver.remote.webelement.WebElement (session=\"7190b8fa85c6bacfb3b010d786776143\", element=\"06b1a11c-373c-4419-99c8-e4aa4c660a4f\")>,\n",
       " <selenium.webdriver.remote.webelement.WebElement (session=\"7190b8fa85c6bacfb3b010d786776143\", element=\"a5850d96-9655-4c00-a56b-d1b14b756964\")>,\n",
       " <selenium.webdriver.remote.webelement.WebElement (session=\"7190b8fa85c6bacfb3b010d786776143\", element=\"512da699-b508-49d4-ad6b-1e676108bf6c\")>,\n",
       " <selenium.webdriver.remote.webelement.WebElement (session=\"7190b8fa85c6bacfb3b010d786776143\", element=\"ce57f0fc-37e4-4350-a3bb-9f8d09d910de\")>,\n",
       " <selenium.webdriver.remote.webelement.WebElement (session=\"7190b8fa85c6bacfb3b010d786776143\", element=\"2a69e190-ad05-49cf-a1a3-0be35b495a00\")>,\n",
       " <selenium.webdriver.remote.webelement.WebElement (session=\"7190b8fa85c6bacfb3b010d786776143\", element=\"b00b37c4-ee0f-4111-b170-251855f82007\")>,\n",
       " <selenium.webdriver.remote.webelement.WebElement (session=\"7190b8fa85c6bacfb3b010d786776143\", element=\"4eb616f2-49b2-4514-96bd-c03d7d9cdcbe\")>,\n",
       " <selenium.webdriver.remote.webelement.WebElement (session=\"7190b8fa85c6bacfb3b010d786776143\", element=\"63a65e8d-685b-4ba9-b0e5-6de15d23b6dc\")>,\n",
       " <selenium.webdriver.remote.webelement.WebElement (session=\"7190b8fa85c6bacfb3b010d786776143\", element=\"efafbe09-63c3-4fef-98e6-1d84d5ef9e81\")>,\n",
       " <selenium.webdriver.remote.webelement.WebElement (session=\"7190b8fa85c6bacfb3b010d786776143\", element=\"6ac9e36d-53b6-4bd5-9db1-3366845e9370\")>,\n",
       " <selenium.webdriver.remote.webelement.WebElement (session=\"7190b8fa85c6bacfb3b010d786776143\", element=\"4670a2f2-942c-40a6-b245-53ef279c5491\")>,\n",
       " <selenium.webdriver.remote.webelement.WebElement (session=\"7190b8fa85c6bacfb3b010d786776143\", element=\"9b5e135e-0e30-4c97-a714-dd35d662cd00\")>,\n",
       " <selenium.webdriver.remote.webelement.WebElement (session=\"7190b8fa85c6bacfb3b010d786776143\", element=\"cc0d1b32-1b07-4ba7-b77d-34f5b4eb8b98\")>,\n",
       " <selenium.webdriver.remote.webelement.WebElement (session=\"7190b8fa85c6bacfb3b010d786776143\", element=\"52dafb5b-f1d9-4784-b569-fa4b5d8906ed\")>,\n",
       " <selenium.webdriver.remote.webelement.WebElement (session=\"7190b8fa85c6bacfb3b010d786776143\", element=\"f88b8f36-c280-4a1e-b32d-f89e0e046e04\")>,\n",
       " <selenium.webdriver.remote.webelement.WebElement (session=\"7190b8fa85c6bacfb3b010d786776143\", element=\"452df6c6-c821-409b-b971-b33302923983\")>,\n",
       " <selenium.webdriver.remote.webelement.WebElement (session=\"7190b8fa85c6bacfb3b010d786776143\", element=\"5b2bb109-f2a1-4b7d-96bf-0ab9be3dd52e\")>,\n",
       " <selenium.webdriver.remote.webelement.WebElement (session=\"7190b8fa85c6bacfb3b010d786776143\", element=\"cf78ec5d-f8da-4198-b333-d8f24d1fe30c\")>,\n",
       " <selenium.webdriver.remote.webelement.WebElement (session=\"7190b8fa85c6bacfb3b010d786776143\", element=\"fbeeef7d-6ce3-4348-b864-7efa3f5c058f\")>,\n",
       " <selenium.webdriver.remote.webelement.WebElement (session=\"7190b8fa85c6bacfb3b010d786776143\", element=\"83c9d0e0-e6cc-4bc1-b99b-4a7b3d7a8e02\")>,\n",
       " <selenium.webdriver.remote.webelement.WebElement (session=\"7190b8fa85c6bacfb3b010d786776143\", element=\"3b9ae021-1078-43b2-9b5f-c1903112de41\")>,\n",
       " <selenium.webdriver.remote.webelement.WebElement (session=\"7190b8fa85c6bacfb3b010d786776143\", element=\"2e875a05-00b0-4d24-8956-b91656a93476\")>,\n",
       " <selenium.webdriver.remote.webelement.WebElement (session=\"7190b8fa85c6bacfb3b010d786776143\", element=\"3653da84-e834-49f8-b1db-15eea4bbe391\")>,\n",
       " <selenium.webdriver.remote.webelement.WebElement (session=\"7190b8fa85c6bacfb3b010d786776143\", element=\"97729d89-1790-41d6-8e20-dc600f3315fa\")>,\n",
       " <selenium.webdriver.remote.webelement.WebElement (session=\"7190b8fa85c6bacfb3b010d786776143\", element=\"74cd4b35-363c-4080-a78a-4f6fad9c3459\")>,\n",
       " <selenium.webdriver.remote.webelement.WebElement (session=\"7190b8fa85c6bacfb3b010d786776143\", element=\"2413edf4-44a1-44bd-8036-c7025674a4cb\")>,\n",
       " <selenium.webdriver.remote.webelement.WebElement (session=\"7190b8fa85c6bacfb3b010d786776143\", element=\"dd077f3a-c645-49e6-a29d-6dc36f568f63\")>,\n",
       " <selenium.webdriver.remote.webelement.WebElement (session=\"7190b8fa85c6bacfb3b010d786776143\", element=\"0a80885f-85bf-4927-8903-a9a65e85c8bc\")>,\n",
       " <selenium.webdriver.remote.webelement.WebElement (session=\"7190b8fa85c6bacfb3b010d786776143\", element=\"15ec0cd1-4518-4262-b4e2-9aa36170454d\")>,\n",
       " <selenium.webdriver.remote.webelement.WebElement (session=\"7190b8fa85c6bacfb3b010d786776143\", element=\"5300a98f-93e8-47cb-bcb1-35fa98df99d7\")>,\n",
       " <selenium.webdriver.remote.webelement.WebElement (session=\"7190b8fa85c6bacfb3b010d786776143\", element=\"52cedb0d-3397-49bc-8822-f69f4809869c\")>,\n",
       " <selenium.webdriver.remote.webelement.WebElement (session=\"7190b8fa85c6bacfb3b010d786776143\", element=\"70dec8d2-9b5e-458f-be3b-5a648a0b3517\")>,\n",
       " <selenium.webdriver.remote.webelement.WebElement (session=\"7190b8fa85c6bacfb3b010d786776143\", element=\"26166767-4b3f-4099-8ee9-2bbb450e90ab\")>]"
      ]
     },
     "execution_count": 168,
     "metadata": {},
     "output_type": "execute_result"
    }
   ],
   "source": [
    "product_descriptions_tags=driver.find_elements_by_xpath(\"//a[@class='IRpwTa']\")\n",
    "product_descriptions_tags[0:40]"
   ]
  },
  {
   "cell_type": "code",
   "execution_count": 169,
   "id": "11345a1b",
   "metadata": {
    "collapsed": true
   },
   "outputs": [
    {
     "data": {
      "text/plain": [
       "['Others Rectangular Sunglasses (56)',\n",
       " 'Mirrored Retro Square Sunglasses (56)',\n",
       " 'UV Protection Wayfarer Sunglasses (Free Size)',\n",
       " 'UV Protection, Polarized Wayfarer Sunglasses (Free Size...',\n",
       " 'UV Protection Rectangular Sunglasses (Free Size)',\n",
       " 'UV Protection Aviator Sunglasses (54)',\n",
       " 'Riding Glasses Wrap-around Sunglasses (Free Size)',\n",
       " 'Mirrored, UV Protection Aviator Sunglasses (58)',\n",
       " 'UV Protection Rectangular Sunglasses (Free Size)',\n",
       " 'UV Protection Round Sunglasses (54)',\n",
       " 'UV Protection Wayfarer Sunglasses (32)',\n",
       " 'UV Protection, Polarized Round Sunglasses (50)',\n",
       " 'UV Protection, Polarized, Mirrored Rectangular Sunglass...',\n",
       " 'UV Protection Shield Sunglasses (Free Size)',\n",
       " 'UV Protection Aviator Sunglasses (Free Size)',\n",
       " 'Polarized, UV Protection, Riding Glasses Wayfarer, Rect...',\n",
       " 'UV Protection Aviator Sunglasses (54)',\n",
       " 'UV Protection Wayfarer Sunglasses (50)',\n",
       " 'UV Protection Rectangular Sunglasses (52)',\n",
       " 'UV Protection Clubmaster Sunglasses (53)',\n",
       " 'UV Protection, Night Vision, Riding Glasses Wayfarer, W...',\n",
       " 'UV Protection, Polarized, Mirrored Retro Square Sunglas...',\n",
       " 'UV Protection Wayfarer Sunglasses (Free Size)',\n",
       " 'UV Protection Wayfarer Sunglasses (56)',\n",
       " 'UV Protection, Gradient Rectangular Sunglasses (Free Si...',\n",
       " 'UV Protection Aviator Sunglasses (54)',\n",
       " 'Mirrored, UV Protection, Riding Glasses, Others Round S...',\n",
       " 'UV Protection Wayfarer Sunglasses (55)',\n",
       " 'UV Protection Aviator, Wayfarer Sunglasses (Free Size)',\n",
       " 'UV Protection, Riding Glasses, Mirrored Wayfarer Sungla...',\n",
       " 'UV Protection Aviator Sunglasses (58)',\n",
       " 'Gradient Round Sunglasses (54)',\n",
       " 'UV Protection Rectangular Sunglasses (Free Size)',\n",
       " 'Gradient, UV Protection Round Sunglasses (Free Size)',\n",
       " 'Polarized Aviator Sunglasses (Free Size)',\n",
       " 'UV Protection Aviator Sunglasses (57)',\n",
       " 'UV Protection Wayfarer Sunglasses (55)',\n",
       " 'UV Protection Retro Square Sunglasses (Free Size)',\n",
       " 'UV Protection Wayfarer Sunglasses (53)',\n",
       " 'Others Aviator Sunglasses (63)']"
      ]
     },
     "execution_count": 169,
     "metadata": {},
     "output_type": "execute_result"
    }
   ],
   "source": [
    "for i in product_descriptions_tags:\n",
    "    product_description=i.text\n",
    "    product_descriptions.append(product_description)\n",
    "product_descriptions[0:40]"
   ]
  },
  {
   "cell_type": "code",
   "execution_count": 171,
   "id": "5238189f",
   "metadata": {
    "collapsed": true
   },
   "outputs": [
    {
     "data": {
      "text/plain": [
       "[<selenium.webdriver.remote.webelement.WebElement (session=\"7190b8fa85c6bacfb3b010d786776143\", element=\"0e8664af-ad09-4e44-833b-25eeb5bf4ad0\")>,\n",
       " <selenium.webdriver.remote.webelement.WebElement (session=\"7190b8fa85c6bacfb3b010d786776143\", element=\"ca1f7afa-44d4-43b4-ae71-f4ae9faccf21\")>,\n",
       " <selenium.webdriver.remote.webelement.WebElement (session=\"7190b8fa85c6bacfb3b010d786776143\", element=\"9f9d1cbb-731e-422a-a32b-5b542cc4b4ee\")>,\n",
       " <selenium.webdriver.remote.webelement.WebElement (session=\"7190b8fa85c6bacfb3b010d786776143\", element=\"068f8cd6-8f11-496e-8d5f-b9bfca9364ce\")>,\n",
       " <selenium.webdriver.remote.webelement.WebElement (session=\"7190b8fa85c6bacfb3b010d786776143\", element=\"6906fd4e-5ad3-4e0c-bf46-952d20dfc49f\")>,\n",
       " <selenium.webdriver.remote.webelement.WebElement (session=\"7190b8fa85c6bacfb3b010d786776143\", element=\"1da8b9c2-3e1f-41f3-9ab4-8f56752eefe4\")>,\n",
       " <selenium.webdriver.remote.webelement.WebElement (session=\"7190b8fa85c6bacfb3b010d786776143\", element=\"67f0e574-49f6-4c5a-a115-18f80c110cfc\")>,\n",
       " <selenium.webdriver.remote.webelement.WebElement (session=\"7190b8fa85c6bacfb3b010d786776143\", element=\"1bfae8e8-30c3-4b88-8c6e-8d29aedc0739\")>,\n",
       " <selenium.webdriver.remote.webelement.WebElement (session=\"7190b8fa85c6bacfb3b010d786776143\", element=\"240f0d0c-2993-49a3-8e01-30b246091530\")>,\n",
       " <selenium.webdriver.remote.webelement.WebElement (session=\"7190b8fa85c6bacfb3b010d786776143\", element=\"245f899f-9441-4770-b674-8b2103f9985c\")>,\n",
       " <selenium.webdriver.remote.webelement.WebElement (session=\"7190b8fa85c6bacfb3b010d786776143\", element=\"73dc712d-4ceb-4f3b-9b69-f45e4aebf6fe\")>,\n",
       " <selenium.webdriver.remote.webelement.WebElement (session=\"7190b8fa85c6bacfb3b010d786776143\", element=\"613976c6-05cf-4c0c-9cd9-b7ea02c62742\")>,\n",
       " <selenium.webdriver.remote.webelement.WebElement (session=\"7190b8fa85c6bacfb3b010d786776143\", element=\"95131348-66fc-463f-84ff-43319bb8cc5a\")>,\n",
       " <selenium.webdriver.remote.webelement.WebElement (session=\"7190b8fa85c6bacfb3b010d786776143\", element=\"3ade8b33-27a6-4339-aaf3-51e9bf161280\")>,\n",
       " <selenium.webdriver.remote.webelement.WebElement (session=\"7190b8fa85c6bacfb3b010d786776143\", element=\"1daef6d6-2465-4a1f-834a-532a7106f8ac\")>,\n",
       " <selenium.webdriver.remote.webelement.WebElement (session=\"7190b8fa85c6bacfb3b010d786776143\", element=\"8ef4a7d0-198d-4d95-a6fb-e1d2f85662f6\")>,\n",
       " <selenium.webdriver.remote.webelement.WebElement (session=\"7190b8fa85c6bacfb3b010d786776143\", element=\"fa44d3e1-cf64-477c-ab41-50a112f0e42e\")>,\n",
       " <selenium.webdriver.remote.webelement.WebElement (session=\"7190b8fa85c6bacfb3b010d786776143\", element=\"c8e674bf-1ad0-4830-895f-28a721643219\")>,\n",
       " <selenium.webdriver.remote.webelement.WebElement (session=\"7190b8fa85c6bacfb3b010d786776143\", element=\"2143223a-b52e-4cea-862c-df35b03e7c01\")>,\n",
       " <selenium.webdriver.remote.webelement.WebElement (session=\"7190b8fa85c6bacfb3b010d786776143\", element=\"f025ef5b-6149-49fd-a046-1294626404b8\")>,\n",
       " <selenium.webdriver.remote.webelement.WebElement (session=\"7190b8fa85c6bacfb3b010d786776143\", element=\"5e32176a-1e51-419b-b4ef-d3bcc24b663d\")>,\n",
       " <selenium.webdriver.remote.webelement.WebElement (session=\"7190b8fa85c6bacfb3b010d786776143\", element=\"2fdec3eb-0d7c-4524-8dee-50d17d2ec433\")>,\n",
       " <selenium.webdriver.remote.webelement.WebElement (session=\"7190b8fa85c6bacfb3b010d786776143\", element=\"e798db24-379a-422d-8194-cb036371178c\")>,\n",
       " <selenium.webdriver.remote.webelement.WebElement (session=\"7190b8fa85c6bacfb3b010d786776143\", element=\"81a289a4-b030-432f-b684-4d21ecf2d131\")>,\n",
       " <selenium.webdriver.remote.webelement.WebElement (session=\"7190b8fa85c6bacfb3b010d786776143\", element=\"af34cdbe-b9ae-46d0-98cd-bb8f82c72723\")>,\n",
       " <selenium.webdriver.remote.webelement.WebElement (session=\"7190b8fa85c6bacfb3b010d786776143\", element=\"d289efc6-d1b0-445a-9543-3970477a3eb9\")>,\n",
       " <selenium.webdriver.remote.webelement.WebElement (session=\"7190b8fa85c6bacfb3b010d786776143\", element=\"dfe5cea3-7010-4090-931e-5a50ef60548b\")>,\n",
       " <selenium.webdriver.remote.webelement.WebElement (session=\"7190b8fa85c6bacfb3b010d786776143\", element=\"e2d3dbf6-eb79-4eb1-a9e4-f62723fec95a\")>,\n",
       " <selenium.webdriver.remote.webelement.WebElement (session=\"7190b8fa85c6bacfb3b010d786776143\", element=\"ae1d41d4-c4f4-4e51-aede-da46d0e486d0\")>,\n",
       " <selenium.webdriver.remote.webelement.WebElement (session=\"7190b8fa85c6bacfb3b010d786776143\", element=\"314ef233-3d4c-40e5-80f5-c80e66aa0149\")>,\n",
       " <selenium.webdriver.remote.webelement.WebElement (session=\"7190b8fa85c6bacfb3b010d786776143\", element=\"67a66ea0-2027-4ad6-8127-4ed7dae5eca1\")>,\n",
       " <selenium.webdriver.remote.webelement.WebElement (session=\"7190b8fa85c6bacfb3b010d786776143\", element=\"429b4181-7bcc-4eab-afb4-ac1bfa3f6a58\")>,\n",
       " <selenium.webdriver.remote.webelement.WebElement (session=\"7190b8fa85c6bacfb3b010d786776143\", element=\"7ceb4bae-1ff9-4e9c-bdd7-2cc00d577ba7\")>,\n",
       " <selenium.webdriver.remote.webelement.WebElement (session=\"7190b8fa85c6bacfb3b010d786776143\", element=\"aba0f378-40af-426e-bb45-6a3f51ec3062\")>,\n",
       " <selenium.webdriver.remote.webelement.WebElement (session=\"7190b8fa85c6bacfb3b010d786776143\", element=\"dcd785d2-6b2f-4f56-a38c-986b9376362e\")>,\n",
       " <selenium.webdriver.remote.webelement.WebElement (session=\"7190b8fa85c6bacfb3b010d786776143\", element=\"3ad00a9b-9e18-4a8d-a6da-cff25d186685\")>,\n",
       " <selenium.webdriver.remote.webelement.WebElement (session=\"7190b8fa85c6bacfb3b010d786776143\", element=\"ada529b7-2b10-4a1a-97c9-17c41f359690\")>,\n",
       " <selenium.webdriver.remote.webelement.WebElement (session=\"7190b8fa85c6bacfb3b010d786776143\", element=\"e6930d46-951a-4b03-8df0-f7e5aa9fc88f\")>,\n",
       " <selenium.webdriver.remote.webelement.WebElement (session=\"7190b8fa85c6bacfb3b010d786776143\", element=\"a3b4ca5e-106b-484a-b346-70d8a8c9958c\")>,\n",
       " <selenium.webdriver.remote.webelement.WebElement (session=\"7190b8fa85c6bacfb3b010d786776143\", element=\"3e1198d1-9c65-43b5-a55d-1c9b1a2e917e\")>]"
      ]
     },
     "execution_count": 171,
     "metadata": {},
     "output_type": "execute_result"
    }
   ],
   "source": [
    "price_tags=driver.find_elements_by_xpath(\"//div[@class='_30jeq3']\")\n",
    "price_tags[0:40]"
   ]
  },
  {
   "cell_type": "code",
   "execution_count": 172,
   "id": "3f651468",
   "metadata": {
    "collapsed": true
   },
   "outputs": [
    {
     "data": {
      "text/plain": [
       "['₹4,199',\n",
       " '₹2,549',\n",
       " '₹719',\n",
       " '₹283',\n",
       " '₹639',\n",
       " '₹249',\n",
       " '₹299',\n",
       " '₹3,349',\n",
       " '₹265',\n",
       " '₹295',\n",
       " '₹225',\n",
       " '₹355',\n",
       " '₹195',\n",
       " '₹809',\n",
       " '₹639',\n",
       " '₹324',\n",
       " '₹224',\n",
       " '₹249',\n",
       " '₹280',\n",
       " '₹330',\n",
       " '₹219',\n",
       " '₹259',\n",
       " '₹719',\n",
       " '₹3,909',\n",
       " '₹399',\n",
       " '₹224',\n",
       " '₹299',\n",
       " '₹7,109',\n",
       " '₹229',\n",
       " '₹209',\n",
       " '₹1,099',\n",
       " '₹8,709',\n",
       " '₹219',\n",
       " '₹208',\n",
       " '₹1,009',\n",
       " '₹284',\n",
       " '₹181',\n",
       " '₹499',\n",
       " '₹246',\n",
       " '₹5,389']"
      ]
     },
     "execution_count": 172,
     "metadata": {},
     "output_type": "execute_result"
    }
   ],
   "source": [
    "for i in price_tags:\n",
    "    price=i.text\n",
    "    price_list.append(price)\n",
    "price_list[0:40]"
   ]
  },
  {
   "cell_type": "code",
   "execution_count": 173,
   "id": "cebbd10d",
   "metadata": {
    "collapsed": true
   },
   "outputs": [
    {
     "name": "stdout",
     "output_type": "stream",
     "text": [
      "40 40 40\n"
     ]
    }
   ],
   "source": [
    "print(len(brand_names),len(product_descriptions),len(price_list))"
   ]
  },
  {
   "cell_type": "code",
   "execution_count": 174,
   "id": "7b9ec8ec",
   "metadata": {
    "collapsed": true
   },
   "outputs": [],
   "source": [
    "next_button=driver.find_element_by_xpath(\"/html/body/div[1]/div/div[3]/div[1]/div[2]/div[12]/div/div/nav/a[11]\")\n",
    "next_button.click()"
   ]
  },
  {
   "cell_type": "code",
   "execution_count": 192,
   "id": "1f96badd",
   "metadata": {
    "collapsed": true
   },
   "outputs": [],
   "source": [
    "n_list=[]\n",
    "for i in range(0,3):\n",
    "    brand_names_tags=driver.find_elements_by_xpath(\"//div[@class='_2WkVRV']\")\n",
    "    for i in brand_names_tags:\n",
    "        brand_name=i.text\n",
    "        n_list.append(brand_name)\n",
    "    next_button=driver.find_element_by_xpath(\"/html/body/div[1]/div/div[3]/div[1]/div[2]/div[12]/div/div/nav/a[11]\")\n",
    "    next_button.click()\n",
    "    time.sleep(5)"
   ]
  },
  {
   "cell_type": "code",
   "execution_count": 185,
   "id": "6b97d6bb",
   "metadata": {
    "collapsed": true
   },
   "outputs": [],
   "source": [
    "d_list=[]\n",
    "for i in range(0,3):\n",
    "    product_descriptions_tags=driver.find_elements_by_xpath(\"//a[@class='IRpwTa']\")\n",
    "    for i in product_descriptions_tags:\n",
    "        product_description=i.text\n",
    "        d_list.append(product_description)\n",
    "    next_button=driver.find_element_by_xpath(\"/html/body/div[1]/div/div[3]/div[1]/div[2]/div[12]/div/div/nav/a[11]\")\n",
    "    next_button.click()\n",
    "    time.sleep(5)"
   ]
  },
  {
   "cell_type": "code",
   "execution_count": 200,
   "id": "e9516a62",
   "metadata": {
    "collapsed": true
   },
   "outputs": [],
   "source": [
    "p_list=[]\n",
    "for i in range(0,3):\n",
    "    price_list=driver.find_elements_by_xpath(\"//div[@class='_30jeq3']\")\n",
    "    for i in price_list:\n",
    "        price_list=i.text\n",
    "        p_list.append(price_list)\n",
    "    next_button=driver.find_element_by_xpath(\"/html/body/div[1]/div/div[3]/div[1]/div[2]/div[12]/div/div/nav/a[11]\")\n",
    "    next_button.click()\n",
    "    time.sleep(5)"
   ]
  },
  {
   "cell_type": "code",
   "execution_count": 204,
   "id": "cd533915",
   "metadata": {},
   "outputs": [
    {
     "name": "stdout",
     "output_type": "stream",
     "text": [
      "100 100 100\n"
     ]
    }
   ],
   "source": [
    "print(len(n_list[0:100]),len(d_list[0:100]),len(p_list[0:100]))"
   ]
  },
  {
   "cell_type": "code",
   "execution_count": 206,
   "id": "cedf310d",
   "metadata": {
    "collapsed": true
   },
   "outputs": [],
   "source": [
    "sunglasses=pd.DataFrame({})\n",
    "sunglasses['brand_names']=n_list[0:100]\n",
    "sunglasses['product_descriptions']=d_list[0:100]\n",
    "sunglasses['price']=p_list[0:100]"
   ]
  },
  {
   "cell_type": "code",
   "execution_count": 207,
   "id": "a6286da1",
   "metadata": {},
   "outputs": [
    {
     "data": {
      "text/html": [
       "<div>\n",
       "<style scoped>\n",
       "    .dataframe tbody tr th:only-of-type {\n",
       "        vertical-align: middle;\n",
       "    }\n",
       "\n",
       "    .dataframe tbody tr th {\n",
       "        vertical-align: top;\n",
       "    }\n",
       "\n",
       "    .dataframe thead th {\n",
       "        text-align: right;\n",
       "    }\n",
       "</style>\n",
       "<table border=\"1\" class=\"dataframe\">\n",
       "  <thead>\n",
       "    <tr style=\"text-align: right;\">\n",
       "      <th></th>\n",
       "      <th>brand_names</th>\n",
       "      <th>product_descriptions</th>\n",
       "      <th>price</th>\n",
       "    </tr>\n",
       "  </thead>\n",
       "  <tbody>\n",
       "    <tr>\n",
       "      <th>0</th>\n",
       "      <td>PETER JONES</td>\n",
       "      <td>Polarized, Gradient Aviator Sunglasses (54)</td>\n",
       "      <td>₹599</td>\n",
       "    </tr>\n",
       "    <tr>\n",
       "      <th>1</th>\n",
       "      <td>NuVew</td>\n",
       "      <td>UV Protection, Mirrored Wayfarer, Retro Square...</td>\n",
       "      <td>₹278</td>\n",
       "    </tr>\n",
       "    <tr>\n",
       "      <th>2</th>\n",
       "      <td>Hamiw</td>\n",
       "      <td>UV Protection, Riding Glasses Round Sunglasses...</td>\n",
       "      <td>₹209</td>\n",
       "    </tr>\n",
       "    <tr>\n",
       "      <th>3</th>\n",
       "      <td>Arnette</td>\n",
       "      <td>Others Rectangular Sunglasses (56)</td>\n",
       "      <td>₹2,899</td>\n",
       "    </tr>\n",
       "    <tr>\n",
       "      <th>4</th>\n",
       "      <td>Ray-Ban</td>\n",
       "      <td>Gradient Aviator Sunglasses (58)</td>\n",
       "      <td>₹9,249</td>\n",
       "    </tr>\n",
       "    <tr>\n",
       "      <th>...</th>\n",
       "      <td>...</td>\n",
       "      <td>...</td>\n",
       "      <td>...</td>\n",
       "    </tr>\n",
       "    <tr>\n",
       "      <th>95</th>\n",
       "      <td>ROZZETTA CRAFT</td>\n",
       "      <td>Polarized, UV Protection Aviator Sunglasses (57)</td>\n",
       "      <td>₹649</td>\n",
       "    </tr>\n",
       "    <tr>\n",
       "      <th>96</th>\n",
       "      <td>GANSTA</td>\n",
       "      <td>UV Protection, Night Vision Aviator Sunglasses...</td>\n",
       "      <td>₹269</td>\n",
       "    </tr>\n",
       "    <tr>\n",
       "      <th>97</th>\n",
       "      <td>NuVew</td>\n",
       "      <td>UV Protection Wayfarer Sunglasses (Free Size)</td>\n",
       "      <td>₹219</td>\n",
       "    </tr>\n",
       "    <tr>\n",
       "      <th>98</th>\n",
       "      <td>VINCENT CHASE</td>\n",
       "      <td>UV Protection Aviator Sunglasses (54)</td>\n",
       "      <td>₹1,533</td>\n",
       "    </tr>\n",
       "    <tr>\n",
       "      <th>99</th>\n",
       "      <td>ROYAL SON</td>\n",
       "      <td>by Lenskart Polarized, UV Protection Aviator S...</td>\n",
       "      <td>₹649</td>\n",
       "    </tr>\n",
       "  </tbody>\n",
       "</table>\n",
       "<p>100 rows × 3 columns</p>\n",
       "</div>"
      ],
      "text/plain": [
       "       brand_names                               product_descriptions   price\n",
       "0      PETER JONES        Polarized, Gradient Aviator Sunglasses (54)    ₹599\n",
       "1            NuVew  UV Protection, Mirrored Wayfarer, Retro Square...    ₹278\n",
       "2            Hamiw  UV Protection, Riding Glasses Round Sunglasses...    ₹209\n",
       "3          Arnette                 Others Rectangular Sunglasses (56)  ₹2,899\n",
       "4          Ray-Ban                   Gradient Aviator Sunglasses (58)  ₹9,249\n",
       "..             ...                                                ...     ...\n",
       "95  ROZZETTA CRAFT   Polarized, UV Protection Aviator Sunglasses (57)    ₹649\n",
       "96          GANSTA  UV Protection, Night Vision Aviator Sunglasses...    ₹269\n",
       "97           NuVew      UV Protection Wayfarer Sunglasses (Free Size)    ₹219\n",
       "98   VINCENT CHASE              UV Protection Aviator Sunglasses (54)  ₹1,533\n",
       "99       ROYAL SON  by Lenskart Polarized, UV Protection Aviator S...    ₹649\n",
       "\n",
       "[100 rows x 3 columns]"
      ]
     },
     "execution_count": 207,
     "metadata": {},
     "output_type": "execute_result"
    }
   ],
   "source": [
    "sunglasses"
   ]
  },
  {
   "cell_type": "code",
   "execution_count": null,
   "id": "ed0c7b3a",
   "metadata": {
    "collapsed": true
   },
   "outputs": [],
   "source": []
  },
  {
   "cell_type": "markdown",
   "id": "99e59575",
   "metadata": {},
   "source": [
    "Q5: Scrape 100 reviews data from flipkart.com for iphone11 phone. You have to go the link: \n",
    "https://www.flipkart.com/apple-iphone-11-black-64-gb-includes-earpods-power-adapter/p/itm0f37c2240b217?pid=MOBFKCTSVZAXUHGR&lid=LSTMOBFKCTSVZAXUHGREPBFGI&marketplace.\n",
    "\n",
    "As shown in the above page you have to scrape the tick marked attributes.These are:\n",
    "1. Rating\n",
    "2. Review summary\n",
    "3. Full review\n",
    "4. You have to scrape this data for first 100 reviews."
   ]
  },
  {
   "cell_type": "code",
   "execution_count": 296,
   "id": "cca9205a",
   "metadata": {
    "collapsed": true
   },
   "outputs": [],
   "source": [
    "import selenium\n",
    "import pandas as pd\n",
    "from selenium import webdriver\n",
    "import warnings\n",
    "warnings.filterwarnings(\"ignore\")\n",
    "import time\n",
    "import numpy as np"
   ]
  },
  {
   "cell_type": "code",
   "execution_count": 297,
   "id": "b929f4d9",
   "metadata": {
    "collapsed": true
   },
   "outputs": [],
   "source": [
    "driver = webdriver.Chrome(r\"C:\\Drivers\\my driver\\chromedriver.exe\")"
   ]
  },
  {
   "cell_type": "code",
   "execution_count": 298,
   "id": "35be5d42",
   "metadata": {
    "collapsed": true
   },
   "outputs": [],
   "source": [
    "driver=webdriver.Chrome(\"chromedriver.exe\")\n",
    "time.sleep(2)"
   ]
  },
  {
   "cell_type": "code",
   "execution_count": 299,
   "id": "0ed9820b",
   "metadata": {
    "collapsed": true
   },
   "outputs": [],
   "source": [
    "driver.get('https://www.flipkart.com/apple-iphone-11-black-64-gb-includes-earpods-power-adapter/p/itm0f37c2240b217?pid=MOBFKCTSVZAXUHGR&lid=LSTMOBFKC')"
   ]
  },
  {
   "cell_type": "code",
   "execution_count": 300,
   "id": "3bb55397",
   "metadata": {
    "collapsed": true
   },
   "outputs": [],
   "source": [
    "ratings=[]\n",
    "review_summaries=[]\n",
    "full_reviews=[]"
   ]
  },
  {
   "cell_type": "code",
   "execution_count": 301,
   "id": "441b6819",
   "metadata": {
    "collapsed": true
   },
   "outputs": [
    {
     "data": {
      "text/plain": [
       "[<selenium.webdriver.remote.webelement.WebElement (session=\"75b636708fb863caac9191c3509b9246\", element=\"abc2b4b5-8226-47db-a5bc-3d4ad2c4d3e5\")>,\n",
       " <selenium.webdriver.remote.webelement.WebElement (session=\"75b636708fb863caac9191c3509b9246\", element=\"a7e432b6-00d0-4fb8-92b7-c17436533223\")>,\n",
       " <selenium.webdriver.remote.webelement.WebElement (session=\"75b636708fb863caac9191c3509b9246\", element=\"e6256de3-519a-4460-8af1-1eb057eda9e1\")>,\n",
       " <selenium.webdriver.remote.webelement.WebElement (session=\"75b636708fb863caac9191c3509b9246\", element=\"3137bbc0-37c8-4f4e-abd5-73e1d5da829a\")>,\n",
       " <selenium.webdriver.remote.webelement.WebElement (session=\"75b636708fb863caac9191c3509b9246\", element=\"9ba2893a-529e-49bc-b7ce-8ab0b8d647e8\")>,\n",
       " <selenium.webdriver.remote.webelement.WebElement (session=\"75b636708fb863caac9191c3509b9246\", element=\"44675173-d8d2-4c09-8a51-943fa6036163\")>,\n",
       " <selenium.webdriver.remote.webelement.WebElement (session=\"75b636708fb863caac9191c3509b9246\", element=\"cec5e25d-4616-4a25-b3a1-a20b1103754c\")>,\n",
       " <selenium.webdriver.remote.webelement.WebElement (session=\"75b636708fb863caac9191c3509b9246\", element=\"94264767-8542-4465-9488-fccdaa240579\")>,\n",
       " <selenium.webdriver.remote.webelement.WebElement (session=\"75b636708fb863caac9191c3509b9246\", element=\"19957523-9b73-42c6-9e3d-a523d960a1fb\")>,\n",
       " <selenium.webdriver.remote.webelement.WebElement (session=\"75b636708fb863caac9191c3509b9246\", element=\"e51dc9e1-2785-454e-9fbd-e72c56ec33f5\")>]"
      ]
     },
     "execution_count": 301,
     "metadata": {},
     "output_type": "execute_result"
    }
   ],
   "source": [
    "ratings_tags=driver.find_elements_by_xpath(\"//div[@class='_3LWZlK _1BLPMq']\")\n",
    "ratings_tags[0:10]"
   ]
  },
  {
   "cell_type": "code",
   "execution_count": 302,
   "id": "7c748548",
   "metadata": {
    "collapsed": true
   },
   "outputs": [
    {
     "data": {
      "text/plain": [
       "['5', '5', '5', '5', '5', '5', '5', '4', '5', '5']"
      ]
     },
     "execution_count": 302,
     "metadata": {},
     "output_type": "execute_result"
    }
   ],
   "source": [
    "for i in ratings_tags:\n",
    "    rating=i.text\n",
    "    ratings.append(rating)\n",
    "ratings[0:10]"
   ]
  },
  {
   "cell_type": "code",
   "execution_count": 303,
   "id": "4f5ee5c6",
   "metadata": {
    "collapsed": true
   },
   "outputs": [
    {
     "data": {
      "text/plain": [
       "[<selenium.webdriver.remote.webelement.WebElement (session=\"75b636708fb863caac9191c3509b9246\", element=\"6b0615f3-59b5-4ee2-8388-9673b4e4a922\")>,\n",
       " <selenium.webdriver.remote.webelement.WebElement (session=\"75b636708fb863caac9191c3509b9246\", element=\"99bbf115-1e1f-4da0-ba58-a765ea97ea67\")>,\n",
       " <selenium.webdriver.remote.webelement.WebElement (session=\"75b636708fb863caac9191c3509b9246\", element=\"23ed229a-4c9d-4df8-942a-155d3c3dc73b\")>,\n",
       " <selenium.webdriver.remote.webelement.WebElement (session=\"75b636708fb863caac9191c3509b9246\", element=\"7261422b-d44e-4b17-b669-1f602e25347c\")>,\n",
       " <selenium.webdriver.remote.webelement.WebElement (session=\"75b636708fb863caac9191c3509b9246\", element=\"8bc72569-db83-41e8-93a2-00d775288af4\")>,\n",
       " <selenium.webdriver.remote.webelement.WebElement (session=\"75b636708fb863caac9191c3509b9246\", element=\"5989988d-bc16-4145-855f-da05dab98099\")>,\n",
       " <selenium.webdriver.remote.webelement.WebElement (session=\"75b636708fb863caac9191c3509b9246\", element=\"3d92d141-509f-485b-9402-040a35627006\")>,\n",
       " <selenium.webdriver.remote.webelement.WebElement (session=\"75b636708fb863caac9191c3509b9246\", element=\"3fc69099-8d8a-4c94-ab17-99a7b2e2dc1f\")>,\n",
       " <selenium.webdriver.remote.webelement.WebElement (session=\"75b636708fb863caac9191c3509b9246\", element=\"8fad2819-70a9-4204-b62e-a98b91db9e0a\")>,\n",
       " <selenium.webdriver.remote.webelement.WebElement (session=\"75b636708fb863caac9191c3509b9246\", element=\"ec9a8ca5-f565-4f40-b170-b068fc8177a9\")>]"
      ]
     },
     "execution_count": 303,
     "metadata": {},
     "output_type": "execute_result"
    }
   ],
   "source": [
    "review_summaries_tags=driver.find_elements_by_xpath(\"//p[@class='_2-N8zT']\")\n",
    "review_summaries_tags[0:10]"
   ]
  },
  {
   "cell_type": "code",
   "execution_count": 304,
   "id": "33b23b03",
   "metadata": {
    "collapsed": true
   },
   "outputs": [
    {
     "data": {
      "text/plain": [
       "['Brilliant',\n",
       " 'Simply awesome',\n",
       " 'Best in the market!',\n",
       " 'Perfect product!',\n",
       " 'Fabulous!',\n",
       " 'Worth every penny',\n",
       " 'Great product',\n",
       " 'Good choice',\n",
       " 'Worth every penny',\n",
       " 'Highly recommended']"
      ]
     },
     "execution_count": 304,
     "metadata": {},
     "output_type": "execute_result"
    }
   ],
   "source": [
    "for i in review_summaries_tags:\n",
    "    review_summary=i.text\n",
    "    review_summaries.append(review_summary)\n",
    "review_summaries[0:10]"
   ]
  },
  {
   "cell_type": "code",
   "execution_count": 305,
   "id": "f653c5ac",
   "metadata": {
    "collapsed": true
   },
   "outputs": [
    {
     "data": {
      "text/plain": [
       "[<selenium.webdriver.remote.webelement.WebElement (session=\"75b636708fb863caac9191c3509b9246\", element=\"536a2e7e-1f15-4c3b-84a4-0d7fa2d9a4f3\")>,\n",
       " <selenium.webdriver.remote.webelement.WebElement (session=\"75b636708fb863caac9191c3509b9246\", element=\"1b7f9a26-1943-454e-b421-17614cfefc67\")>,\n",
       " <selenium.webdriver.remote.webelement.WebElement (session=\"75b636708fb863caac9191c3509b9246\", element=\"be848ecf-777a-4096-8d60-6d59f7c3ef5e\")>,\n",
       " <selenium.webdriver.remote.webelement.WebElement (session=\"75b636708fb863caac9191c3509b9246\", element=\"6c0e19ed-57f8-4f14-8903-5f490610abd8\")>,\n",
       " <selenium.webdriver.remote.webelement.WebElement (session=\"75b636708fb863caac9191c3509b9246\", element=\"e50bc6bc-7b4f-4ae7-a236-bc60aa903ab8\")>,\n",
       " <selenium.webdriver.remote.webelement.WebElement (session=\"75b636708fb863caac9191c3509b9246\", element=\"c4a95347-f8a5-4794-8b1f-ad6d86b7a5a7\")>,\n",
       " <selenium.webdriver.remote.webelement.WebElement (session=\"75b636708fb863caac9191c3509b9246\", element=\"fbb0ed92-15aa-41a6-a90f-b82d8d8083b6\")>,\n",
       " <selenium.webdriver.remote.webelement.WebElement (session=\"75b636708fb863caac9191c3509b9246\", element=\"0ba0952d-d4cd-4988-9b94-d588695d1f00\")>,\n",
       " <selenium.webdriver.remote.webelement.WebElement (session=\"75b636708fb863caac9191c3509b9246\", element=\"eeec1f43-878b-4dfb-8cde-1a1b55cdf912\")>,\n",
       " <selenium.webdriver.remote.webelement.WebElement (session=\"75b636708fb863caac9191c3509b9246\", element=\"771c87ec-2cf1-49f1-b9d5-b93019b052ce\")>]"
      ]
     },
     "execution_count": 305,
     "metadata": {},
     "output_type": "execute_result"
    }
   ],
   "source": [
    "full_reviews_tags=driver.find_elements_by_xpath(\"//div[@class='t-ZTKy']\")\n",
    "full_reviews_tags[0:10]"
   ]
  },
  {
   "cell_type": "code",
   "execution_count": 306,
   "id": "cba49240",
   "metadata": {
    "collapsed": true
   },
   "outputs": [
    {
     "data": {
      "text/plain": [
       "['The Best Phone for the Money\\n\\nThe iPhone 11 offers superb cameras, a more durable design and excellent battery life for an affordable price.\\n\\nCompelling ultra-wide camera\\nNew Night mode is excellent\\nLong battery life',\n",
       " 'Really satisfied with the Product I received... It’s totally genuine and the packaging was also really good so if ur planning to buy just go for it.',\n",
       " 'Great iPhone very snappy experience as apple kind. Upgraded from iPhone 7.\\nPros\\n-Camera top class\\n- Battery top performed\\n-Chipset no need to say as apple kind\\n-Security as you expect from apple\\n- Display super bright industry leading colour\\naccuracy and super responsive\\n-Build quality as expect from apple sturdy\\npremium durable beautiful stylish.\\n-Os most stable os in smartphone industry\\n\\nCons\\n-No 5G\\n-Display is not based on OLED technology\\n-Charger headphones and 1 apple stic...\\nREAD MORE',\n",
       " 'Amazing phone with great cameras and better battery which gives you the best performance. I just love the camera .',\n",
       " 'This is my first iOS phone. I am very happy with this product. Very much satisfied with this. I love this phone.',\n",
       " 'Previously I was using one plus 3t it was a great phone\\nAnd then I decided to upgrade I am stuck between Samsung s10 plus or iPhone 11\\nI have seen the specs and everything were good except the display it’s somewhere between 720-1080 and it’s not even an amoled it’s an LCD display\\nBut I decided to go with iPhone because I have never used an IOS device I have Been an android user from the past 9 years I ordered IPhone 11 (128gb) product red\\nMy experience after using 3 weeks\\n1. The delivery ...\\nREAD MORE',\n",
       " 'Amazing Powerful and Durable Gadget.\\n\\nI’m am very happy with the camera picture quality, Amazing face id unlocked in dark room, Strong battery with perfect screen size as you can carry easily in pocket. This is my third iPhone.\\n\\nI shifted from android Samsung Note series to iPhone because of the strong build quality and peace of mind for next 3-4 years.\\n\\nDon’t think to much just go for it and I suggest you to go for minimum 128gb variant or more 256gb.\\n\\nI’ve attached my puppy pics and no fi...\\nREAD MORE',\n",
       " 'So far it’s been an AMAZING experience coming back to iOS after nearly a decade but it’s not as versatile as android though phone is sturdy dropped it accidentally a couple of times and nothing happened fortunately camera is awesome',\n",
       " 'i11 is worthy to buy, too much happy with the product. Thank u flipkart I received the item on time..loved it..',\n",
       " 'What a camera .....just awesome ..you can feel this iPhone just awesome . Good for gaming also ...try pubg in hd it’s just wow']"
      ]
     },
     "execution_count": 306,
     "metadata": {},
     "output_type": "execute_result"
    }
   ],
   "source": [
    "for i in full_reviews_tags:\n",
    "    full_review=i.text\n",
    "    full_reviews.append(full_review)\n",
    "full_reviews[0:10]"
   ]
  },
  {
   "cell_type": "code",
   "execution_count": 307,
   "id": "eb09b66e",
   "metadata": {
    "collapsed": true
   },
   "outputs": [
    {
     "name": "stdout",
     "output_type": "stream",
     "text": [
      "10 10 10\n"
     ]
    }
   ],
   "source": [
    "print(len(ratings),len(review_summaries),len(full_reviews))"
   ]
  },
  {
   "cell_type": "code",
   "execution_count": 308,
   "id": "9deb75f2",
   "metadata": {
    "collapsed": true
   },
   "outputs": [],
   "source": [
    "next_button=driver.find_element_by_xpath(\"/html/body/div[1]/div/div[3]/div/div/div[2]/div[13]/div/div/nav/a[10]\")\n",
    "next_button.click()"
   ]
  },
  {
   "cell_type": "code",
   "execution_count": 316,
   "id": "1d84a03d",
   "metadata": {
    "collapsed": true
   },
   "outputs": [],
   "source": [
    "r_list=[]\n",
    "for i in range(0,11):\n",
    "    ratings_tags=driver.find_elements_by_xpath(\"//div[@class='_3LWZlK _1BLPMq']\")\n",
    "    for i in ratings_tags:\n",
    "        rating=i.text\n",
    "        r_list.append(rating)\n",
    "    next_button=driver.find_element_by_xpath(\"/html/body/div[1]/div/div[3]/div/div/div[2]/div[13]/div/div/nav/a[10]\")\n",
    "    next_button.click()\n",
    "    time.sleep(5)"
   ]
  },
  {
   "cell_type": "code",
   "execution_count": 317,
   "id": "5a59a8f4",
   "metadata": {
    "collapsed": true
   },
   "outputs": [],
   "source": [
    "s_list=[]\n",
    "for i in range(0,11):\n",
    "    review_summaries_tags=driver.find_elements_by_xpath(\"//p[@class='_2-N8zT']\")\n",
    "    for i in review_summaries_tags:\n",
    "        review_summary=i.text\n",
    "        s_list.append(review_summary)\n",
    "    next_button=driver.find_element_by_xpath(\"/html/body/div[1]/div/div[3]/div/div/div[2]/div[13]/div/div/nav/a[10]\")\n",
    "    next_button.click()\n",
    "    time.sleep(5)"
   ]
  },
  {
   "cell_type": "code",
   "execution_count": 315,
   "id": "efc3391b",
   "metadata": {
    "collapsed": true
   },
   "outputs": [],
   "source": [
    "f_list=[]\n",
    "for i in range(0,11):\n",
    "    full_reviews_tags=driver.find_elements_by_xpath(\"//div[@class='t-ZTKy']\")\n",
    "    for i in full_reviews_tags:\n",
    "        full_review=i.text\n",
    "        f_list.append(full_review)\n",
    "    next_button=driver.find_element_by_xpath(\"/html/body/div[1]/div/div[3]/div/div/div[2]/div[13]/div/div/nav/a[10]\")\n",
    "    next_button.click()\n",
    "    time.sleep(5)"
   ]
  },
  {
   "cell_type": "code",
   "execution_count": 319,
   "id": "3d69221d",
   "metadata": {
    "collapsed": true
   },
   "outputs": [
    {
     "name": "stdout",
     "output_type": "stream",
     "text": [
      "100 100 100\n"
     ]
    }
   ],
   "source": [
    "print(len(r_list[0:100]),len(s_list[0:100]),len(f_list[0:100]))"
   ]
  },
  {
   "cell_type": "code",
   "execution_count": 320,
   "id": "8a502a53",
   "metadata": {
    "collapsed": true
   },
   "outputs": [],
   "source": [
    "iphone11=pd.DataFrame({})\n",
    "iphone11['ratings']=r_list[0:100]\n",
    "iphone11['review_summaries']=s_list[0:100]\n",
    "iphone11['full_review']=f_list[0:100]"
   ]
  },
  {
   "cell_type": "code",
   "execution_count": 321,
   "id": "b7ad9c35",
   "metadata": {},
   "outputs": [
    {
     "data": {
      "text/html": [
       "<div>\n",
       "<style scoped>\n",
       "    .dataframe tbody tr th:only-of-type {\n",
       "        vertical-align: middle;\n",
       "    }\n",
       "\n",
       "    .dataframe tbody tr th {\n",
       "        vertical-align: top;\n",
       "    }\n",
       "\n",
       "    .dataframe thead th {\n",
       "        text-align: right;\n",
       "    }\n",
       "</style>\n",
       "<table border=\"1\" class=\"dataframe\">\n",
       "  <thead>\n",
       "    <tr style=\"text-align: right;\">\n",
       "      <th></th>\n",
       "      <th>ratings</th>\n",
       "      <th>review_summaries</th>\n",
       "      <th>full_review</th>\n",
       "    </tr>\n",
       "  </thead>\n",
       "  <tbody>\n",
       "    <tr>\n",
       "      <th>0</th>\n",
       "      <td>5</td>\n",
       "      <td>Highly recommended</td>\n",
       "      <td>phone gets heat up in 5 mins</td>\n",
       "    </tr>\n",
       "    <tr>\n",
       "      <th>1</th>\n",
       "      <td>5</td>\n",
       "      <td>Must buy!</td>\n",
       "      <td>Battery is run only 6-7 hours\\nApple software ...</td>\n",
       "    </tr>\n",
       "    <tr>\n",
       "      <th>2</th>\n",
       "      <td>5</td>\n",
       "      <td>Mind-blowing purchase</td>\n",
       "      <td>This I phone 11 totally amazing specially came...</td>\n",
       "    </tr>\n",
       "    <tr>\n",
       "      <th>3</th>\n",
       "      <td>5</td>\n",
       "      <td>Must buy!</td>\n",
       "      <td>Better than any android phone in the market. G...</td>\n",
       "    </tr>\n",
       "    <tr>\n",
       "      <th>4</th>\n",
       "      <td>5</td>\n",
       "      <td>Classy product</td>\n",
       "      <td>Im using iphone for the first time and i loved...</td>\n",
       "    </tr>\n",
       "    <tr>\n",
       "      <th>...</th>\n",
       "      <td>...</td>\n",
       "      <td>...</td>\n",
       "      <td>...</td>\n",
       "    </tr>\n",
       "    <tr>\n",
       "      <th>95</th>\n",
       "      <td>5</td>\n",
       "      <td>Excellent</td>\n",
       "      <td>Excellent</td>\n",
       "    </tr>\n",
       "    <tr>\n",
       "      <th>96</th>\n",
       "      <td>5</td>\n",
       "      <td>Good choice</td>\n",
       "      <td>Awesome look.</td>\n",
       "    </tr>\n",
       "    <tr>\n",
       "      <th>97</th>\n",
       "      <td>4</td>\n",
       "      <td>Value-for-money</td>\n",
       "      <td>Nice product this price</td>\n",
       "    </tr>\n",
       "    <tr>\n",
       "      <th>98</th>\n",
       "      <td>5</td>\n",
       "      <td>Terrific purchase</td>\n",
       "      <td>Very good</td>\n",
       "    </tr>\n",
       "    <tr>\n",
       "      <th>99</th>\n",
       "      <td>5</td>\n",
       "      <td>Mind-blowing purchase</td>\n",
       "      <td>Good products u can trust</td>\n",
       "    </tr>\n",
       "  </tbody>\n",
       "</table>\n",
       "<p>100 rows × 3 columns</p>\n",
       "</div>"
      ],
      "text/plain": [
       "   ratings       review_summaries  \\\n",
       "0        5     Highly recommended   \n",
       "1        5              Must buy!   \n",
       "2        5  Mind-blowing purchase   \n",
       "3        5              Must buy!   \n",
       "4        5         Classy product   \n",
       "..     ...                    ...   \n",
       "95       5              Excellent   \n",
       "96       5            Good choice   \n",
       "97       4        Value-for-money   \n",
       "98       5      Terrific purchase   \n",
       "99       5  Mind-blowing purchase   \n",
       "\n",
       "                                          full_review  \n",
       "0                        phone gets heat up in 5 mins  \n",
       "1   Battery is run only 6-7 hours\\nApple software ...  \n",
       "2   This I phone 11 totally amazing specially came...  \n",
       "3   Better than any android phone in the market. G...  \n",
       "4   Im using iphone for the first time and i loved...  \n",
       "..                                                ...  \n",
       "95                                          Excellent  \n",
       "96                                      Awesome look.  \n",
       "97                            Nice product this price  \n",
       "98                                          Very good  \n",
       "99                          Good products u can trust  \n",
       "\n",
       "[100 rows x 3 columns]"
      ]
     },
     "execution_count": 321,
     "metadata": {},
     "output_type": "execute_result"
    }
   ],
   "source": [
    "iphone11"
   ]
  },
  {
   "cell_type": "code",
   "execution_count": null,
   "id": "f2c39169",
   "metadata": {
    "collapsed": true
   },
   "outputs": [],
   "source": []
  },
  {
   "cell_type": "markdown",
   "id": "590c9cee",
   "metadata": {},
   "source": [
    "Q6: Scrape data for first 100 sneakers you find when you visit flipkart.com andsearch for “sneakers” in the search field.\n",
    "You have to scrape 4 attributes of each sneaker:\n",
    "1. Brand\n",
    "2. Product Description\n",
    "3. Price"
   ]
  },
  {
   "cell_type": "code",
   "execution_count": 462,
   "id": "29ecb5f2",
   "metadata": {
    "collapsed": true
   },
   "outputs": [],
   "source": [
    "import selenium\n",
    "import pandas as pd\n",
    "from selenium import webdriver\n",
    "import warnings\n",
    "warnings.filterwarnings(\"ignore\")\n",
    "import time"
   ]
  },
  {
   "cell_type": "code",
   "execution_count": 463,
   "id": "b1b41b44",
   "metadata": {
    "collapsed": true
   },
   "outputs": [],
   "source": [
    "driver = webdriver.Chrome(r\"C:\\Drivers\\my driver\\chromedriver.exe\")"
   ]
  },
  {
   "cell_type": "code",
   "execution_count": 464,
   "id": "fe23212d",
   "metadata": {
    "collapsed": true
   },
   "outputs": [],
   "source": [
    "driver=webdriver.Chrome(\"chromedriver.exe\")\n",
    "time.sleep(2)"
   ]
  },
  {
   "cell_type": "code",
   "execution_count": 465,
   "id": "38ae80a9",
   "metadata": {
    "collapsed": true
   },
   "outputs": [],
   "source": [
    "driver.get(\"https://www.flipkart.com/\")"
   ]
  },
  {
   "cell_type": "code",
   "execution_count": 466,
   "id": "5ca0ffbb",
   "metadata": {
    "collapsed": true
   },
   "outputs": [],
   "source": [
    "search_products=driver.find_element_by_class_name(\"_3704LK\")\n",
    "search_products.send_keys(\"sneakers\")"
   ]
  },
  {
   "cell_type": "code",
   "execution_count": 467,
   "id": "b119431e",
   "metadata": {
    "collapsed": true
   },
   "outputs": [],
   "source": [
    "search_button=driver.find_element_by_xpath(\"/html/body/div[1]/div/div[1]/div[1]/div[2]/div[2]/form/div/button\")\n",
    "search_button.click()"
   ]
  },
  {
   "cell_type": "code",
   "execution_count": 468,
   "id": "dc2cdfa7",
   "metadata": {
    "collapsed": true
   },
   "outputs": [],
   "source": [
    "brand_names=[]\n",
    "product_descriptions=[]\n",
    "price_list=[]"
   ]
  },
  {
   "cell_type": "code",
   "execution_count": 469,
   "id": "f6f89193",
   "metadata": {
    "collapsed": true
   },
   "outputs": [
    {
     "data": {
      "text/plain": [
       "[<selenium.webdriver.remote.webelement.WebElement (session=\"8659fb8a4846e63dbf3a3a22959c50b0\", element=\"5fa82b1d-48c8-4758-ae94-d5ccde846be7\")>,\n",
       " <selenium.webdriver.remote.webelement.WebElement (session=\"8659fb8a4846e63dbf3a3a22959c50b0\", element=\"2e461e05-6171-47db-b58d-4494dc8fdf11\")>,\n",
       " <selenium.webdriver.remote.webelement.WebElement (session=\"8659fb8a4846e63dbf3a3a22959c50b0\", element=\"9b19e60d-dff9-4db5-bdd8-88d4e5d3adf5\")>,\n",
       " <selenium.webdriver.remote.webelement.WebElement (session=\"8659fb8a4846e63dbf3a3a22959c50b0\", element=\"60d18f18-de80-484e-bd62-08a4404f4ada\")>,\n",
       " <selenium.webdriver.remote.webelement.WebElement (session=\"8659fb8a4846e63dbf3a3a22959c50b0\", element=\"94fa6d34-6bef-4de1-81bf-e8b0f503b676\")>,\n",
       " <selenium.webdriver.remote.webelement.WebElement (session=\"8659fb8a4846e63dbf3a3a22959c50b0\", element=\"d410e4d6-55ad-407d-8377-ce78fc0e6141\")>,\n",
       " <selenium.webdriver.remote.webelement.WebElement (session=\"8659fb8a4846e63dbf3a3a22959c50b0\", element=\"17d76c67-a1d4-4536-8d0d-9770e3742640\")>,\n",
       " <selenium.webdriver.remote.webelement.WebElement (session=\"8659fb8a4846e63dbf3a3a22959c50b0\", element=\"08addd0b-8dfc-4f23-b722-fe9c8fdbea40\")>,\n",
       " <selenium.webdriver.remote.webelement.WebElement (session=\"8659fb8a4846e63dbf3a3a22959c50b0\", element=\"96c58ce3-68e9-435d-9b47-fd4636e9a5c8\")>,\n",
       " <selenium.webdriver.remote.webelement.WebElement (session=\"8659fb8a4846e63dbf3a3a22959c50b0\", element=\"8fb8247c-c88e-45a8-923f-8ec5a8acffb2\")>,\n",
       " <selenium.webdriver.remote.webelement.WebElement (session=\"8659fb8a4846e63dbf3a3a22959c50b0\", element=\"b02bdc7d-4ede-45ef-9539-c1366a4d7188\")>,\n",
       " <selenium.webdriver.remote.webelement.WebElement (session=\"8659fb8a4846e63dbf3a3a22959c50b0\", element=\"07aa4906-ee91-491a-bace-b3eb6db7a33f\")>,\n",
       " <selenium.webdriver.remote.webelement.WebElement (session=\"8659fb8a4846e63dbf3a3a22959c50b0\", element=\"58a15e69-f59e-44c0-b130-9e37a47975c3\")>,\n",
       " <selenium.webdriver.remote.webelement.WebElement (session=\"8659fb8a4846e63dbf3a3a22959c50b0\", element=\"45962283-513f-4551-ac5c-7f506c4c4e43\")>,\n",
       " <selenium.webdriver.remote.webelement.WebElement (session=\"8659fb8a4846e63dbf3a3a22959c50b0\", element=\"21c3fa39-a224-48d2-bde1-eba9565a74c5\")>,\n",
       " <selenium.webdriver.remote.webelement.WebElement (session=\"8659fb8a4846e63dbf3a3a22959c50b0\", element=\"16f0c7aa-61c8-47aa-a54f-209de0671ad2\")>,\n",
       " <selenium.webdriver.remote.webelement.WebElement (session=\"8659fb8a4846e63dbf3a3a22959c50b0\", element=\"94baf133-559d-4ab1-b065-ef966d39655e\")>,\n",
       " <selenium.webdriver.remote.webelement.WebElement (session=\"8659fb8a4846e63dbf3a3a22959c50b0\", element=\"037a4bf6-3ec0-4254-b479-54d4d07ec11f\")>,\n",
       " <selenium.webdriver.remote.webelement.WebElement (session=\"8659fb8a4846e63dbf3a3a22959c50b0\", element=\"3816456c-67bf-4177-b3cc-5c1e68b8af02\")>,\n",
       " <selenium.webdriver.remote.webelement.WebElement (session=\"8659fb8a4846e63dbf3a3a22959c50b0\", element=\"fffa38c8-3832-4f8a-8971-38993c165d29\")>,\n",
       " <selenium.webdriver.remote.webelement.WebElement (session=\"8659fb8a4846e63dbf3a3a22959c50b0\", element=\"a3dce2a7-9a87-46a1-ad6f-2837966432f8\")>,\n",
       " <selenium.webdriver.remote.webelement.WebElement (session=\"8659fb8a4846e63dbf3a3a22959c50b0\", element=\"38d57945-dc35-4bd9-a033-fef9262297e5\")>,\n",
       " <selenium.webdriver.remote.webelement.WebElement (session=\"8659fb8a4846e63dbf3a3a22959c50b0\", element=\"98fcae02-aa14-4481-bfe1-e5003c7786ce\")>,\n",
       " <selenium.webdriver.remote.webelement.WebElement (session=\"8659fb8a4846e63dbf3a3a22959c50b0\", element=\"dc71d55d-0058-449b-beca-9ea2b10e72ec\")>,\n",
       " <selenium.webdriver.remote.webelement.WebElement (session=\"8659fb8a4846e63dbf3a3a22959c50b0\", element=\"1116cc29-65b9-4448-9951-cf5812433e4e\")>,\n",
       " <selenium.webdriver.remote.webelement.WebElement (session=\"8659fb8a4846e63dbf3a3a22959c50b0\", element=\"311ad7fe-0b8c-48b2-b7a8-82f77fe0b656\")>,\n",
       " <selenium.webdriver.remote.webelement.WebElement (session=\"8659fb8a4846e63dbf3a3a22959c50b0\", element=\"f884b8c8-b625-4253-812f-0aac2ab74573\")>,\n",
       " <selenium.webdriver.remote.webelement.WebElement (session=\"8659fb8a4846e63dbf3a3a22959c50b0\", element=\"c1f7df37-3144-4ad5-b4c6-fdf73de5ba6a\")>,\n",
       " <selenium.webdriver.remote.webelement.WebElement (session=\"8659fb8a4846e63dbf3a3a22959c50b0\", element=\"e216f04a-4839-44f8-91d2-b58a799b6a83\")>,\n",
       " <selenium.webdriver.remote.webelement.WebElement (session=\"8659fb8a4846e63dbf3a3a22959c50b0\", element=\"c09b030d-5d9c-48e1-a495-49e6ab48b9f0\")>,\n",
       " <selenium.webdriver.remote.webelement.WebElement (session=\"8659fb8a4846e63dbf3a3a22959c50b0\", element=\"0e92fc28-f390-43e8-bdd2-1e9bf75eaf1f\")>,\n",
       " <selenium.webdriver.remote.webelement.WebElement (session=\"8659fb8a4846e63dbf3a3a22959c50b0\", element=\"dd918520-d465-4c48-a482-4ba15f41cf6d\")>,\n",
       " <selenium.webdriver.remote.webelement.WebElement (session=\"8659fb8a4846e63dbf3a3a22959c50b0\", element=\"a62817b6-2fa5-4aca-b87c-6f9252e89ad5\")>,\n",
       " <selenium.webdriver.remote.webelement.WebElement (session=\"8659fb8a4846e63dbf3a3a22959c50b0\", element=\"44a19222-cd60-4dd2-b73f-8da9b8c449cc\")>,\n",
       " <selenium.webdriver.remote.webelement.WebElement (session=\"8659fb8a4846e63dbf3a3a22959c50b0\", element=\"abfb7785-0765-4ca9-87c6-8c8803e5a77d\")>,\n",
       " <selenium.webdriver.remote.webelement.WebElement (session=\"8659fb8a4846e63dbf3a3a22959c50b0\", element=\"c0230077-c202-4137-b197-a8340e0a6933\")>,\n",
       " <selenium.webdriver.remote.webelement.WebElement (session=\"8659fb8a4846e63dbf3a3a22959c50b0\", element=\"0b6025e9-6b3c-4532-9ff6-761ea8b18634\")>,\n",
       " <selenium.webdriver.remote.webelement.WebElement (session=\"8659fb8a4846e63dbf3a3a22959c50b0\", element=\"0936029d-cceb-453f-941f-191d80be8303\")>,\n",
       " <selenium.webdriver.remote.webelement.WebElement (session=\"8659fb8a4846e63dbf3a3a22959c50b0\", element=\"f6de67c3-b382-4367-9ea2-46a9f9854647\")>,\n",
       " <selenium.webdriver.remote.webelement.WebElement (session=\"8659fb8a4846e63dbf3a3a22959c50b0\", element=\"0b709848-84ff-4950-83e0-7b80b3d8972a\")>]"
      ]
     },
     "execution_count": 469,
     "metadata": {},
     "output_type": "execute_result"
    }
   ],
   "source": [
    "brand_names_tags=driver.find_elements_by_xpath(\"//div[@class='_2WkVRV']\")\n",
    "brand_names_tags[0:40]"
   ]
  },
  {
   "cell_type": "code",
   "execution_count": 470,
   "id": "da365ebb",
   "metadata": {
    "collapsed": true
   },
   "outputs": [
    {
     "data": {
      "text/plain": [
       "['BRUTON',\n",
       " 'RapidBox',\n",
       " 'URBANBOX',\n",
       " 'BRUTON',\n",
       " 'corsac',\n",
       " 'KWIK FIT',\n",
       " 'BIRDE',\n",
       " 'Cross Finger',\n",
       " 'Labbin',\n",
       " 'Magnolia',\n",
       " 'BRUTON',\n",
       " 'CLYMB',\n",
       " 'Kraasa',\n",
       " 'SCATCHITE',\n",
       " 'aadi',\n",
       " 'RapidBox',\n",
       " 'Layasa',\n",
       " 'ASTEROID',\n",
       " 'World Wear Footwear',\n",
       " 'HRX by Hrithik Roshan',\n",
       " 'ONECENTRE',\n",
       " 'BRUTON',\n",
       " 'ASTEROID',\n",
       " 'RapidBox',\n",
       " 'CLYMB',\n",
       " 'corsac',\n",
       " 'World Wear Footwear',\n",
       " 'Jimnastic shoes',\n",
       " 'World Wear Footwear',\n",
       " 'luxury fashion',\n",
       " 'Chevit',\n",
       " 'Mr ShoesWala',\n",
       " 'Robbie jones',\n",
       " 'Chevit',\n",
       " 'BRUTON',\n",
       " 'Roadster',\n",
       " 'Echor',\n",
       " 'Numenzo',\n",
       " 'Hida',\n",
       " 'Roadster']"
      ]
     },
     "execution_count": 470,
     "metadata": {},
     "output_type": "execute_result"
    }
   ],
   "source": [
    "for i in brand_names_tags:\n",
    "    brand_name=i.text\n",
    "    brand_names.append(brand_name)\n",
    "brand_names[0:40]"
   ]
  },
  {
   "cell_type": "code",
   "execution_count": 471,
   "id": "915234a0",
   "metadata": {
    "collapsed": true
   },
   "outputs": [
    {
     "data": {
      "text/plain": [
       "[<selenium.webdriver.remote.webelement.WebElement (session=\"8659fb8a4846e63dbf3a3a22959c50b0\", element=\"85aae11a-eb7a-4e3d-8bc7-ddd2fa0e3206\")>,\n",
       " <selenium.webdriver.remote.webelement.WebElement (session=\"8659fb8a4846e63dbf3a3a22959c50b0\", element=\"8e2698df-7587-448d-97ae-85c32adcf6b1\")>,\n",
       " <selenium.webdriver.remote.webelement.WebElement (session=\"8659fb8a4846e63dbf3a3a22959c50b0\", element=\"51a8cd42-5183-4d0c-8351-c56b99e33678\")>,\n",
       " <selenium.webdriver.remote.webelement.WebElement (session=\"8659fb8a4846e63dbf3a3a22959c50b0\", element=\"f378d2a0-da89-4534-9b77-d16f765df3f8\")>,\n",
       " <selenium.webdriver.remote.webelement.WebElement (session=\"8659fb8a4846e63dbf3a3a22959c50b0\", element=\"a29c2881-6c54-4609-b92c-469a3768f1db\")>,\n",
       " <selenium.webdriver.remote.webelement.WebElement (session=\"8659fb8a4846e63dbf3a3a22959c50b0\", element=\"2d746e5f-8d06-4498-8854-0acd7bb0dd5a\")>,\n",
       " <selenium.webdriver.remote.webelement.WebElement (session=\"8659fb8a4846e63dbf3a3a22959c50b0\", element=\"06ccec86-c923-4bb5-82de-9bafcc384902\")>,\n",
       " <selenium.webdriver.remote.webelement.WebElement (session=\"8659fb8a4846e63dbf3a3a22959c50b0\", element=\"9de4b0c5-e5b4-45c3-986d-243150fa49c5\")>,\n",
       " <selenium.webdriver.remote.webelement.WebElement (session=\"8659fb8a4846e63dbf3a3a22959c50b0\", element=\"ee48ed4d-808d-4374-a787-c39b286a8f4d\")>,\n",
       " <selenium.webdriver.remote.webelement.WebElement (session=\"8659fb8a4846e63dbf3a3a22959c50b0\", element=\"ffa0ff2b-023b-4fef-8a5c-801e7fd3eba1\")>,\n",
       " <selenium.webdriver.remote.webelement.WebElement (session=\"8659fb8a4846e63dbf3a3a22959c50b0\", element=\"eca2350b-80af-4eec-9f6a-1abd081ddef3\")>,\n",
       " <selenium.webdriver.remote.webelement.WebElement (session=\"8659fb8a4846e63dbf3a3a22959c50b0\", element=\"c17e1319-08ed-44e1-b369-f16464085c00\")>,\n",
       " <selenium.webdriver.remote.webelement.WebElement (session=\"8659fb8a4846e63dbf3a3a22959c50b0\", element=\"c36d5429-815a-4529-9da0-11a46c538738\")>,\n",
       " <selenium.webdriver.remote.webelement.WebElement (session=\"8659fb8a4846e63dbf3a3a22959c50b0\", element=\"8b1d2f93-9000-455b-9817-2aa54ac66d74\")>,\n",
       " <selenium.webdriver.remote.webelement.WebElement (session=\"8659fb8a4846e63dbf3a3a22959c50b0\", element=\"a5aaa6bb-eb06-4eb6-bc3f-2618cfbe9c52\")>,\n",
       " <selenium.webdriver.remote.webelement.WebElement (session=\"8659fb8a4846e63dbf3a3a22959c50b0\", element=\"19ef8dcf-1a41-4367-a2cf-792c707b801a\")>,\n",
       " <selenium.webdriver.remote.webelement.WebElement (session=\"8659fb8a4846e63dbf3a3a22959c50b0\", element=\"05f983c2-5ee8-4544-88cd-0ad4ff2cd2da\")>,\n",
       " <selenium.webdriver.remote.webelement.WebElement (session=\"8659fb8a4846e63dbf3a3a22959c50b0\", element=\"216de3f2-4d09-43e2-9a2d-ffcc5be65686\")>,\n",
       " <selenium.webdriver.remote.webelement.WebElement (session=\"8659fb8a4846e63dbf3a3a22959c50b0\", element=\"85766037-373f-4a35-8c99-33ff354775ad\")>,\n",
       " <selenium.webdriver.remote.webelement.WebElement (session=\"8659fb8a4846e63dbf3a3a22959c50b0\", element=\"bb5d3cff-d80e-4905-a843-50aed07fbbce\")>,\n",
       " <selenium.webdriver.remote.webelement.WebElement (session=\"8659fb8a4846e63dbf3a3a22959c50b0\", element=\"01d44d1e-83fd-4901-82f1-a2ffb2e2eae0\")>,\n",
       " <selenium.webdriver.remote.webelement.WebElement (session=\"8659fb8a4846e63dbf3a3a22959c50b0\", element=\"e45a5eea-091d-4ddd-9590-93c3c02d3ae1\")>,\n",
       " <selenium.webdriver.remote.webelement.WebElement (session=\"8659fb8a4846e63dbf3a3a22959c50b0\", element=\"3248ef21-3dea-40c3-8569-565ac5680221\")>,\n",
       " <selenium.webdriver.remote.webelement.WebElement (session=\"8659fb8a4846e63dbf3a3a22959c50b0\", element=\"79b47769-801c-41f0-aa71-c6927752df02\")>,\n",
       " <selenium.webdriver.remote.webelement.WebElement (session=\"8659fb8a4846e63dbf3a3a22959c50b0\", element=\"b9e7d8a9-5ef2-4dca-b960-738e664ed036\")>,\n",
       " <selenium.webdriver.remote.webelement.WebElement (session=\"8659fb8a4846e63dbf3a3a22959c50b0\", element=\"ba5505f2-5481-4f5c-9756-9bd931fbb072\")>,\n",
       " <selenium.webdriver.remote.webelement.WebElement (session=\"8659fb8a4846e63dbf3a3a22959c50b0\", element=\"34adf322-77f2-41c1-8ae8-b2b084263228\")>,\n",
       " <selenium.webdriver.remote.webelement.WebElement (session=\"8659fb8a4846e63dbf3a3a22959c50b0\", element=\"d1ede1ba-c063-460a-b60d-68bd9b31da81\")>,\n",
       " <selenium.webdriver.remote.webelement.WebElement (session=\"8659fb8a4846e63dbf3a3a22959c50b0\", element=\"14a5c169-76a5-4feb-b6d6-e3dbc972cd75\")>,\n",
       " <selenium.webdriver.remote.webelement.WebElement (session=\"8659fb8a4846e63dbf3a3a22959c50b0\", element=\"24f2b9df-1967-4b82-89d3-7713bbdf44b5\")>,\n",
       " <selenium.webdriver.remote.webelement.WebElement (session=\"8659fb8a4846e63dbf3a3a22959c50b0\", element=\"5cd2ac0d-9751-433d-9e08-f835c435f614\")>]"
      ]
     },
     "execution_count": 471,
     "metadata": {},
     "output_type": "execute_result"
    }
   ],
   "source": [
    "product_descriptions_tags=driver.find_elements_by_xpath(\"//a[@class='IRpwTa']\")\n",
    "product_descriptions_tags[0:40]"
   ]
  },
  {
   "cell_type": "code",
   "execution_count": 472,
   "id": "994606f3",
   "metadata": {
    "collapsed": true
   },
   "outputs": [
    {
     "data": {
      "text/plain": [
       "['Modern Trendy Sneakers Shoes Sneakers For Men',\n",
       " 'Modern Trendy Sneakers Shoes Sneakers For Men',\n",
       " 'STYLISH MENS BLACK AND WHITE SNEAKER Sneakers For Men',\n",
       " 'Kwik FIT casual sneaker shoes and partywear shoes Casua...',\n",
       " 'Stylish Comfortable Lightweight, Breathable Walking Sho...',\n",
       " 'Sneakers For Men',\n",
       " 'Sneakers For Men',\n",
       " 'Sneaker Sneakers For Men',\n",
       " \"Perfect Sports Shoes for Men's Running ,Cycling & Trekk...\",\n",
       " 'Shark-41 Sneakers For Men',\n",
       " 'Sneakers Sneakers For Men',\n",
       " 'Sneakers For Men',\n",
       " 'Sneakers For Men',\n",
       " 'Original Luxury Branded Black Fancy Casual Walking Part...',\n",
       " '5013-Latest Collection Stylish & Trendy of casuals Snea...',\n",
       " 'Sneakers For Men',\n",
       " 'STR2 Sneakers For Men',\n",
       " 'Lattest Sneakers Shoe Sneakers For Men',\n",
       " \"Luxury Branded Fashionable Men's Casual Walking Partywe...\",\n",
       " 'Sneakers For Men',\n",
       " 'STYLISH MENS BLACK TRENDY SNEAKER FOR MENS Sneakers For...',\n",
       " 'Men 5014 Latest Collection Stylish Casual Sports Loafer...',\n",
       " '5011-Latest Collection Stylish & Trendy Casual Sneakers...',\n",
       " \"Men's Casual Shoes in White Color Walking Running Gymwe...\",\n",
       " 'Sneakers For Men',\n",
       " 'Chevit Combo Pack of 5 Casual Sneakers With Canvas Shoe...',\n",
       " 'Lightweight Pack Of 1 Trendy Sneakers Sneakers For Men',\n",
       " 'Men Blue Solid Sneakers Sneakers For Men',\n",
       " \"Men's Sneakers Fashion Lightweight Running Shoes Tennis...\",\n",
       " '411 Casual Sneakers For Men',\n",
       " 'Men Blue Solid Sneakers Sneakers For Men']"
      ]
     },
     "execution_count": 472,
     "metadata": {},
     "output_type": "execute_result"
    }
   ],
   "source": [
    "for i in product_descriptions_tags:\n",
    "    product_description=i.text\n",
    "    product_descriptions.append(product_description)\n",
    "product_descriptions[0:40]"
   ]
  },
  {
   "cell_type": "code",
   "execution_count": 473,
   "id": "58b928b3",
   "metadata": {
    "collapsed": true
   },
   "outputs": [
    {
     "data": {
      "text/plain": [
       "[<selenium.webdriver.remote.webelement.WebElement (session=\"8659fb8a4846e63dbf3a3a22959c50b0\", element=\"7bf4dc29-c946-4dec-b363-233f6ff6035a\")>,\n",
       " <selenium.webdriver.remote.webelement.WebElement (session=\"8659fb8a4846e63dbf3a3a22959c50b0\", element=\"85d1d5d5-8850-4dda-bac0-d82c3103b53d\")>,\n",
       " <selenium.webdriver.remote.webelement.WebElement (session=\"8659fb8a4846e63dbf3a3a22959c50b0\", element=\"6c6ea0e1-d577-4302-8b5a-a55e4757abb3\")>,\n",
       " <selenium.webdriver.remote.webelement.WebElement (session=\"8659fb8a4846e63dbf3a3a22959c50b0\", element=\"f658a738-3b5b-4384-b660-4decf47f6c90\")>,\n",
       " <selenium.webdriver.remote.webelement.WebElement (session=\"8659fb8a4846e63dbf3a3a22959c50b0\", element=\"e0bcb934-793d-42d2-b454-107d9d6410ba\")>,\n",
       " <selenium.webdriver.remote.webelement.WebElement (session=\"8659fb8a4846e63dbf3a3a22959c50b0\", element=\"6fadc255-6c4d-4bdd-958d-489d5775cf16\")>,\n",
       " <selenium.webdriver.remote.webelement.WebElement (session=\"8659fb8a4846e63dbf3a3a22959c50b0\", element=\"d45d48a6-234a-44ea-b642-6c242e56a3e5\")>,\n",
       " <selenium.webdriver.remote.webelement.WebElement (session=\"8659fb8a4846e63dbf3a3a22959c50b0\", element=\"69aaefe8-75a5-4c03-88cf-4611d80c4193\")>,\n",
       " <selenium.webdriver.remote.webelement.WebElement (session=\"8659fb8a4846e63dbf3a3a22959c50b0\", element=\"5ed038c4-1bee-4d9e-bee4-c57c7d4fd314\")>,\n",
       " <selenium.webdriver.remote.webelement.WebElement (session=\"8659fb8a4846e63dbf3a3a22959c50b0\", element=\"08d8dc7a-5dce-43e9-b06a-3f37276882fe\")>,\n",
       " <selenium.webdriver.remote.webelement.WebElement (session=\"8659fb8a4846e63dbf3a3a22959c50b0\", element=\"a45e0d7e-97e9-4fb1-8984-23c4eeb8a6e5\")>,\n",
       " <selenium.webdriver.remote.webelement.WebElement (session=\"8659fb8a4846e63dbf3a3a22959c50b0\", element=\"fad96ba3-1be3-4e5a-be14-b834c8764e1e\")>,\n",
       " <selenium.webdriver.remote.webelement.WebElement (session=\"8659fb8a4846e63dbf3a3a22959c50b0\", element=\"3d912596-e127-4236-8ab2-50ff5eb48297\")>,\n",
       " <selenium.webdriver.remote.webelement.WebElement (session=\"8659fb8a4846e63dbf3a3a22959c50b0\", element=\"453cfed2-cb2c-4113-abed-7821a11ea6af\")>,\n",
       " <selenium.webdriver.remote.webelement.WebElement (session=\"8659fb8a4846e63dbf3a3a22959c50b0\", element=\"ddbdff46-d6b1-49e3-accb-12b347bb04f7\")>,\n",
       " <selenium.webdriver.remote.webelement.WebElement (session=\"8659fb8a4846e63dbf3a3a22959c50b0\", element=\"502ffd55-eb25-4529-aa61-ec556d1615c7\")>,\n",
       " <selenium.webdriver.remote.webelement.WebElement (session=\"8659fb8a4846e63dbf3a3a22959c50b0\", element=\"2bfe62cc-3459-49ee-a746-1516d6a9b4f5\")>,\n",
       " <selenium.webdriver.remote.webelement.WebElement (session=\"8659fb8a4846e63dbf3a3a22959c50b0\", element=\"64cac35d-79f2-42de-9cd4-bf42b1590da5\")>,\n",
       " <selenium.webdriver.remote.webelement.WebElement (session=\"8659fb8a4846e63dbf3a3a22959c50b0\", element=\"0276d372-7bb4-4323-b9dc-2414b06e5a91\")>,\n",
       " <selenium.webdriver.remote.webelement.WebElement (session=\"8659fb8a4846e63dbf3a3a22959c50b0\", element=\"9f5b4336-3a57-49f8-9539-0757549e8aad\")>,\n",
       " <selenium.webdriver.remote.webelement.WebElement (session=\"8659fb8a4846e63dbf3a3a22959c50b0\", element=\"a71b3f59-8ddf-459e-85f7-c7dd06fbd86d\")>,\n",
       " <selenium.webdriver.remote.webelement.WebElement (session=\"8659fb8a4846e63dbf3a3a22959c50b0\", element=\"7dba3841-dc19-4f7b-9af6-c8a4e5b2cd98\")>,\n",
       " <selenium.webdriver.remote.webelement.WebElement (session=\"8659fb8a4846e63dbf3a3a22959c50b0\", element=\"9b428857-7677-434c-b3fd-ab0fa0c056e6\")>,\n",
       " <selenium.webdriver.remote.webelement.WebElement (session=\"8659fb8a4846e63dbf3a3a22959c50b0\", element=\"b1551e9f-a89c-476c-8428-ab32a5b159e4\")>,\n",
       " <selenium.webdriver.remote.webelement.WebElement (session=\"8659fb8a4846e63dbf3a3a22959c50b0\", element=\"11d98283-7346-49ca-ac3a-62827e69f4ff\")>,\n",
       " <selenium.webdriver.remote.webelement.WebElement (session=\"8659fb8a4846e63dbf3a3a22959c50b0\", element=\"997ff923-4bb2-4ec7-b796-d5920949a29e\")>,\n",
       " <selenium.webdriver.remote.webelement.WebElement (session=\"8659fb8a4846e63dbf3a3a22959c50b0\", element=\"368ef4f5-b1f9-4f74-bb41-fdf09f751b0a\")>,\n",
       " <selenium.webdriver.remote.webelement.WebElement (session=\"8659fb8a4846e63dbf3a3a22959c50b0\", element=\"84d5dd00-37ef-468a-b075-648c1731fbf0\")>,\n",
       " <selenium.webdriver.remote.webelement.WebElement (session=\"8659fb8a4846e63dbf3a3a22959c50b0\", element=\"71297171-b7e4-43f8-97c4-dc21eb9637cc\")>,\n",
       " <selenium.webdriver.remote.webelement.WebElement (session=\"8659fb8a4846e63dbf3a3a22959c50b0\", element=\"c271de61-c2ec-4d28-ba7e-b57ab21097d2\")>,\n",
       " <selenium.webdriver.remote.webelement.WebElement (session=\"8659fb8a4846e63dbf3a3a22959c50b0\", element=\"be53a207-6d47-4ea3-8c9f-0151c0cf39ea\")>,\n",
       " <selenium.webdriver.remote.webelement.WebElement (session=\"8659fb8a4846e63dbf3a3a22959c50b0\", element=\"cf116367-6838-4eaa-ba31-baab3deda199\")>,\n",
       " <selenium.webdriver.remote.webelement.WebElement (session=\"8659fb8a4846e63dbf3a3a22959c50b0\", element=\"edfb5bf7-451d-4dbb-acf2-f86698cca737\")>,\n",
       " <selenium.webdriver.remote.webelement.WebElement (session=\"8659fb8a4846e63dbf3a3a22959c50b0\", element=\"6518d5b7-0095-4046-a7de-20e49204d3db\")>,\n",
       " <selenium.webdriver.remote.webelement.WebElement (session=\"8659fb8a4846e63dbf3a3a22959c50b0\", element=\"8d7aa7fe-1f03-44d9-8eaa-428404a8d6fb\")>,\n",
       " <selenium.webdriver.remote.webelement.WebElement (session=\"8659fb8a4846e63dbf3a3a22959c50b0\", element=\"2c64b324-8279-4a73-a488-42e65aedb924\")>,\n",
       " <selenium.webdriver.remote.webelement.WebElement (session=\"8659fb8a4846e63dbf3a3a22959c50b0\", element=\"77703057-fc2f-443c-ac45-086dccc52e95\")>,\n",
       " <selenium.webdriver.remote.webelement.WebElement (session=\"8659fb8a4846e63dbf3a3a22959c50b0\", element=\"f0d4574f-6f46-46e0-9c08-b5f05d820ef4\")>,\n",
       " <selenium.webdriver.remote.webelement.WebElement (session=\"8659fb8a4846e63dbf3a3a22959c50b0\", element=\"b5f9c0c0-d501-471f-ba6b-9c8602aa2abb\")>,\n",
       " <selenium.webdriver.remote.webelement.WebElement (session=\"8659fb8a4846e63dbf3a3a22959c50b0\", element=\"ed43f497-8155-42ae-84cc-5c7870cbc26b\")>]"
      ]
     },
     "execution_count": 473,
     "metadata": {},
     "output_type": "execute_result"
    }
   ],
   "source": [
    "price_tags=driver.find_elements_by_xpath(\"//div[@class='_30jeq3']\")\n",
    "price_tags[0:40]"
   ]
  },
  {
   "cell_type": "code",
   "execution_count": 474,
   "id": "a3cc6acc",
   "metadata": {
    "collapsed": true
   },
   "outputs": [
    {
     "data": {
      "text/plain": [
       "['₹449',\n",
       " '₹645',\n",
       " '₹158',\n",
       " '₹228',\n",
       " '₹449',\n",
       " '₹349',\n",
       " '₹269',\n",
       " '₹379',\n",
       " '₹419',\n",
       " '₹351',\n",
       " '₹249',\n",
       " '₹239',\n",
       " '₹411',\n",
       " '₹308',\n",
       " '₹297',\n",
       " '₹600',\n",
       " '₹449',\n",
       " '₹449',\n",
       " '₹199',\n",
       " '₹1,819',\n",
       " '₹250',\n",
       " '₹249',\n",
       " '₹449',\n",
       " '₹600',\n",
       " '₹599',\n",
       " '₹479',\n",
       " '₹199',\n",
       " '₹347',\n",
       " '₹199',\n",
       " '₹349',\n",
       " '₹219',\n",
       " '₹420',\n",
       " '₹424',\n",
       " '₹561',\n",
       " '₹158',\n",
       " '₹1,224',\n",
       " '₹489',\n",
       " '₹424',\n",
       " '₹534',\n",
       " '₹1,071']"
      ]
     },
     "execution_count": 474,
     "metadata": {},
     "output_type": "execute_result"
    }
   ],
   "source": [
    "for i in price_tags:\n",
    "    price=i.text\n",
    "    price_list.append(price)\n",
    "price_list[0:40]"
   ]
  },
  {
   "cell_type": "code",
   "execution_count": null,
   "id": "c357d2ec",
   "metadata": {
    "collapsed": true
   },
   "outputs": [],
   "source": []
  },
  {
   "cell_type": "code",
   "execution_count": 475,
   "id": "03ca61ea",
   "metadata": {
    "collapsed": true
   },
   "outputs": [
    {
     "name": "stdout",
     "output_type": "stream",
     "text": [
      "40 40 40\n"
     ]
    }
   ],
   "source": [
    "print(len(brand_names[0:40]),len(product_description[0:40]),len(price_list[0:40]))"
   ]
  },
  {
   "cell_type": "code",
   "execution_count": 476,
   "id": "13604f38",
   "metadata": {
    "collapsed": true
   },
   "outputs": [],
   "source": [
    "next_button=driver.find_element_by_xpath(\"/html/body/div[1]/div/div[3]/div[1]/div[2]/div[12]/div/div/nav/a[10]\")\n",
    "next_button.click()"
   ]
  },
  {
   "cell_type": "code",
   "execution_count": 482,
   "id": "94499a25",
   "metadata": {
    "collapsed": true
   },
   "outputs": [],
   "source": [
    "n_list=[]\n",
    "for i in range(0,4):\n",
    "    brand_names_tags=driver.find_elements_by_xpath(\"//div[@class='_2WkVRV']\")\n",
    "    for i in brand_names_tags:\n",
    "        brand_name=i.text\n",
    "        n_list.append(brand_name)\n",
    "    next_button=driver.find_element_by_xpath(\"/html/body/div[1]/div/div[3]/div[1]/div[2]/div[12]/div/div/nav/a[10]\")\n",
    "    next_button.click()\n",
    "    time.sleep(5)"
   ]
  },
  {
   "cell_type": "code",
   "execution_count": 483,
   "id": "a903e14a",
   "metadata": {
    "collapsed": true
   },
   "outputs": [],
   "source": [
    "d_list=[]\n",
    "for i in range(0,4):\n",
    "    product_descriptions_tags=driver.find_elements_by_xpath(\"//a[@class='IRpwTa']\")\n",
    "    for i in product_descriptions_tags:\n",
    "        product_description=i.text\n",
    "        d_list.append(product_description)\n",
    "    next_button=driver.find_element_by_xpath(\"/html/body/div[1]/div/div[3]/div[1]/div[2]/div[12]/div/div/nav/a[10]\")\n",
    "    next_button.click()\n",
    "    time.sleep(5)"
   ]
  },
  {
   "cell_type": "code",
   "execution_count": 495,
   "id": "abfb4fd8",
   "metadata": {
    "collapsed": true
   },
   "outputs": [],
   "source": [
    "p_list=[]\n",
    "for i in range(0,4):\n",
    "    full_reviews_tags=driver.find_elements_by_xpath(\"//div[@class='_30jeq3']\")\n",
    "    for i in full_reviews_tags:\n",
    "        full_review=i.text\n",
    "        p_list.append(full_review)\n",
    "    next_button=driver.find_element_by_xpath(\"/html/body/div[1]/div/div[3]/div[1]/div[2]/div[12]/div/div/nav/a[10]\")\n",
    "    next_button.click()\n",
    "    time.sleep(5)"
   ]
  },
  {
   "cell_type": "code",
   "execution_count": 496,
   "id": "608f907a",
   "metadata": {
    "collapsed": true
   },
   "outputs": [
    {
     "name": "stdout",
     "output_type": "stream",
     "text": [
      "100 100 100\n"
     ]
    }
   ],
   "source": [
    "print(len(n_list[0:100]),len(d_list[0:100]),len(p_list[0:100]))"
   ]
  },
  {
   "cell_type": "code",
   "execution_count": 498,
   "id": "bcc5049c",
   "metadata": {
    "collapsed": true
   },
   "outputs": [],
   "source": [
    "sneakers=pd.DataFrame({})\n",
    "sneakers['brand_names']=n_list[0:100]\n",
    "sneakers['product_descriptions']=d_list[0:100]\n",
    "sneakers['price']=p_list[0:100]"
   ]
  },
  {
   "cell_type": "code",
   "execution_count": 499,
   "id": "836dd62c",
   "metadata": {},
   "outputs": [
    {
     "data": {
      "text/html": [
       "<div>\n",
       "<style scoped>\n",
       "    .dataframe tbody tr th:only-of-type {\n",
       "        vertical-align: middle;\n",
       "    }\n",
       "\n",
       "    .dataframe tbody tr th {\n",
       "        vertical-align: top;\n",
       "    }\n",
       "\n",
       "    .dataframe thead th {\n",
       "        text-align: right;\n",
       "    }\n",
       "</style>\n",
       "<table border=\"1\" class=\"dataframe\">\n",
       "  <thead>\n",
       "    <tr style=\"text-align: right;\">\n",
       "      <th></th>\n",
       "      <th>brand_names</th>\n",
       "      <th>product_descriptions</th>\n",
       "      <th>price</th>\n",
       "    </tr>\n",
       "  </thead>\n",
       "  <tbody>\n",
       "    <tr>\n",
       "      <th>0</th>\n",
       "      <td>India hub</td>\n",
       "      <td>Flexracer HM NU Sneakers For Men</td>\n",
       "      <td>₹349</td>\n",
       "    </tr>\n",
       "    <tr>\n",
       "      <th>1</th>\n",
       "      <td>PUMA</td>\n",
       "      <td>Sneakers For Men</td>\n",
       "      <td>₹1,519</td>\n",
       "    </tr>\n",
       "    <tr>\n",
       "      <th>2</th>\n",
       "      <td>HOTSTYLE</td>\n",
       "      <td>CA Pro Classic Sneakers For Men</td>\n",
       "      <td>₹180</td>\n",
       "    </tr>\n",
       "    <tr>\n",
       "      <th>3</th>\n",
       "      <td>HIGHLANDER</td>\n",
       "      <td>Rs X Twill AirMesh Sneakers For Men</td>\n",
       "      <td>₹945</td>\n",
       "    </tr>\n",
       "    <tr>\n",
       "      <th>4</th>\n",
       "      <td>PUMA</td>\n",
       "      <td>GAIMAN 2.O Sneakers For Men</td>\n",
       "      <td>₹4,509</td>\n",
       "    </tr>\n",
       "    <tr>\n",
       "      <th>...</th>\n",
       "      <td>...</td>\n",
       "      <td>...</td>\n",
       "      <td>...</td>\n",
       "    </tr>\n",
       "    <tr>\n",
       "      <th>95</th>\n",
       "      <td>HIGHLANDER</td>\n",
       "      <td>CA Pro Classic Sneakers For Men</td>\n",
       "      <td>₹669</td>\n",
       "    </tr>\n",
       "    <tr>\n",
       "      <th>96</th>\n",
       "      <td>SPARX</td>\n",
       "      <td>Rs X Twill AirMesh Sneakers For Men</td>\n",
       "      <td>₹1,399</td>\n",
       "    </tr>\n",
       "    <tr>\n",
       "      <th>97</th>\n",
       "      <td>PUMA</td>\n",
       "      <td>GAIMAN 2.O Sneakers For Men</td>\n",
       "      <td>₹6,949</td>\n",
       "    </tr>\n",
       "    <tr>\n",
       "      <th>98</th>\n",
       "      <td>NORTH STAR</td>\n",
       "      <td>Sneakers For Men</td>\n",
       "      <td>₹799</td>\n",
       "    </tr>\n",
       "    <tr>\n",
       "      <th>99</th>\n",
       "      <td>HIGHLANDER</td>\n",
       "      <td>Ferrari RS-Fast Sneakers For Men</td>\n",
       "      <td>₹746</td>\n",
       "    </tr>\n",
       "  </tbody>\n",
       "</table>\n",
       "<p>100 rows × 3 columns</p>\n",
       "</div>"
      ],
      "text/plain": [
       "   brand_names                 product_descriptions   price\n",
       "0    India hub     Flexracer HM NU Sneakers For Men    ₹349\n",
       "1         PUMA                     Sneakers For Men  ₹1,519\n",
       "2     HOTSTYLE      CA Pro Classic Sneakers For Men    ₹180\n",
       "3   HIGHLANDER  Rs X Twill AirMesh Sneakers For Men    ₹945\n",
       "4         PUMA          GAIMAN 2.O Sneakers For Men  ₹4,509\n",
       "..         ...                                  ...     ...\n",
       "95  HIGHLANDER      CA Pro Classic Sneakers For Men    ₹669\n",
       "96       SPARX  Rs X Twill AirMesh Sneakers For Men  ₹1,399\n",
       "97        PUMA          GAIMAN 2.O Sneakers For Men  ₹6,949\n",
       "98  NORTH STAR                     Sneakers For Men    ₹799\n",
       "99  HIGHLANDER     Ferrari RS-Fast Sneakers For Men    ₹746\n",
       "\n",
       "[100 rows x 3 columns]"
      ]
     },
     "execution_count": 499,
     "metadata": {},
     "output_type": "execute_result"
    }
   ],
   "source": [
    "sneakers"
   ]
  },
  {
   "cell_type": "code",
   "execution_count": null,
   "id": "58d78ff4",
   "metadata": {
    "collapsed": true
   },
   "outputs": [],
   "source": []
  },
  {
   "cell_type": "markdown",
   "id": "be1ddfcb",
   "metadata": {},
   "source": [
    "Q7: Go to the link - https://www.myntra.com/shoes\n",
    "\n",
    "Set Price filter to “Rs. 7149 to Rs. 14099 ” , Color filter to “Black”, as shown inthe below image.\n",
    "\n",
    "And then scrape First 100 shoes data you get. The data should include “Brand” of the shoes , Short Shoe description, price of the shoe as shown in the below image."
   ]
  },
  {
   "cell_type": "code",
   "execution_count": 631,
   "id": "2193bfd2",
   "metadata": {
    "collapsed": true
   },
   "outputs": [],
   "source": [
    "import selenium\n",
    "import pandas as pd\n",
    "from selenium import webdriver\n",
    "import warnings\n",
    "warnings.filterwarnings(\"ignore\")\n",
    "import time\n",
    "import numpy as np"
   ]
  },
  {
   "cell_type": "code",
   "execution_count": 632,
   "id": "a2ca11fe",
   "metadata": {
    "collapsed": true
   },
   "outputs": [],
   "source": [
    "driver = webdriver.Chrome(r\"C:\\Drivers\\my driver\\chromedriver.exe\")"
   ]
  },
  {
   "cell_type": "code",
   "execution_count": 633,
   "id": "f733d8fe",
   "metadata": {
    "collapsed": true
   },
   "outputs": [],
   "source": [
    "driver=webdriver.Chrome(\"chromedriver.exe\")\n",
    "time.sleep(2)"
   ]
  },
  {
   "cell_type": "code",
   "execution_count": 634,
   "id": "443c15dc",
   "metadata": {
    "collapsed": true
   },
   "outputs": [],
   "source": [
    "driver.get('https://www.myntra.com/shoes')"
   ]
  },
  {
   "cell_type": "code",
   "execution_count": 637,
   "id": "f11b9868",
   "metadata": {
    "collapsed": true
   },
   "outputs": [],
   "source": [
    "price_filter=driver.find_element_by_xpath(\"/html/body/div[2]/div/div[1]/main/div[3]/div[1]/section/div/div[5]/ul/li[2]/label/div\")\n",
    "price_filter.click()"
   ]
  },
  {
   "cell_type": "code",
   "execution_count": 636,
   "id": "4bcd67ec",
   "metadata": {
    "collapsed": true
   },
   "outputs": [],
   "source": [
    "color_filter=driver.find_element_by_xpath(\"/html/body/div[2]/div/div[1]/main/div[3]/div[1]/section/div/div[6]/ul/li[1]/label/div\")\n",
    "color_filter.click()"
   ]
  },
  {
   "cell_type": "code",
   "execution_count": 638,
   "id": "8a26fe50",
   "metadata": {
    "collapsed": true
   },
   "outputs": [],
   "source": [
    "brand_names=[]\n",
    "shoe_descriptions=[]\n",
    "prices_list=[]"
   ]
  },
  {
   "cell_type": "code",
   "execution_count": 639,
   "id": "69c24bcd",
   "metadata": {
    "collapsed": true
   },
   "outputs": [
    {
     "data": {
      "text/plain": [
       "[<selenium.webdriver.remote.webelement.WebElement (session=\"304fa97a6d50086cdd6cac3c5a1d6469\", element=\"7624095f-62d8-4f40-a301-d6e0c5b4ac83\")>,\n",
       " <selenium.webdriver.remote.webelement.WebElement (session=\"304fa97a6d50086cdd6cac3c5a1d6469\", element=\"18657677-63a7-4b41-b372-9039660d96d8\")>,\n",
       " <selenium.webdriver.remote.webelement.WebElement (session=\"304fa97a6d50086cdd6cac3c5a1d6469\", element=\"7bc588ef-2d70-4e46-b496-e648d2200085\")>,\n",
       " <selenium.webdriver.remote.webelement.WebElement (session=\"304fa97a6d50086cdd6cac3c5a1d6469\", element=\"7b73c8b4-7cde-4a8d-a681-b28ea09b267e\")>,\n",
       " <selenium.webdriver.remote.webelement.WebElement (session=\"304fa97a6d50086cdd6cac3c5a1d6469\", element=\"e5ddbaae-3ed5-40b3-a6b5-ae3af81b949d\")>,\n",
       " <selenium.webdriver.remote.webelement.WebElement (session=\"304fa97a6d50086cdd6cac3c5a1d6469\", element=\"04569d1c-6729-4398-bd1c-597644e786e2\")>,\n",
       " <selenium.webdriver.remote.webelement.WebElement (session=\"304fa97a6d50086cdd6cac3c5a1d6469\", element=\"bc0e3c79-f210-4557-b573-56e01b458f81\")>,\n",
       " <selenium.webdriver.remote.webelement.WebElement (session=\"304fa97a6d50086cdd6cac3c5a1d6469\", element=\"56c4194c-3566-4fd5-8b59-21845026c050\")>,\n",
       " <selenium.webdriver.remote.webelement.WebElement (session=\"304fa97a6d50086cdd6cac3c5a1d6469\", element=\"ab84663c-d865-436a-93af-b70f8f5d953a\")>,\n",
       " <selenium.webdriver.remote.webelement.WebElement (session=\"304fa97a6d50086cdd6cac3c5a1d6469\", element=\"edac4609-4f3a-4f81-86c2-bf7848798896\")>,\n",
       " <selenium.webdriver.remote.webelement.WebElement (session=\"304fa97a6d50086cdd6cac3c5a1d6469\", element=\"974e9fbe-f5be-4d6e-ae7b-d54bc33d8d6e\")>,\n",
       " <selenium.webdriver.remote.webelement.WebElement (session=\"304fa97a6d50086cdd6cac3c5a1d6469\", element=\"9980d5ac-8674-416b-88ec-0d714e33e6a9\")>,\n",
       " <selenium.webdriver.remote.webelement.WebElement (session=\"304fa97a6d50086cdd6cac3c5a1d6469\", element=\"bfd458a6-b081-440a-9b63-9dcfbd7adcce\")>,\n",
       " <selenium.webdriver.remote.webelement.WebElement (session=\"304fa97a6d50086cdd6cac3c5a1d6469\", element=\"8061e55b-268c-4ec3-94c5-12d1937e800d\")>,\n",
       " <selenium.webdriver.remote.webelement.WebElement (session=\"304fa97a6d50086cdd6cac3c5a1d6469\", element=\"e2999bae-e819-46f8-ba4a-493f21aa096c\")>,\n",
       " <selenium.webdriver.remote.webelement.WebElement (session=\"304fa97a6d50086cdd6cac3c5a1d6469\", element=\"e404d8ab-842c-469c-9a17-02a340bbe8f3\")>,\n",
       " <selenium.webdriver.remote.webelement.WebElement (session=\"304fa97a6d50086cdd6cac3c5a1d6469\", element=\"3ccbfa48-f4e0-4cba-854b-a676791acd0f\")>,\n",
       " <selenium.webdriver.remote.webelement.WebElement (session=\"304fa97a6d50086cdd6cac3c5a1d6469\", element=\"02103fb3-a9bc-4d8c-b872-1bc6f854d3f9\")>,\n",
       " <selenium.webdriver.remote.webelement.WebElement (session=\"304fa97a6d50086cdd6cac3c5a1d6469\", element=\"4175042c-4425-42ef-8342-2f2792590f06\")>,\n",
       " <selenium.webdriver.remote.webelement.WebElement (session=\"304fa97a6d50086cdd6cac3c5a1d6469\", element=\"928320f8-ee17-426e-a372-71d2951e46ec\")>,\n",
       " <selenium.webdriver.remote.webelement.WebElement (session=\"304fa97a6d50086cdd6cac3c5a1d6469\", element=\"ff749d15-4b2f-4ea9-99bb-5964979c823b\")>,\n",
       " <selenium.webdriver.remote.webelement.WebElement (session=\"304fa97a6d50086cdd6cac3c5a1d6469\", element=\"d50fb354-2283-4fdc-97c9-c697ed4d87e9\")>,\n",
       " <selenium.webdriver.remote.webelement.WebElement (session=\"304fa97a6d50086cdd6cac3c5a1d6469\", element=\"ec67c8fc-fce3-45ff-8e2c-09e702897d77\")>,\n",
       " <selenium.webdriver.remote.webelement.WebElement (session=\"304fa97a6d50086cdd6cac3c5a1d6469\", element=\"b14b0bdb-5078-4737-8a91-3e13b91fe2c0\")>,\n",
       " <selenium.webdriver.remote.webelement.WebElement (session=\"304fa97a6d50086cdd6cac3c5a1d6469\", element=\"ea6ed50a-7e32-46fb-a9c0-174c61761a92\")>,\n",
       " <selenium.webdriver.remote.webelement.WebElement (session=\"304fa97a6d50086cdd6cac3c5a1d6469\", element=\"f240d1a7-cfe2-464b-99fb-bc83b0e462b6\")>,\n",
       " <selenium.webdriver.remote.webelement.WebElement (session=\"304fa97a6d50086cdd6cac3c5a1d6469\", element=\"3cebcb49-963e-4b65-b724-48d7125a4a54\")>,\n",
       " <selenium.webdriver.remote.webelement.WebElement (session=\"304fa97a6d50086cdd6cac3c5a1d6469\", element=\"04af1aa9-537c-4b8a-8182-d7d5371d4b3f\")>,\n",
       " <selenium.webdriver.remote.webelement.WebElement (session=\"304fa97a6d50086cdd6cac3c5a1d6469\", element=\"17af6b4a-3e6f-4be8-9be1-9b302dd37db3\")>,\n",
       " <selenium.webdriver.remote.webelement.WebElement (session=\"304fa97a6d50086cdd6cac3c5a1d6469\", element=\"9889e525-a71f-4162-81b6-0f8bf55bd017\")>,\n",
       " <selenium.webdriver.remote.webelement.WebElement (session=\"304fa97a6d50086cdd6cac3c5a1d6469\", element=\"e220e01a-3b62-4fdc-b251-a7945b202fc3\")>,\n",
       " <selenium.webdriver.remote.webelement.WebElement (session=\"304fa97a6d50086cdd6cac3c5a1d6469\", element=\"6eb116a8-eb0f-43cd-880f-bfa410f312fa\")>,\n",
       " <selenium.webdriver.remote.webelement.WebElement (session=\"304fa97a6d50086cdd6cac3c5a1d6469\", element=\"49cdd147-b16e-4881-93e0-6fac2e3d26fd\")>,\n",
       " <selenium.webdriver.remote.webelement.WebElement (session=\"304fa97a6d50086cdd6cac3c5a1d6469\", element=\"7f5f9681-e218-4842-a512-6488a20ddb0e\")>,\n",
       " <selenium.webdriver.remote.webelement.WebElement (session=\"304fa97a6d50086cdd6cac3c5a1d6469\", element=\"704be102-26ea-4e6d-9062-0d2872b67c68\")>,\n",
       " <selenium.webdriver.remote.webelement.WebElement (session=\"304fa97a6d50086cdd6cac3c5a1d6469\", element=\"f8da13e1-3a2e-4799-ab92-0088a1efcbd3\")>,\n",
       " <selenium.webdriver.remote.webelement.WebElement (session=\"304fa97a6d50086cdd6cac3c5a1d6469\", element=\"a2db42b8-8693-455a-8bf6-7c20930b1037\")>,\n",
       " <selenium.webdriver.remote.webelement.WebElement (session=\"304fa97a6d50086cdd6cac3c5a1d6469\", element=\"f05d82b8-b5d1-4a93-b68a-e797eb9008c1\")>,\n",
       " <selenium.webdriver.remote.webelement.WebElement (session=\"304fa97a6d50086cdd6cac3c5a1d6469\", element=\"3146ea53-863b-4301-9f2a-8fd8382c81ed\")>,\n",
       " <selenium.webdriver.remote.webelement.WebElement (session=\"304fa97a6d50086cdd6cac3c5a1d6469\", element=\"821ddf70-bfae-49db-879a-a438a824ad14\")>,\n",
       " <selenium.webdriver.remote.webelement.WebElement (session=\"304fa97a6d50086cdd6cac3c5a1d6469\", element=\"cb86bc09-05be-47d8-8604-c529e1fc68b8\")>,\n",
       " <selenium.webdriver.remote.webelement.WebElement (session=\"304fa97a6d50086cdd6cac3c5a1d6469\", element=\"ba5df446-e861-4846-bf91-3fb15a51729b\")>,\n",
       " <selenium.webdriver.remote.webelement.WebElement (session=\"304fa97a6d50086cdd6cac3c5a1d6469\", element=\"ff8fbb5f-5f70-4ca9-b54b-c6838271a62c\")>,\n",
       " <selenium.webdriver.remote.webelement.WebElement (session=\"304fa97a6d50086cdd6cac3c5a1d6469\", element=\"f102d2b8-a783-4a61-9f60-fec4154c828e\")>,\n",
       " <selenium.webdriver.remote.webelement.WebElement (session=\"304fa97a6d50086cdd6cac3c5a1d6469\", element=\"32e74832-8543-4639-bdfc-21329ce841ca\")>,\n",
       " <selenium.webdriver.remote.webelement.WebElement (session=\"304fa97a6d50086cdd6cac3c5a1d6469\", element=\"1eab396c-dcac-4289-9726-bb35685652fc\")>,\n",
       " <selenium.webdriver.remote.webelement.WebElement (session=\"304fa97a6d50086cdd6cac3c5a1d6469\", element=\"e234b0dc-afcb-4148-808f-ffcc2b07acd1\")>,\n",
       " <selenium.webdriver.remote.webelement.WebElement (session=\"304fa97a6d50086cdd6cac3c5a1d6469\", element=\"3b6e971e-61f6-42bd-9da5-5f5235827129\")>,\n",
       " <selenium.webdriver.remote.webelement.WebElement (session=\"304fa97a6d50086cdd6cac3c5a1d6469\", element=\"f90c7878-8080-4d81-9b45-28c031e54c94\")>,\n",
       " <selenium.webdriver.remote.webelement.WebElement (session=\"304fa97a6d50086cdd6cac3c5a1d6469\", element=\"254e330f-dddb-43d0-85be-86cf445880a2\")>]"
      ]
     },
     "execution_count": 639,
     "metadata": {},
     "output_type": "execute_result"
    }
   ],
   "source": [
    "brand_name_tags=driver.find_elements_by_xpath(\"//h3[@class='product-brand']\")\n",
    "brand_name_tags[0:50]"
   ]
  },
  {
   "cell_type": "code",
   "execution_count": 640,
   "id": "94210392",
   "metadata": {
    "collapsed": true
   },
   "outputs": [
    {
     "data": {
      "text/plain": [
       "['Skechers',\n",
       " 'UNDER ARMOUR',\n",
       " 'ALDO',\n",
       " 'Nike',\n",
       " 'Nike',\n",
       " 'ALDO',\n",
       " 'ALDO',\n",
       " 'Puma',\n",
       " 'UNDER ARMOUR',\n",
       " 'Skechers',\n",
       " 'Skechers',\n",
       " 'ALDO',\n",
       " 'ADIDAS Originals',\n",
       " 'UNDER ARMOUR',\n",
       " 'PUMA Motorsport',\n",
       " 'UNDER ARMOUR',\n",
       " 'PUMA Motorsport',\n",
       " 'Puma',\n",
       " 'Hush Puppies',\n",
       " 'UNDER ARMOUR',\n",
       " 'Puma',\n",
       " 'Tommy Hilfiger',\n",
       " 'Puma',\n",
       " 'Nike',\n",
       " 'ADIDAS Originals',\n",
       " 'UNDER ARMOUR',\n",
       " 'Puma',\n",
       " 'Puma',\n",
       " 'Hush Puppies',\n",
       " 'Reebok',\n",
       " 'Hush Puppies',\n",
       " 'Tommy Hilfiger',\n",
       " 'UNDER ARMOUR',\n",
       " 'Puma',\n",
       " 'Geox',\n",
       " 'Puma',\n",
       " 'Puma',\n",
       " 'Reebok',\n",
       " 'Nike',\n",
       " 'Hush Puppies',\n",
       " 'Puma',\n",
       " 'ASICS',\n",
       " 'Puma',\n",
       " 'Puma',\n",
       " 'PUMA Motorsport',\n",
       " 'Puma',\n",
       " 'Puma',\n",
       " 'Puma',\n",
       " 'Puma',\n",
       " 'UNDER ARMOUR']"
      ]
     },
     "execution_count": 640,
     "metadata": {},
     "output_type": "execute_result"
    }
   ],
   "source": [
    "for i in brand_name_tags:\n",
    "    brand_name=i.text\n",
    "    brand_names.append(brand_name)\n",
    "brand_names[0:50]"
   ]
  },
  {
   "cell_type": "code",
   "execution_count": 641,
   "id": "c90f19f5",
   "metadata": {
    "collapsed": true
   },
   "outputs": [
    {
     "data": {
      "text/plain": [
       "[<selenium.webdriver.remote.webelement.WebElement (session=\"304fa97a6d50086cdd6cac3c5a1d6469\", element=\"780ece56-ac5c-45ad-83bd-0d70218a8da7\")>,\n",
       " <selenium.webdriver.remote.webelement.WebElement (session=\"304fa97a6d50086cdd6cac3c5a1d6469\", element=\"14548037-925b-4926-bb58-32b695eaae37\")>,\n",
       " <selenium.webdriver.remote.webelement.WebElement (session=\"304fa97a6d50086cdd6cac3c5a1d6469\", element=\"08542a71-a827-495c-90d5-90312043284e\")>,\n",
       " <selenium.webdriver.remote.webelement.WebElement (session=\"304fa97a6d50086cdd6cac3c5a1d6469\", element=\"a918f866-8843-4878-b77c-d09eb5689a98\")>,\n",
       " <selenium.webdriver.remote.webelement.WebElement (session=\"304fa97a6d50086cdd6cac3c5a1d6469\", element=\"29ee7bd0-7fcf-4e47-a3c2-21a98673f75b\")>,\n",
       " <selenium.webdriver.remote.webelement.WebElement (session=\"304fa97a6d50086cdd6cac3c5a1d6469\", element=\"f2c7c1e8-e862-4a0e-a7d1-e1a862b58d39\")>,\n",
       " <selenium.webdriver.remote.webelement.WebElement (session=\"304fa97a6d50086cdd6cac3c5a1d6469\", element=\"7aec357f-afce-45c6-837d-ec2f2279303a\")>,\n",
       " <selenium.webdriver.remote.webelement.WebElement (session=\"304fa97a6d50086cdd6cac3c5a1d6469\", element=\"039c4a05-5343-4e80-bc9a-d9568d3460e4\")>,\n",
       " <selenium.webdriver.remote.webelement.WebElement (session=\"304fa97a6d50086cdd6cac3c5a1d6469\", element=\"0ace96ad-28b2-4d8b-b429-f94ac3e9e59d\")>,\n",
       " <selenium.webdriver.remote.webelement.WebElement (session=\"304fa97a6d50086cdd6cac3c5a1d6469\", element=\"e9d7fca6-264b-428a-830b-78cd882da0b5\")>,\n",
       " <selenium.webdriver.remote.webelement.WebElement (session=\"304fa97a6d50086cdd6cac3c5a1d6469\", element=\"c3399313-bdf1-4553-be3d-a12ee95c19b7\")>,\n",
       " <selenium.webdriver.remote.webelement.WebElement (session=\"304fa97a6d50086cdd6cac3c5a1d6469\", element=\"7be297c9-af47-4a9b-86f0-12c161e43b70\")>,\n",
       " <selenium.webdriver.remote.webelement.WebElement (session=\"304fa97a6d50086cdd6cac3c5a1d6469\", element=\"3c3a191f-e2f2-45da-b78a-dbe98b43556a\")>,\n",
       " <selenium.webdriver.remote.webelement.WebElement (session=\"304fa97a6d50086cdd6cac3c5a1d6469\", element=\"36fa4056-0e08-4289-a7a5-2e299e6d1fab\")>,\n",
       " <selenium.webdriver.remote.webelement.WebElement (session=\"304fa97a6d50086cdd6cac3c5a1d6469\", element=\"10ebbbad-35b0-46cb-8cfc-318128d6631c\")>,\n",
       " <selenium.webdriver.remote.webelement.WebElement (session=\"304fa97a6d50086cdd6cac3c5a1d6469\", element=\"5b55c280-e3b2-44eb-a519-9cabcf777444\")>,\n",
       " <selenium.webdriver.remote.webelement.WebElement (session=\"304fa97a6d50086cdd6cac3c5a1d6469\", element=\"a6b81dd8-6903-4cd4-a748-b9b419a35ba1\")>,\n",
       " <selenium.webdriver.remote.webelement.WebElement (session=\"304fa97a6d50086cdd6cac3c5a1d6469\", element=\"70888e2a-3d45-49b9-b492-8dd55ef5c562\")>,\n",
       " <selenium.webdriver.remote.webelement.WebElement (session=\"304fa97a6d50086cdd6cac3c5a1d6469\", element=\"21b17202-e9a5-47f2-8028-35b2dcfec73c\")>,\n",
       " <selenium.webdriver.remote.webelement.WebElement (session=\"304fa97a6d50086cdd6cac3c5a1d6469\", element=\"4f308f40-e0fa-49ea-8fec-bb5be7f28c05\")>,\n",
       " <selenium.webdriver.remote.webelement.WebElement (session=\"304fa97a6d50086cdd6cac3c5a1d6469\", element=\"dee7f172-5272-4315-a5c2-aa8c2e19cca6\")>,\n",
       " <selenium.webdriver.remote.webelement.WebElement (session=\"304fa97a6d50086cdd6cac3c5a1d6469\", element=\"5d7215f3-fff2-4184-ae30-d853343a0b9b\")>,\n",
       " <selenium.webdriver.remote.webelement.WebElement (session=\"304fa97a6d50086cdd6cac3c5a1d6469\", element=\"ca89b8b3-e9a9-4de9-b793-7b7f37c173f5\")>,\n",
       " <selenium.webdriver.remote.webelement.WebElement (session=\"304fa97a6d50086cdd6cac3c5a1d6469\", element=\"70faa9d1-5e04-4d32-a382-2aa300cab3ac\")>,\n",
       " <selenium.webdriver.remote.webelement.WebElement (session=\"304fa97a6d50086cdd6cac3c5a1d6469\", element=\"f6625c7a-254b-4950-8e86-0252f83c5119\")>,\n",
       " <selenium.webdriver.remote.webelement.WebElement (session=\"304fa97a6d50086cdd6cac3c5a1d6469\", element=\"c6b9154a-9594-4399-bbfb-27ea52ec45e5\")>,\n",
       " <selenium.webdriver.remote.webelement.WebElement (session=\"304fa97a6d50086cdd6cac3c5a1d6469\", element=\"85b4b5fe-3a65-4d6e-8cbe-7a7ca1947f1f\")>,\n",
       " <selenium.webdriver.remote.webelement.WebElement (session=\"304fa97a6d50086cdd6cac3c5a1d6469\", element=\"b9fe74d6-1c3e-40a2-8ab0-7a1092d7366b\")>,\n",
       " <selenium.webdriver.remote.webelement.WebElement (session=\"304fa97a6d50086cdd6cac3c5a1d6469\", element=\"954b77dd-93fc-4505-a25a-68386bab4bf7\")>,\n",
       " <selenium.webdriver.remote.webelement.WebElement (session=\"304fa97a6d50086cdd6cac3c5a1d6469\", element=\"cfff6657-e433-4bd4-8b19-9f0a059b6409\")>,\n",
       " <selenium.webdriver.remote.webelement.WebElement (session=\"304fa97a6d50086cdd6cac3c5a1d6469\", element=\"136c8761-2ee0-42a1-acf4-59c51e96ea3a\")>,\n",
       " <selenium.webdriver.remote.webelement.WebElement (session=\"304fa97a6d50086cdd6cac3c5a1d6469\", element=\"42c91152-889d-464c-9a9f-ae29f9989308\")>,\n",
       " <selenium.webdriver.remote.webelement.WebElement (session=\"304fa97a6d50086cdd6cac3c5a1d6469\", element=\"5c63e5c3-31c6-4644-a74b-cef118f2c9ce\")>,\n",
       " <selenium.webdriver.remote.webelement.WebElement (session=\"304fa97a6d50086cdd6cac3c5a1d6469\", element=\"7c0336b9-2f5a-411e-a135-85a0a9a719dd\")>,\n",
       " <selenium.webdriver.remote.webelement.WebElement (session=\"304fa97a6d50086cdd6cac3c5a1d6469\", element=\"025be0c4-f4d7-4db9-9944-4b7dbacfcbbb\")>,\n",
       " <selenium.webdriver.remote.webelement.WebElement (session=\"304fa97a6d50086cdd6cac3c5a1d6469\", element=\"84989165-2728-447f-b5f6-72c43a127552\")>,\n",
       " <selenium.webdriver.remote.webelement.WebElement (session=\"304fa97a6d50086cdd6cac3c5a1d6469\", element=\"69e5382c-73ea-480a-93dc-a8a4473f93b4\")>,\n",
       " <selenium.webdriver.remote.webelement.WebElement (session=\"304fa97a6d50086cdd6cac3c5a1d6469\", element=\"167b00bf-02a6-4256-95ae-41c5c82ecc15\")>,\n",
       " <selenium.webdriver.remote.webelement.WebElement (session=\"304fa97a6d50086cdd6cac3c5a1d6469\", element=\"188e642a-ac97-4d20-be86-40679c31c1ee\")>,\n",
       " <selenium.webdriver.remote.webelement.WebElement (session=\"304fa97a6d50086cdd6cac3c5a1d6469\", element=\"532cfab6-e205-463f-ac1e-3338a72e6dad\")>,\n",
       " <selenium.webdriver.remote.webelement.WebElement (session=\"304fa97a6d50086cdd6cac3c5a1d6469\", element=\"a5ce6747-941e-4656-bff1-eb6aa5659f9a\")>,\n",
       " <selenium.webdriver.remote.webelement.WebElement (session=\"304fa97a6d50086cdd6cac3c5a1d6469\", element=\"b1b964df-48df-49c9-9fd7-245d88eb8ab7\")>,\n",
       " <selenium.webdriver.remote.webelement.WebElement (session=\"304fa97a6d50086cdd6cac3c5a1d6469\", element=\"505454ee-2f33-4291-b492-5b30238f9c22\")>,\n",
       " <selenium.webdriver.remote.webelement.WebElement (session=\"304fa97a6d50086cdd6cac3c5a1d6469\", element=\"2c4aab75-96fc-472d-b379-717ee859a07e\")>,\n",
       " <selenium.webdriver.remote.webelement.WebElement (session=\"304fa97a6d50086cdd6cac3c5a1d6469\", element=\"840b4037-60af-46d4-87e8-575f345c91ed\")>,\n",
       " <selenium.webdriver.remote.webelement.WebElement (session=\"304fa97a6d50086cdd6cac3c5a1d6469\", element=\"f17d5535-fda8-440a-b626-df04cf04373c\")>,\n",
       " <selenium.webdriver.remote.webelement.WebElement (session=\"304fa97a6d50086cdd6cac3c5a1d6469\", element=\"289f3303-1bf5-4f74-aa3b-594b21b96388\")>,\n",
       " <selenium.webdriver.remote.webelement.WebElement (session=\"304fa97a6d50086cdd6cac3c5a1d6469\", element=\"ba3b865b-529b-43f5-a497-b5fd4720838f\")>,\n",
       " <selenium.webdriver.remote.webelement.WebElement (session=\"304fa97a6d50086cdd6cac3c5a1d6469\", element=\"684131c9-afdf-46ee-8d11-63068fb29d32\")>,\n",
       " <selenium.webdriver.remote.webelement.WebElement (session=\"304fa97a6d50086cdd6cac3c5a1d6469\", element=\"fbe5c9af-f99d-4108-a6e3-de5f44f4683b\")>]"
      ]
     },
     "execution_count": 641,
     "metadata": {},
     "output_type": "execute_result"
    }
   ],
   "source": [
    "shoe_descriptions_tags=driver.find_elements_by_xpath(\"//h4[@class='product-product']\")\n",
    "shoe_descriptions_tags[0:50]"
   ]
  },
  {
   "cell_type": "code",
   "execution_count": 642,
   "id": "53766f6b",
   "metadata": {
    "collapsed": true
   },
   "outputs": [
    {
     "data": {
      "text/plain": [
       "['Men Max Cushioning Running',\n",
       " 'Men Vantage 2 Running Shoes',\n",
       " 'Men Sneakers',\n",
       " 'Women React MR 3 Running Shoes',\n",
       " 'Women Free Metcon 4 Training',\n",
       " 'Men Woven Design Sneakers',\n",
       " 'Men Leather Driving Shoes',\n",
       " 'Men Colourblocked RS-Z Core',\n",
       " 'Men Charged Rouge 3 Run Shoes',\n",
       " 'Men MAX CUSHIONING ELITE-LUCID',\n",
       " 'Men Sky Vault Walking Shoes',\n",
       " 'Men Leather Loafers',\n",
       " 'Men Niteball II Sneakers',\n",
       " 'Women Breeze Running Shoes',\n",
       " 'Men MAPF1 X-Ray Speed Sneakers',\n",
       " 'Men Charged Breeze Running',\n",
       " 'Unisex Ferrari IONSpeed',\n",
       " 'Eternity Nitro Running Shoes',\n",
       " 'Men Solid Leather Formal Slip-Ons',\n",
       " 'Men UA Charged Vantage 2 Run',\n",
       " 'Men M Nitro Running Shoess',\n",
       " 'Men Textured Loafers',\n",
       " 'Men D Nitro WTR Running Shoes',\n",
       " 'Men Air Max Dawn Sneakers',\n",
       " 'Men Solid Ozweego Sneakers',\n",
       " 'Men UA TriBase Reign4 Training',\n",
       " 'Men Voyage Nitro Running Shoes',\n",
       " 'Mirage Sport Hacked Sneakers',\n",
       " 'Men Formal Derbys',\n",
       " 'Men Zig Dynamica 2.0 Running',\n",
       " 'Men Solid Leather Formal Derbys',\n",
       " 'Men Leather Sneakers',\n",
       " 'Women Charged Vantage 2 Run',\n",
       " 'Unisex KING Pro 21 Football',\n",
       " 'Men Textured Leather Driving Shoes',\n",
       " 'Unisex Leather Trainers',\n",
       " 'Men Velocity Nitro Running',\n",
       " 'Men Zig Dynamica 3.0 Running',\n",
       " 'Men AIR MAX PRE-DAY Sneakers',\n",
       " 'Men Solid Formal Slip-Ons',\n",
       " 'Men Golf Shoes',\n",
       " 'Men Running Shoes',\n",
       " 'Electrify Nitro Running Shoes',\n",
       " 'Men Voyage Nitro Running Shoes',\n",
       " 'Men ZenonSpeed Sneakers',\n",
       " 'Women Eternity NITRO Shoes',\n",
       " 'Men Deviate Nitro Shoes',\n",
       " 'Men KING Top Football Shoes',\n",
       " 'Women Running Sports Shoes',\n",
       " 'W omen TriBase Reign 4 Running']"
      ]
     },
     "execution_count": 642,
     "metadata": {},
     "output_type": "execute_result"
    }
   ],
   "source": [
    "for i in shoe_descriptions_tags:\n",
    "    shoe_description=i.text\n",
    "    shoe_descriptions.append(shoe_description)\n",
    "shoe_descriptions[0:50]"
   ]
  },
  {
   "cell_type": "code",
   "execution_count": 643,
   "id": "78062a13",
   "metadata": {
    "collapsed": true
   },
   "outputs": [
    {
     "data": {
      "text/plain": [
       "[<selenium.webdriver.remote.webelement.WebElement (session=\"304fa97a6d50086cdd6cac3c5a1d6469\", element=\"c5398e95-fe9d-445d-9210-c3f7a0094fb4\")>,\n",
       " <selenium.webdriver.remote.webelement.WebElement (session=\"304fa97a6d50086cdd6cac3c5a1d6469\", element=\"5d93a06a-fed8-422a-b09c-7a78a6981f37\")>,\n",
       " <selenium.webdriver.remote.webelement.WebElement (session=\"304fa97a6d50086cdd6cac3c5a1d6469\", element=\"a64766bc-8eee-46e1-997a-7b8f11ef982c\")>,\n",
       " <selenium.webdriver.remote.webelement.WebElement (session=\"304fa97a6d50086cdd6cac3c5a1d6469\", element=\"f90fcfef-82ce-4152-b9f6-cf80fc07c4bb\")>,\n",
       " <selenium.webdriver.remote.webelement.WebElement (session=\"304fa97a6d50086cdd6cac3c5a1d6469\", element=\"34a9e98c-76d5-451a-9b09-60db4d2a7018\")>,\n",
       " <selenium.webdriver.remote.webelement.WebElement (session=\"304fa97a6d50086cdd6cac3c5a1d6469\", element=\"8344bc68-36a9-4e3a-be69-7505371f7f7b\")>,\n",
       " <selenium.webdriver.remote.webelement.WebElement (session=\"304fa97a6d50086cdd6cac3c5a1d6469\", element=\"ae1b1a98-2c05-45b7-a7f3-8f178e146520\")>,\n",
       " <selenium.webdriver.remote.webelement.WebElement (session=\"304fa97a6d50086cdd6cac3c5a1d6469\", element=\"71330815-2c06-4dfc-b5e1-26680b3559c3\")>,\n",
       " <selenium.webdriver.remote.webelement.WebElement (session=\"304fa97a6d50086cdd6cac3c5a1d6469\", element=\"9f6903fb-c6a9-4d8c-9f41-89e4f3858b71\")>,\n",
       " <selenium.webdriver.remote.webelement.WebElement (session=\"304fa97a6d50086cdd6cac3c5a1d6469\", element=\"f08920f4-1ea7-4142-8992-7d0dfbefe1e3\")>,\n",
       " <selenium.webdriver.remote.webelement.WebElement (session=\"304fa97a6d50086cdd6cac3c5a1d6469\", element=\"ad3b9dc6-e0cd-4f44-862d-b934d0cae7aa\")>,\n",
       " <selenium.webdriver.remote.webelement.WebElement (session=\"304fa97a6d50086cdd6cac3c5a1d6469\", element=\"8bc4ed8b-363d-470e-a3e8-fd4dbd833151\")>,\n",
       " <selenium.webdriver.remote.webelement.WebElement (session=\"304fa97a6d50086cdd6cac3c5a1d6469\", element=\"d833b09d-a5fb-4332-8ac4-7ab2761aadea\")>,\n",
       " <selenium.webdriver.remote.webelement.WebElement (session=\"304fa97a6d50086cdd6cac3c5a1d6469\", element=\"b1357d69-8dfd-45f2-8e4b-4fc1a614b4f5\")>,\n",
       " <selenium.webdriver.remote.webelement.WebElement (session=\"304fa97a6d50086cdd6cac3c5a1d6469\", element=\"97626e5e-5eb7-4923-b3e1-de5e0797f14e\")>,\n",
       " <selenium.webdriver.remote.webelement.WebElement (session=\"304fa97a6d50086cdd6cac3c5a1d6469\", element=\"665c127b-9816-44c4-9d68-55e9d91f6258\")>,\n",
       " <selenium.webdriver.remote.webelement.WebElement (session=\"304fa97a6d50086cdd6cac3c5a1d6469\", element=\"d3f830bf-7b87-48fb-ba55-d46151ae64d6\")>,\n",
       " <selenium.webdriver.remote.webelement.WebElement (session=\"304fa97a6d50086cdd6cac3c5a1d6469\", element=\"89842be0-786d-4a79-b3c3-a59c2954bbe4\")>,\n",
       " <selenium.webdriver.remote.webelement.WebElement (session=\"304fa97a6d50086cdd6cac3c5a1d6469\", element=\"d4873d8d-cbbe-4d6d-a979-e1fccf27918e\")>,\n",
       " <selenium.webdriver.remote.webelement.WebElement (session=\"304fa97a6d50086cdd6cac3c5a1d6469\", element=\"e807bd8d-d6c9-4144-a3aa-0295ed7cc921\")>,\n",
       " <selenium.webdriver.remote.webelement.WebElement (session=\"304fa97a6d50086cdd6cac3c5a1d6469\", element=\"69642316-5bcc-4bd3-b657-69515293384b\")>,\n",
       " <selenium.webdriver.remote.webelement.WebElement (session=\"304fa97a6d50086cdd6cac3c5a1d6469\", element=\"d90fb45b-feac-427a-858c-57c24a14b9e5\")>,\n",
       " <selenium.webdriver.remote.webelement.WebElement (session=\"304fa97a6d50086cdd6cac3c5a1d6469\", element=\"38d257e1-ff97-4a6b-b8fd-e51b48b1a4e8\")>,\n",
       " <selenium.webdriver.remote.webelement.WebElement (session=\"304fa97a6d50086cdd6cac3c5a1d6469\", element=\"d06b8ab8-1807-44ec-aaa7-ad956081d274\")>,\n",
       " <selenium.webdriver.remote.webelement.WebElement (session=\"304fa97a6d50086cdd6cac3c5a1d6469\", element=\"bbac05bf-30e6-406c-94a3-60845441d809\")>,\n",
       " <selenium.webdriver.remote.webelement.WebElement (session=\"304fa97a6d50086cdd6cac3c5a1d6469\", element=\"a1394e5a-a210-4ebb-9794-6435939fedd5\")>,\n",
       " <selenium.webdriver.remote.webelement.WebElement (session=\"304fa97a6d50086cdd6cac3c5a1d6469\", element=\"70458e73-30dd-40f7-b82f-7c2bf6097a7b\")>,\n",
       " <selenium.webdriver.remote.webelement.WebElement (session=\"304fa97a6d50086cdd6cac3c5a1d6469\", element=\"884bf14f-3f86-4b4b-ad10-9942139b4961\")>,\n",
       " <selenium.webdriver.remote.webelement.WebElement (session=\"304fa97a6d50086cdd6cac3c5a1d6469\", element=\"67f8e576-43b6-46bd-acaa-d4ac2dd3ad72\")>,\n",
       " <selenium.webdriver.remote.webelement.WebElement (session=\"304fa97a6d50086cdd6cac3c5a1d6469\", element=\"07510d2d-e1a5-43f8-991f-b7211eeb632c\")>,\n",
       " <selenium.webdriver.remote.webelement.WebElement (session=\"304fa97a6d50086cdd6cac3c5a1d6469\", element=\"719d7a1f-5da0-4214-aa7f-11dd09dd78cd\")>,\n",
       " <selenium.webdriver.remote.webelement.WebElement (session=\"304fa97a6d50086cdd6cac3c5a1d6469\", element=\"05fef9bc-92b3-4dfb-9663-52cf981d1af6\")>,\n",
       " <selenium.webdriver.remote.webelement.WebElement (session=\"304fa97a6d50086cdd6cac3c5a1d6469\", element=\"177ba33e-520b-4e46-aa6f-9d9237dc1c2f\")>,\n",
       " <selenium.webdriver.remote.webelement.WebElement (session=\"304fa97a6d50086cdd6cac3c5a1d6469\", element=\"d34a1574-67cf-4e41-9c58-39818ba486e6\")>,\n",
       " <selenium.webdriver.remote.webelement.WebElement (session=\"304fa97a6d50086cdd6cac3c5a1d6469\", element=\"86feb5f0-5e7e-40c2-856e-245a8e28c8eb\")>,\n",
       " <selenium.webdriver.remote.webelement.WebElement (session=\"304fa97a6d50086cdd6cac3c5a1d6469\", element=\"524cef62-171a-465a-b08d-588a2d4e947c\")>,\n",
       " <selenium.webdriver.remote.webelement.WebElement (session=\"304fa97a6d50086cdd6cac3c5a1d6469\", element=\"d7aac184-53a8-4845-ab22-522d5406e8fd\")>,\n",
       " <selenium.webdriver.remote.webelement.WebElement (session=\"304fa97a6d50086cdd6cac3c5a1d6469\", element=\"46d15eea-04f3-469f-97ea-ec6fa292695b\")>,\n",
       " <selenium.webdriver.remote.webelement.WebElement (session=\"304fa97a6d50086cdd6cac3c5a1d6469\", element=\"e3e9b481-62ff-4b3e-98e2-bac0b41b9510\")>,\n",
       " <selenium.webdriver.remote.webelement.WebElement (session=\"304fa97a6d50086cdd6cac3c5a1d6469\", element=\"f46f581f-9690-4c78-8537-494a7e8856b2\")>,\n",
       " <selenium.webdriver.remote.webelement.WebElement (session=\"304fa97a6d50086cdd6cac3c5a1d6469\", element=\"bbee96a1-55b9-4ecf-83fe-dae313389d47\")>,\n",
       " <selenium.webdriver.remote.webelement.WebElement (session=\"304fa97a6d50086cdd6cac3c5a1d6469\", element=\"caf11f0f-b68e-456d-a232-db9214946f7b\")>,\n",
       " <selenium.webdriver.remote.webelement.WebElement (session=\"304fa97a6d50086cdd6cac3c5a1d6469\", element=\"e19f8b55-91a7-400e-96a5-0049c2ce458b\")>,\n",
       " <selenium.webdriver.remote.webelement.WebElement (session=\"304fa97a6d50086cdd6cac3c5a1d6469\", element=\"065dddec-6057-4cbb-9a2a-7e5f4890bd77\")>,\n",
       " <selenium.webdriver.remote.webelement.WebElement (session=\"304fa97a6d50086cdd6cac3c5a1d6469\", element=\"f49e88d5-b5ef-4f1a-b3fe-3cf2694cd79d\")>,\n",
       " <selenium.webdriver.remote.webelement.WebElement (session=\"304fa97a6d50086cdd6cac3c5a1d6469\", element=\"f6010a19-c02a-4bb3-b1b2-57436458c14c\")>,\n",
       " <selenium.webdriver.remote.webelement.WebElement (session=\"304fa97a6d50086cdd6cac3c5a1d6469\", element=\"c8c305a5-42af-4232-a9d2-72b89b753a32\")>,\n",
       " <selenium.webdriver.remote.webelement.WebElement (session=\"304fa97a6d50086cdd6cac3c5a1d6469\", element=\"c3fa3dc0-e52e-4c64-8585-2a524bfb1f6b\")>,\n",
       " <selenium.webdriver.remote.webelement.WebElement (session=\"304fa97a6d50086cdd6cac3c5a1d6469\", element=\"0802e4e7-89bd-43bf-8bb5-e170f473fef2\")>,\n",
       " <selenium.webdriver.remote.webelement.WebElement (session=\"304fa97a6d50086cdd6cac3c5a1d6469\", element=\"0caca159-8d3e-40aa-8c0f-db4d1db5ec17\")>]"
      ]
     },
     "execution_count": 643,
     "metadata": {},
     "output_type": "execute_result"
    }
   ],
   "source": [
    "prices_tags=driver.find_elements_by_xpath(\"//div[@class='product-price']\")\n",
    "prices_tags[0:50]"
   ]
  },
  {
   "cell_type": "code",
   "execution_count": 644,
   "id": "14925d9e",
   "metadata": {
    "collapsed": true
   },
   "outputs": [
    {
     "data": {
      "text/plain": [
       "['Rs. 7199Rs. 8999(20% OFF)',\n",
       " 'Rs. 7999',\n",
       " 'Rs. 9999',\n",
       " 'Rs. 8920Rs. 10495(15% OFF)',\n",
       " 'Rs. 10995',\n",
       " 'Rs. 13999',\n",
       " 'Rs. 12999',\n",
       " 'Rs. 8499Rs. 9999(15% OFF)',\n",
       " 'Rs. 7999',\n",
       " 'Rs. 7599Rs. 9499(20% OFF)',\n",
       " 'Rs. 7199Rs. 8999(20% OFF)',\n",
       " 'Rs. 12999',\n",
       " 'Rs. 9349Rs. 10999(15% OFF)',\n",
       " 'Rs. 8999',\n",
       " 'Rs. 7649Rs. 8999(15% OFF)',\n",
       " 'Rs. 8999',\n",
       " 'Rs. 7199Rs. 8999(20% OFF)',\n",
       " 'Rs. 10399Rs. 12999(20% OFF)',\n",
       " 'Rs. 7649Rs. 8999(15% OFF)',\n",
       " 'Rs. 7999',\n",
       " 'Rs. 10399Rs. 12999(20% OFF)',\n",
       " 'Rs. 8999',\n",
       " 'Rs. 12799Rs. 15999(20% OFF)',\n",
       " 'Rs. 9295',\n",
       " 'Rs. 9349Rs. 10999(15% OFF)',\n",
       " 'Rs. 11999',\n",
       " 'Rs. 8799Rs. 10999(20% OFF)',\n",
       " 'Rs. 7199Rs. 8999(20% OFF)',\n",
       " 'Rs. 8499Rs. 9999(15% OFF)',\n",
       " 'Rs. 7999',\n",
       " 'Rs. 9999',\n",
       " 'Rs. 7309Rs. 8599(15% OFF)',\n",
       " 'Rs. 7999',\n",
       " 'Rs. 7999Rs. 9999(20% OFF)',\n",
       " 'Rs. 9441Rs. 10490(10% OFF)',\n",
       " 'Rs. 7999Rs. 9999(20% OFF)',\n",
       " 'Rs. 9599Rs. 11999(20% OFF)',\n",
       " 'Rs. 7999',\n",
       " 'Rs. 13995',\n",
       " 'Rs. 9999',\n",
       " 'Rs. 7649Rs. 8999(15% OFF)',\n",
       " 'Rs. 7999',\n",
       " 'Rs. 8499Rs. 9999(15% OFF)',\n",
       " 'Rs. 8799Rs. 10999(20% OFF)',\n",
       " 'Rs. 7649Rs. 8999(15% OFF)',\n",
       " 'Rs. 10399Rs. 12999(20% OFF)',\n",
       " 'Rs. 11999Rs. 14999(20% OFF)',\n",
       " 'Rs. 9599Rs. 11999(20% OFF)',\n",
       " 'Rs. 8249Rs. 14999(45% OFF)',\n",
       " 'Rs. 11999']"
      ]
     },
     "execution_count": 644,
     "metadata": {},
     "output_type": "execute_result"
    }
   ],
   "source": [
    "for i in prices_tags:\n",
    "    price=i.text\n",
    "    prices_list.append(price)\n",
    "prices_list[0:50]"
   ]
  },
  {
   "cell_type": "code",
   "execution_count": 645,
   "id": "90b9d735",
   "metadata": {
    "collapsed": true
   },
   "outputs": [
    {
     "name": "stdout",
     "output_type": "stream",
     "text": [
      "50 50 50\n"
     ]
    }
   ],
   "source": [
    "print(len(brand_names),len(shoe_descriptions),len(prices_list))"
   ]
  },
  {
   "cell_type": "code",
   "execution_count": 646,
   "id": "4f4410c4",
   "metadata": {
    "collapsed": true
   },
   "outputs": [],
   "source": [
    "next_button=driver.find_element_by_xpath(\"/html/body/div[2]/div/div[1]/main/div[3]/div[2]/div/div[2]/section/div[2]/ul/li[12]\")\n",
    "next_button.click()"
   ]
  },
  {
   "cell_type": "code",
   "execution_count": 647,
   "id": "8af21f51",
   "metadata": {
    "collapsed": true
   },
   "outputs": [],
   "source": [
    "n_list=[]\n",
    "for i in range(0,2):\n",
    "    brand_names_tags=driver.find_elements_by_xpath(\"//h3[@class='product-brand']\")\n",
    "    for i in brand_names_tags:\n",
    "        brand_name=i.text\n",
    "        n_list.append(brand_name)\n",
    "    next_button=driver.find_element_by_xpath(\"/html/body/div[2]/div/div[1]/main/div[3]/div[2]/div/div[2]/section/div[2]/ul/li[12]\")\n",
    "    next_button.click()\n",
    "    time.sleep(5)"
   ]
  },
  {
   "cell_type": "code",
   "execution_count": 654,
   "id": "774cec08",
   "metadata": {
    "collapsed": true
   },
   "outputs": [],
   "source": [
    "d_list=[]\n",
    "for i in range(0,2):\n",
    "    shoe_descriptions_tags=driver.find_elements_by_xpath(\"//h4[@class='product-product']\")\n",
    "    for i in shoe_descriptions_tags:\n",
    "        shoe_description=i.text\n",
    "        d_list.append(shoe_description)\n",
    "    time.sleep(5)"
   ]
  },
  {
   "cell_type": "code",
   "execution_count": 653,
   "id": "61008513",
   "metadata": {
    "collapsed": true
   },
   "outputs": [],
   "source": [
    "p_list=[]\n",
    "for i in range(0,4):\n",
    "    prices_tags=driver.find_elements_by_xpath(\"//div[@class='product-price']\")\n",
    "    for i in prices_tags:\n",
    "        price=i.text\n",
    "        p_list.append(prices)\n",
    "time.sleep(5)"
   ]
  },
  {
   "cell_type": "code",
   "execution_count": 659,
   "id": "63c4dce3",
   "metadata": {
    "collapsed": true
   },
   "outputs": [
    {
     "name": "stdout",
     "output_type": "stream",
     "text": [
      "100 100 100\n"
     ]
    }
   ],
   "source": [
    "print(len(n_list[0:100]),len(d_list[0:100]),len(p_list[0:100]))"
   ]
  },
  {
   "cell_type": "code",
   "execution_count": 660,
   "id": "89a8d244",
   "metadata": {
    "collapsed": true
   },
   "outputs": [],
   "source": [
    "shoes=pd.DataFrame({})\n",
    "shoes['brand_names']=n_list[0:100]\n",
    "shoes['shoe_descriptions']=d_list[0:100]\n",
    "shoes['prices_list']=p_list[0:100]"
   ]
  },
  {
   "cell_type": "code",
   "execution_count": 661,
   "id": "bdb79576",
   "metadata": {},
   "outputs": [
    {
     "data": {
      "text/html": [
       "<div>\n",
       "<style scoped>\n",
       "    .dataframe tbody tr th:only-of-type {\n",
       "        vertical-align: middle;\n",
       "    }\n",
       "\n",
       "    .dataframe tbody tr th {\n",
       "        vertical-align: top;\n",
       "    }\n",
       "\n",
       "    .dataframe thead th {\n",
       "        text-align: right;\n",
       "    }\n",
       "</style>\n",
       "<table border=\"1\" class=\"dataframe\">\n",
       "  <thead>\n",
       "    <tr style=\"text-align: right;\">\n",
       "      <th></th>\n",
       "      <th>brand_names</th>\n",
       "      <th>shoe_descriptions</th>\n",
       "      <th>prices_list</th>\n",
       "    </tr>\n",
       "  </thead>\n",
       "  <tbody>\n",
       "    <tr>\n",
       "      <th>0</th>\n",
       "      <td>UNDER ARMOUR</td>\n",
       "      <td>Women Liquify Rebel Running</td>\n",
       "      <td>[]</td>\n",
       "    </tr>\n",
       "    <tr>\n",
       "      <th>1</th>\n",
       "      <td>ADIDAS</td>\n",
       "      <td>Men Leather Driving Shoes</td>\n",
       "      <td>[]</td>\n",
       "    </tr>\n",
       "    <tr>\n",
       "      <th>2</th>\n",
       "      <td>Bugatti</td>\n",
       "      <td></td>\n",
       "      <td>[]</td>\n",
       "    </tr>\n",
       "    <tr>\n",
       "      <th>3</th>\n",
       "      <td>Louis Philippe</td>\n",
       "      <td>Women Leather Heels</td>\n",
       "      <td>[]</td>\n",
       "    </tr>\n",
       "    <tr>\n",
       "      <th>4</th>\n",
       "      <td>Bugatti</td>\n",
       "      <td>Men Speed 300 Ignite 2 Running</td>\n",
       "      <td>[]</td>\n",
       "    </tr>\n",
       "    <tr>\n",
       "      <th>...</th>\n",
       "      <td>...</td>\n",
       "      <td>...</td>\n",
       "      <td>...</td>\n",
       "    </tr>\n",
       "    <tr>\n",
       "      <th>95</th>\n",
       "      <td>Nike</td>\n",
       "      <td>Men Textured Sneakers</td>\n",
       "      <td>[]</td>\n",
       "    </tr>\n",
       "    <tr>\n",
       "      <th>96</th>\n",
       "      <td>Hush Puppies</td>\n",
       "      <td>Men Leather Formal Loafers</td>\n",
       "      <td>[]</td>\n",
       "    </tr>\n",
       "    <tr>\n",
       "      <th>97</th>\n",
       "      <td>Heel &amp; Buckle London</td>\n",
       "      <td>Women Sibyl Natural Leather Black Narrow Width</td>\n",
       "      <td>[]</td>\n",
       "    </tr>\n",
       "    <tr>\n",
       "      <th>98</th>\n",
       "      <td>Clarks</td>\n",
       "      <td>Women Samira Natural Leather Black Narrow Width</td>\n",
       "      <td>[]</td>\n",
       "    </tr>\n",
       "    <tr>\n",
       "      <th>99</th>\n",
       "      <td>Clarks</td>\n",
       "      <td>Unisex Mirage Original Suit</td>\n",
       "      <td>[]</td>\n",
       "    </tr>\n",
       "  </tbody>\n",
       "</table>\n",
       "<p>100 rows × 3 columns</p>\n",
       "</div>"
      ],
      "text/plain": [
       "             brand_names                                shoe_descriptions  \\\n",
       "0           UNDER ARMOUR                      Women Liquify Rebel Running   \n",
       "1                 ADIDAS                        Men Leather Driving Shoes   \n",
       "2                Bugatti                                                    \n",
       "3         Louis Philippe                              Women Leather Heels   \n",
       "4                Bugatti                   Men Speed 300 Ignite 2 Running   \n",
       "..                   ...                                              ...   \n",
       "95                  Nike                            Men Textured Sneakers   \n",
       "96          Hush Puppies                       Men Leather Formal Loafers   \n",
       "97  Heel & Buckle London   Women Sibyl Natural Leather Black Narrow Width   \n",
       "98                Clarks  Women Samira Natural Leather Black Narrow Width   \n",
       "99                Clarks                      Unisex Mirage Original Suit   \n",
       "\n",
       "   prices_list  \n",
       "0           []  \n",
       "1           []  \n",
       "2           []  \n",
       "3           []  \n",
       "4           []  \n",
       "..         ...  \n",
       "95          []  \n",
       "96          []  \n",
       "97          []  \n",
       "98          []  \n",
       "99          []  \n",
       "\n",
       "[100 rows x 3 columns]"
      ]
     },
     "execution_count": 661,
     "metadata": {},
     "output_type": "execute_result"
    }
   ],
   "source": [
    "shoes"
   ]
  },
  {
   "cell_type": "code",
   "execution_count": null,
   "id": "28991d61",
   "metadata": {
    "collapsed": true
   },
   "outputs": [],
   "source": []
  },
  {
   "cell_type": "markdown",
   "id": "7e826153",
   "metadata": {},
   "source": [
    "Q8: Go to webpage https://www.amazon.in/\n",
    "Enter “Laptop” in the search field and then click the search icon.\n",
    "Then set CPU Type filter to “Intel Core i7” and “Intel Core i9” as shown in the below image:\n",
    "\n",
    "After setting the filters scrape first 10 laptops data. You have to scrape 3 attributesfor each laptop:\n",
    "1. Title\n",
    "2. Ratings\n",
    "3. Price\n",
    "As shown in the below image as the tick marked attributes.\n"
   ]
  },
  {
   "cell_type": "code",
   "execution_count": 618,
   "id": "23c49111",
   "metadata": {
    "collapsed": true
   },
   "outputs": [],
   "source": [
    "import selenium\n",
    "import pandas as pd\n",
    "from selenium import webdriver\n",
    "import warnings\n",
    "warnings.filterwarnings(\"ignore\")\n",
    "import time"
   ]
  },
  {
   "cell_type": "code",
   "execution_count": 619,
   "id": "e4cb1751",
   "metadata": {
    "collapsed": true
   },
   "outputs": [],
   "source": [
    "driver = webdriver.Chrome(r\"C:\\Drivers\\my driver\\chromedriver.exe\")"
   ]
  },
  {
   "cell_type": "code",
   "execution_count": 620,
   "id": "5432b11b",
   "metadata": {
    "collapsed": true
   },
   "outputs": [],
   "source": [
    "driver=webdriver.Chrome(\"chromedriver.exe\")\n",
    "time.sleep(2)"
   ]
  },
  {
   "cell_type": "code",
   "execution_count": 621,
   "id": "cc6262d8",
   "metadata": {
    "collapsed": true
   },
   "outputs": [],
   "source": [
    "driver.get(\"https://www.amazon.in/\")"
   ]
  },
  {
   "cell_type": "code",
   "execution_count": 622,
   "id": "17631ad4",
   "metadata": {
    "collapsed": true
   },
   "outputs": [],
   "source": [
    "search_bar=driver.find_element_by_id(\"twotabsearchtextbox\")\n",
    "search_bar.send_keys(\"Laptop\")"
   ]
  },
  {
   "cell_type": "code",
   "execution_count": 623,
   "id": "84c3d3df",
   "metadata": {
    "collapsed": true
   },
   "outputs": [],
   "source": [
    "search_button=driver.find_element_by_xpath(\"/html/body/div[1]/header/div/div[1]/div[2]/div/form/div[3]/div/span/input\")\n",
    "search_button.click()"
   ]
  },
  {
   "cell_type": "code",
   "execution_count": 624,
   "id": "233b8eed",
   "metadata": {
    "collapsed": true
   },
   "outputs": [],
   "source": [
    "cpu_type_filter_i7=driver.find_element_by_xpath(\"/html/body/div[1]/div[2]/div[1]/div[2]/div/div[3]/span/div[1]/div/div/div[6]/ul[4]/li[14]/span/a/div/label/i\")\n",
    "cpu_type_filter_i7.click()"
   ]
  },
  {
   "cell_type": "code",
   "execution_count": 625,
   "id": "9888a02c",
   "metadata": {
    "collapsed": true
   },
   "outputs": [],
   "source": [
    "titles=[]\n",
    "ratings_list=[]\n",
    "prices_list=[]"
   ]
  },
  {
   "cell_type": "code",
   "execution_count": 626,
   "id": "1821f7fe",
   "metadata": {
    "collapsed": true
   },
   "outputs": [
    {
     "data": {
      "text/plain": [
       "[<selenium.webdriver.remote.webelement.WebElement (session=\"0f7856dc3a9a353a1c399eb20f47c3db\", element=\"3b1e3a1c-a333-414e-9809-a48553878cf1\")>,\n",
       " <selenium.webdriver.remote.webelement.WebElement (session=\"0f7856dc3a9a353a1c399eb20f47c3db\", element=\"ca292d95-2e0a-4b9e-9752-a2bcfd067440\")>,\n",
       " <selenium.webdriver.remote.webelement.WebElement (session=\"0f7856dc3a9a353a1c399eb20f47c3db\", element=\"9ba3d128-e49a-416d-b840-da8ad8a907de\")>,\n",
       " <selenium.webdriver.remote.webelement.WebElement (session=\"0f7856dc3a9a353a1c399eb20f47c3db\", element=\"38fb67fb-66a8-488d-a97b-68553e6a6e60\")>,\n",
       " <selenium.webdriver.remote.webelement.WebElement (session=\"0f7856dc3a9a353a1c399eb20f47c3db\", element=\"de82591b-ea76-4618-ab6d-436fa5719e84\")>,\n",
       " <selenium.webdriver.remote.webelement.WebElement (session=\"0f7856dc3a9a353a1c399eb20f47c3db\", element=\"5e1df290-e5e5-4e77-b67e-2a7290266468\")>,\n",
       " <selenium.webdriver.remote.webelement.WebElement (session=\"0f7856dc3a9a353a1c399eb20f47c3db\", element=\"8c4ad66f-74f4-4975-b54a-d9bd3fc6ca0f\")>,\n",
       " <selenium.webdriver.remote.webelement.WebElement (session=\"0f7856dc3a9a353a1c399eb20f47c3db\", element=\"7915faa4-9e47-42ae-a2d9-5ad90e493307\")>,\n",
       " <selenium.webdriver.remote.webelement.WebElement (session=\"0f7856dc3a9a353a1c399eb20f47c3db\", element=\"5289e463-441e-42c7-8a1c-c8eb90795361\")>,\n",
       " <selenium.webdriver.remote.webelement.WebElement (session=\"0f7856dc3a9a353a1c399eb20f47c3db\", element=\"1232a682-a9f0-4d7e-baea-02b4c7fb5165\")>]"
      ]
     },
     "execution_count": 626,
     "metadata": {},
     "output_type": "execute_result"
    }
   ],
   "source": [
    "titles_tags=driver.find_elements_by_xpath(\"//h2[@class='a-size-mini a-spacing-none a-color-base s-line-clamp-2']\")\n",
    "titles_tags[0:10]"
   ]
  },
  {
   "cell_type": "code",
   "execution_count": 627,
   "id": "c8f2a942",
   "metadata": {
    "collapsed": true
   },
   "outputs": [
    {
     "data": {
      "text/plain": [
       "['ASUS ROG Strix Scar 15 (2022), Intel Core i9-12900H 12th Gen 15.6 inches 2K WQHD 240Hz/3ms Gaming Laptop (32GB/1TB SSD/RTX 3080 Ti 16GB Graphics/Windows 11 Home/Office 2021/Black/2.3 Kg)',\n",
       " 'ASUS ROG Strix Scar 15 (2022), 15.6\" (39.62 cms) 2K WQHD 240Hz/3ms, Intel Core i9-12900H 12th Gen, RTX 3070 Ti 8GB Graphics, Gaming Laptop (32GB/1TB SSD/Win 11/Office 2021/Black/2.3 kg) G533ZW-LN136WS',\n",
       " 'Acer Predator Helios 300 11th Gen Intel Core i9-11900H 15.6\" (39.62cms) FHD IPS Gaming Laptop (16 GB/1TB SSD/Win 11 Home/6 GB Graphics/NVIDIA GeForce RTX 3060/360 Hz, Black, 2.3 kg) PH315-54',\n",
       " 'HP Envy 15- 11th Gen Intel Core i9/32GB/1TB SSD/15.6 inch(39.6 cm) 400 nits,4K AMOLED Touch, TUV + Win 11 Pro 64/NVIDIA GeForce RTX 3060 6GB Graphics/Alexa/FPR /B&O/2.14kg,15-ep1087TX, Natural Silver',\n",
       " 'ASUS ROG Zephyrus M16 (2022), 16-inch (40.64 cms) 2K QHD 165Hz/3ms, Core i9-12900H 12th Gen, RTX 3080 Ti 16GB Graphics, Gaming Laptop (32GB/2TB SSD/Win 11/Office 2021/Black/2 Kg), GU603ZX-K8024WS',\n",
       " 'ASUS ROG Strix Scar 15 (2022), 15.6-inch (39.62 cms) 2K WQHD 240Hz/3ms, Core i9-12900H 12th Gen, RTX 3070 Ti 8GB Graphics, Gaming Laptop (32GB/2TB SSD/Win 11/Office 2021/Black/2.3 Kg), G533ZW-LN106WS',\n",
       " 'Dell G7 7500 15.6inch FHD 300 Hz Display Gaming Laptop (10th Gen i9-10885H / 16 GB / 1TB SSD / NVIDIA RTX 2070 8GB Graphics / 1Yr Premium Warranty / Win 10 + MS Office H&S 2019) D560233WIN9B, Black',\n",
       " 'Predator Helios 500 Gaming Laptop (11th Gen Intel Core I9/17.3\" 4K UHD Display/64GB DDR4 RAM/2TB SSD/1TB HDD/RTX 3080 Graphics/Per Key RGB Backlit Keyboard) | PH517-52',\n",
       " '(Renewed) HP Omen 15-dh0139TX Gaming Laptop (9th Gen i9-9880H/16GB/1TB HDD + 512GB SSD/Win 10/8GB NVIDIA RTX 2080 Graphics) & Z3700 Wireless Mouse',\n",
       " 'Dell Precision 5550 || i9 -10885H || 16GB || 1TB NVMe || T2000 4 GB || Win 10 Pro (Free Upgrade Win 11Pro) / 15.6 FHD+ / 3 Year ADP']"
      ]
     },
     "execution_count": 627,
     "metadata": {},
     "output_type": "execute_result"
    }
   ],
   "source": [
    "for i in titles_tags:\n",
    "    title=i.text\n",
    "    titles.append(title)\n",
    "titles[0:10]"
   ]
  },
  {
   "cell_type": "code",
   "execution_count": 635,
   "id": "365543b2",
   "metadata": {
    "collapsed": true
   },
   "outputs": [
    {
     "data": {
      "text/plain": [
       "[<selenium.webdriver.remote.webelement.WebElement (session=\"0f7856dc3a9a353a1c399eb20f47c3db\", element=\"ad844bfa-a091-4a99-8cc0-99e8c878480e\")>,\n",
       " <selenium.webdriver.remote.webelement.WebElement (session=\"0f7856dc3a9a353a1c399eb20f47c3db\", element=\"b4b313fb-c47d-4c48-b0d7-fc64c1da1922\")>,\n",
       " <selenium.webdriver.remote.webelement.WebElement (session=\"0f7856dc3a9a353a1c399eb20f47c3db\", element=\"fa61354c-f6f9-4514-a20f-5ae6fabfb920\")>,\n",
       " <selenium.webdriver.remote.webelement.WebElement (session=\"0f7856dc3a9a353a1c399eb20f47c3db\", element=\"fc4f2759-2403-4459-ad08-ff251a2caa22\")>,\n",
       " <selenium.webdriver.remote.webelement.WebElement (session=\"0f7856dc3a9a353a1c399eb20f47c3db\", element=\"57377a93-3b91-4c19-b57b-87dbe10b4528\")>,\n",
       " <selenium.webdriver.remote.webelement.WebElement (session=\"0f7856dc3a9a353a1c399eb20f47c3db\", element=\"b9349d45-30fd-4b2c-9c19-a9e9cfb0b1fa\")>]"
      ]
     },
     "execution_count": 635,
     "metadata": {},
     "output_type": "execute_result"
    }
   ],
   "source": [
    "ratings_tags=driver.find_elements_by_xpath(\"//div[@class='a-row a-size-small']\")\n",
    "ratings_tags[0:10]"
   ]
  },
  {
   "cell_type": "code",
   "execution_count": 636,
   "id": "5d39ee90",
   "metadata": {
    "collapsed": true
   },
   "outputs": [
    {
     "data": {
      "text/plain": [
       "['4.3', '4.3', '4.3', '4.3', '4.3', '4.3', '4.3', '4.3', '4.3', '4.3']"
      ]
     },
     "execution_count": 636,
     "metadata": {},
     "output_type": "execute_result"
    }
   ],
   "source": [
    "for i in ratings_tags:\n",
    "    rating=i.text\n",
    "    ratings_list.append(rating_list)\n",
    "ratings_list[0:10]"
   ]
  },
  {
   "cell_type": "code",
   "execution_count": 637,
   "id": "e456bf6a",
   "metadata": {
    "collapsed": true
   },
   "outputs": [
    {
     "data": {
      "text/plain": [
       "[<selenium.webdriver.remote.webelement.WebElement (session=\"0f7856dc3a9a353a1c399eb20f47c3db\", element=\"3f1c7390-13d6-437b-a7d3-ae6a30fc54bc\")>,\n",
       " <selenium.webdriver.remote.webelement.WebElement (session=\"0f7856dc3a9a353a1c399eb20f47c3db\", element=\"5b7c4060-99d3-48c5-a12e-8e8509e5a79e\")>,\n",
       " <selenium.webdriver.remote.webelement.WebElement (session=\"0f7856dc3a9a353a1c399eb20f47c3db\", element=\"1d090f2b-2abb-41c8-ba07-e6cb62273e01\")>,\n",
       " <selenium.webdriver.remote.webelement.WebElement (session=\"0f7856dc3a9a353a1c399eb20f47c3db\", element=\"5b60ed60-1d81-40c6-a30d-e3758ab4b6c5\")>,\n",
       " <selenium.webdriver.remote.webelement.WebElement (session=\"0f7856dc3a9a353a1c399eb20f47c3db\", element=\"dc68ac34-6982-4f08-82f2-442f62e9e02f\")>,\n",
       " <selenium.webdriver.remote.webelement.WebElement (session=\"0f7856dc3a9a353a1c399eb20f47c3db\", element=\"85f5b706-cdfb-49cc-831a-3db6a5652df4\")>,\n",
       " <selenium.webdriver.remote.webelement.WebElement (session=\"0f7856dc3a9a353a1c399eb20f47c3db\", element=\"fdc10dfb-b54c-4899-9ada-1aa5358b8aa6\")>,\n",
       " <selenium.webdriver.remote.webelement.WebElement (session=\"0f7856dc3a9a353a1c399eb20f47c3db\", element=\"9df59e8b-989c-4dd7-8d8e-c140e9f8ce03\")>,\n",
       " <selenium.webdriver.remote.webelement.WebElement (session=\"0f7856dc3a9a353a1c399eb20f47c3db\", element=\"4c862771-e091-45be-abc3-b265d7eb98e1\")>,\n",
       " <selenium.webdriver.remote.webelement.WebElement (session=\"0f7856dc3a9a353a1c399eb20f47c3db\", element=\"a1fe6ab5-e44f-4233-b10e-9ab16b58eb0b\")>]"
      ]
     },
     "execution_count": 637,
     "metadata": {},
     "output_type": "execute_result"
    }
   ],
   "source": [
    "prices_tags=driver.find_elements_by_xpath(\"//span[@class='a-price-whole']\")\n",
    "prices_tags[0:10]"
   ]
  },
  {
   "cell_type": "code",
   "execution_count": 638,
   "id": "861ae299",
   "metadata": {
    "collapsed": true
   },
   "outputs": [
    {
     "data": {
      "text/plain": [
       "['3,01,990',\n",
       " '2,32,364',\n",
       " '1,44,990',\n",
       " '3,31,990',\n",
       " '2,85,390',\n",
       " '2,05,990',\n",
       " '3,79,990',\n",
       " '1,38,000',\n",
       " '2,25,000',\n",
       " '2,50,000']"
      ]
     },
     "execution_count": 638,
     "metadata": {},
     "output_type": "execute_result"
    }
   ],
   "source": [
    "for i in prices_tags:\n",
    "    price=i.text\n",
    "    prices_list.append(price)\n",
    "prices_list[0:10]"
   ]
  },
  {
   "cell_type": "code",
   "execution_count": 639,
   "id": "8dcda847",
   "metadata": {
    "collapsed": true
   },
   "outputs": [
    {
     "name": "stdout",
     "output_type": "stream",
     "text": [
      "10 10 10\n"
     ]
    }
   ],
   "source": [
    "print(len(titles[0:10]),len(ratings_list[0:10]),len(prices_list[0:10]))"
   ]
  },
  {
   "cell_type": "code",
   "execution_count": 642,
   "id": "59d5d571",
   "metadata": {
    "collapsed": true
   },
   "outputs": [],
   "source": [
    "laptops=pd.DataFrame({})\n",
    "laptops['title']=titles[0:10]\n",
    "laptops['ratings']=ratings_list[0:10]\n",
    "laptops['price']=prices_list[0:10]"
   ]
  },
  {
   "cell_type": "code",
   "execution_count": 643,
   "id": "939d9e58",
   "metadata": {},
   "outputs": [
    {
     "data": {
      "text/html": [
       "<div>\n",
       "<style scoped>\n",
       "    .dataframe tbody tr th:only-of-type {\n",
       "        vertical-align: middle;\n",
       "    }\n",
       "\n",
       "    .dataframe tbody tr th {\n",
       "        vertical-align: top;\n",
       "    }\n",
       "\n",
       "    .dataframe thead th {\n",
       "        text-align: right;\n",
       "    }\n",
       "</style>\n",
       "<table border=\"1\" class=\"dataframe\">\n",
       "  <thead>\n",
       "    <tr style=\"text-align: right;\">\n",
       "      <th></th>\n",
       "      <th>title</th>\n",
       "      <th>ratings</th>\n",
       "      <th>price</th>\n",
       "    </tr>\n",
       "  </thead>\n",
       "  <tbody>\n",
       "    <tr>\n",
       "      <th>0</th>\n",
       "      <td>ASUS ROG Strix Scar 15 (2022), Intel Core i9-1...</td>\n",
       "      <td>4.3</td>\n",
       "      <td>3,01,990</td>\n",
       "    </tr>\n",
       "    <tr>\n",
       "      <th>1</th>\n",
       "      <td>ASUS ROG Strix Scar 15 (2022), 15.6\" (39.62 cm...</td>\n",
       "      <td>4.3</td>\n",
       "      <td>2,32,364</td>\n",
       "    </tr>\n",
       "    <tr>\n",
       "      <th>2</th>\n",
       "      <td>Acer Predator Helios 300 11th Gen Intel Core i...</td>\n",
       "      <td>4.3</td>\n",
       "      <td>1,44,990</td>\n",
       "    </tr>\n",
       "    <tr>\n",
       "      <th>3</th>\n",
       "      <td>HP Envy 15- 11th Gen Intel Core i9/32GB/1TB SS...</td>\n",
       "      <td>4.3</td>\n",
       "      <td>3,31,990</td>\n",
       "    </tr>\n",
       "    <tr>\n",
       "      <th>4</th>\n",
       "      <td>ASUS ROG Zephyrus M16 (2022), 16-inch (40.64 c...</td>\n",
       "      <td>4.3</td>\n",
       "      <td>2,85,390</td>\n",
       "    </tr>\n",
       "    <tr>\n",
       "      <th>5</th>\n",
       "      <td>ASUS ROG Strix Scar 15 (2022), 15.6-inch (39.6...</td>\n",
       "      <td>4.3</td>\n",
       "      <td>2,05,990</td>\n",
       "    </tr>\n",
       "    <tr>\n",
       "      <th>6</th>\n",
       "      <td>Dell G7 7500 15.6inch FHD 300 Hz Display Gamin...</td>\n",
       "      <td>4.3</td>\n",
       "      <td>3,79,990</td>\n",
       "    </tr>\n",
       "    <tr>\n",
       "      <th>7</th>\n",
       "      <td>Predator Helios 500 Gaming Laptop (11th Gen In...</td>\n",
       "      <td>4.3</td>\n",
       "      <td>1,38,000</td>\n",
       "    </tr>\n",
       "    <tr>\n",
       "      <th>8</th>\n",
       "      <td>(Renewed) HP Omen 15-dh0139TX Gaming Laptop (9...</td>\n",
       "      <td>4.3</td>\n",
       "      <td>2,25,000</td>\n",
       "    </tr>\n",
       "    <tr>\n",
       "      <th>9</th>\n",
       "      <td>Dell Precision 5550 || i9 -10885H || 16GB || 1...</td>\n",
       "      <td>4.3</td>\n",
       "      <td>2,50,000</td>\n",
       "    </tr>\n",
       "  </tbody>\n",
       "</table>\n",
       "</div>"
      ],
      "text/plain": [
       "                                               title ratings     price\n",
       "0  ASUS ROG Strix Scar 15 (2022), Intel Core i9-1...     4.3  3,01,990\n",
       "1  ASUS ROG Strix Scar 15 (2022), 15.6\" (39.62 cm...     4.3  2,32,364\n",
       "2  Acer Predator Helios 300 11th Gen Intel Core i...     4.3  1,44,990\n",
       "3  HP Envy 15- 11th Gen Intel Core i9/32GB/1TB SS...     4.3  3,31,990\n",
       "4  ASUS ROG Zephyrus M16 (2022), 16-inch (40.64 c...     4.3  2,85,390\n",
       "5  ASUS ROG Strix Scar 15 (2022), 15.6-inch (39.6...     4.3  2,05,990\n",
       "6  Dell G7 7500 15.6inch FHD 300 Hz Display Gamin...     4.3  3,79,990\n",
       "7  Predator Helios 500 Gaming Laptop (11th Gen In...     4.3  1,38,000\n",
       "8  (Renewed) HP Omen 15-dh0139TX Gaming Laptop (9...     4.3  2,25,000\n",
       "9  Dell Precision 5550 || i9 -10885H || 16GB || 1...     4.3  2,50,000"
      ]
     },
     "execution_count": 643,
     "metadata": {},
     "output_type": "execute_result"
    }
   ],
   "source": [
    "laptops"
   ]
  },
  {
   "cell_type": "code",
   "execution_count": null,
   "id": "71d84c01",
   "metadata": {
    "collapsed": true
   },
   "outputs": [],
   "source": []
  },
  {
   "cell_type": "markdown",
   "id": "fe9b6a36",
   "metadata": {},
   "source": [
    "Q9: Write a python program to scrape data for first 10 job results for Data Scientist Designation in Noida location. You have to scrape company name, No. of days ago when job was posted, Rating of the company. This task will be done in following steps:\n",
    "1. First get the webpage https://www.ambitionbox.com/\n",
    "2. Click on the Job option as shown in the image\n",
    "3. After reaching to the next webpage, In place of “Search by Designations, Companies, Skills” enter “Data Scientist” and click on search button.\n",
    "4. You will reach to the following web page click on location and in place of “Search location” enter “Noida” and select location “Noida”.\n",
    "5. Then scrape the data for the first 10 jobs results you get on the above shown page.\n",
    "6. Finally create a dataframe of the scraped data."
   ]
  },
  {
   "cell_type": "code",
   "execution_count": 356,
   "id": "4971a6b3",
   "metadata": {
    "collapsed": true
   },
   "outputs": [],
   "source": [
    "import selenium\n",
    "import pandas as pd\n",
    "from selenium import webdriver\n",
    "import warnings\n",
    "warnings.filterwarnings(\"ignore\")\n",
    "import time"
   ]
  },
  {
   "cell_type": "code",
   "execution_count": 357,
   "id": "22a4426e",
   "metadata": {
    "collapsed": true
   },
   "outputs": [],
   "source": [
    "driver = webdriver.Chrome(r\"C:\\Drivers\\my driver\\chromedriver.exe\")"
   ]
  },
  {
   "cell_type": "code",
   "execution_count": 358,
   "id": "12be9492",
   "metadata": {
    "collapsed": true
   },
   "outputs": [],
   "source": [
    "driver=webdriver.Chrome(\"chromedriver.exe\")\n",
    "time.sleep(2)"
   ]
  },
  {
   "cell_type": "code",
   "execution_count": 359,
   "id": "6c5e7e6f",
   "metadata": {
    "collapsed": true
   },
   "outputs": [],
   "source": [
    "driver.get(\"https://www.ambitionbox.com/\")"
   ]
  },
  {
   "cell_type": "code",
   "execution_count": 360,
   "id": "2901680d",
   "metadata": {
    "collapsed": true
   },
   "outputs": [],
   "source": [
    "job_button=driver.find_element_by_xpath(\"/html/body/div[1]/nav/nav/a[6]\")\n",
    "job_button.click()"
   ]
  },
  {
   "cell_type": "code",
   "execution_count": 361,
   "id": "e4769ad6",
   "metadata": {
    "collapsed": true
   },
   "outputs": [],
   "source": [
    "search_designation=driver.find_element_by_xpath(\"/html/body/div/div/div/div[2]/div[1]/div[1]/div/div/div/div/span/input\")\n",
    "search_designation.send_keys(\"Data Scientist\")"
   ]
  },
  {
   "cell_type": "code",
   "execution_count": 362,
   "id": "c6f889a0",
   "metadata": {
    "collapsed": true
   },
   "outputs": [],
   "source": [
    "search_button=driver.find_element_by_xpath(\"/html/body/div/div/div/div[2]/div[1]/div[1]/div/div/div/button/span\")\n",
    "search_button.click()"
   ]
  },
  {
   "cell_type": "code",
   "execution_count": 363,
   "id": "75ac1e90",
   "metadata": {
    "collapsed": true
   },
   "outputs": [],
   "source": [
    "location_button=driver.find_element_by_xpath(\"/html/body/div/div/div/div[2]/div[1]/div[2]/div[1]/div/div/div/div[2]/div[1]/p\")\n",
    "location_button.click()"
   ]
  },
  {
   "cell_type": "code",
   "execution_count": 364,
   "id": "fb881417",
   "metadata": {
    "collapsed": true
   },
   "outputs": [],
   "source": [
    "select_city=driver.find_element_by_xpath(\"/html/body/div/div/div/div[2]/div[1]/div[2]/div[1]/div/div/div/div[2]/div[2]/div/div[3]/div[1]/div[5]/div/label\")\n",
    "select_city.click()"
   ]
  },
  {
   "cell_type": "code",
   "execution_count": 365,
   "id": "4b6d8a7f",
   "metadata": {
    "collapsed": true
   },
   "outputs": [],
   "source": [
    "company_names=[]\n",
    "jobs_posted=[]\n",
    "ratings_list=[]"
   ]
  },
  {
   "cell_type": "code",
   "execution_count": 366,
   "id": "ace2244c",
   "metadata": {
    "collapsed": true
   },
   "outputs": [
    {
     "data": {
      "text/plain": [
       "[<selenium.webdriver.remote.webelement.WebElement (session=\"940eecdac3699ad5154a90e5a772ae86\", element=\"043b1aa5-4f38-4476-aeeb-e68466146f53\")>,\n",
       " <selenium.webdriver.remote.webelement.WebElement (session=\"940eecdac3699ad5154a90e5a772ae86\", element=\"4e667dbf-8e83-4ea4-b767-2b75079fdb3d\")>,\n",
       " <selenium.webdriver.remote.webelement.WebElement (session=\"940eecdac3699ad5154a90e5a772ae86\", element=\"3222668e-1868-48f2-9a5f-6e1e11b6eaec\")>,\n",
       " <selenium.webdriver.remote.webelement.WebElement (session=\"940eecdac3699ad5154a90e5a772ae86\", element=\"a5570bce-c879-44a1-9916-b91b4ab381ae\")>,\n",
       " <selenium.webdriver.remote.webelement.WebElement (session=\"940eecdac3699ad5154a90e5a772ae86\", element=\"be88b056-c7be-4156-b16c-2fce46c8aa1a\")>,\n",
       " <selenium.webdriver.remote.webelement.WebElement (session=\"940eecdac3699ad5154a90e5a772ae86\", element=\"a354b2ff-535f-4a6a-8d8b-9090028bea58\")>,\n",
       " <selenium.webdriver.remote.webelement.WebElement (session=\"940eecdac3699ad5154a90e5a772ae86\", element=\"c5fef923-df4b-4691-a2ee-635109ba72c0\")>,\n",
       " <selenium.webdriver.remote.webelement.WebElement (session=\"940eecdac3699ad5154a90e5a772ae86\", element=\"40d4de1f-fb70-41ec-9bee-a3e7304f0cba\")>,\n",
       " <selenium.webdriver.remote.webelement.WebElement (session=\"940eecdac3699ad5154a90e5a772ae86\", element=\"2f4e278e-ec44-4728-a74b-15bfaa915128\")>,\n",
       " <selenium.webdriver.remote.webelement.WebElement (session=\"940eecdac3699ad5154a90e5a772ae86\", element=\"2e3a2f76-c074-493b-a740-7108748c3208\")>]"
      ]
     },
     "execution_count": 366,
     "metadata": {},
     "output_type": "execute_result"
    }
   ],
   "source": [
    "companies_tags=driver.find_elements_by_xpath(\"//a[@class='title noclick']\")\n",
    "companies_tags[0:10]"
   ]
  },
  {
   "cell_type": "code",
   "execution_count": 367,
   "id": "bc3bfd72",
   "metadata": {
    "collapsed": true
   },
   "outputs": [
    {
     "data": {
      "text/plain": [
       "['Data Scientist',\n",
       " 'Data Scientist- AI/ML- R&D',\n",
       " 'Data Scientist',\n",
       " 'Oracle HCM BI Technical Lead/Manager (People Analytics)',\n",
       " 'Hiring For Data Scientist + Python/R+ Predictive Modeling',\n",
       " 'Data Scientist - Immediate Joiners',\n",
       " 'Data Scientist - Machine Learning (5-14 yrs)',\n",
       " 'Data Scientist- Fresher Opening - Newgen Software Technologies',\n",
       " 'Data Scientist',\n",
       " 'Senior Data Scientist']"
      ]
     },
     "execution_count": 367,
     "metadata": {},
     "output_type": "execute_result"
    }
   ],
   "source": [
    "for i in companies_tags:\n",
    "    company_name=i.text\n",
    "    company_names.append(company_name)\n",
    "company_names[0:10]"
   ]
  },
  {
   "cell_type": "code",
   "execution_count": 368,
   "id": "5d2dbf8d",
   "metadata": {
    "collapsed": true
   },
   "outputs": [
    {
     "data": {
      "text/plain": [
       "[<selenium.webdriver.remote.webelement.WebElement (session=\"940eecdac3699ad5154a90e5a772ae86\", element=\"74eaf169-d78c-47cc-be5e-4707516f716f\")>,\n",
       " <selenium.webdriver.remote.webelement.WebElement (session=\"940eecdac3699ad5154a90e5a772ae86\", element=\"c473ba26-0461-4e1f-902a-164d89f0019a\")>,\n",
       " <selenium.webdriver.remote.webelement.WebElement (session=\"940eecdac3699ad5154a90e5a772ae86\", element=\"316c32b4-a313-4c0a-a467-8d6345d2a393\")>,\n",
       " <selenium.webdriver.remote.webelement.WebElement (session=\"940eecdac3699ad5154a90e5a772ae86\", element=\"2d9ad184-4a85-4104-90fd-400fc4dd12b8\")>,\n",
       " <selenium.webdriver.remote.webelement.WebElement (session=\"940eecdac3699ad5154a90e5a772ae86\", element=\"59ccc814-3a7a-4b4c-a8e8-c8a8e1508532\")>,\n",
       " <selenium.webdriver.remote.webelement.WebElement (session=\"940eecdac3699ad5154a90e5a772ae86\", element=\"adfcb38d-5513-4898-9373-d482b79f0d1d\")>,\n",
       " <selenium.webdriver.remote.webelement.WebElement (session=\"940eecdac3699ad5154a90e5a772ae86\", element=\"ad018929-fbe0-466b-94d1-ca990cf70237\")>,\n",
       " <selenium.webdriver.remote.webelement.WebElement (session=\"940eecdac3699ad5154a90e5a772ae86\", element=\"e51311c9-7cbf-4ae2-ac8a-0917fc2c23f8\")>,\n",
       " <selenium.webdriver.remote.webelement.WebElement (session=\"940eecdac3699ad5154a90e5a772ae86\", element=\"0bada183-897e-43fc-a986-125f4b6721b0\")>,\n",
       " <selenium.webdriver.remote.webelement.WebElement (session=\"940eecdac3699ad5154a90e5a772ae86\", element=\"f4ca9ed7-fe71-429a-9847-a35918f8bd55\")>]"
      ]
     },
     "execution_count": 368,
     "metadata": {},
     "output_type": "execute_result"
    }
   ],
   "source": [
    "jobs_posted_tags=driver.find_elements_by_xpath(\"//p[@class='body-small-l']\")\n",
    "jobs_posted_tags[0:10]"
   ]
  },
  {
   "cell_type": "code",
   "execution_count": 369,
   "id": "592f4fd3",
   "metadata": {
    "collapsed": true
   },
   "outputs": [
    {
     "data": {
      "text/plain": [
       "['5-8 years',\n",
       " 'Not Disclosed',\n",
       " 'Noida',\n",
       " '1 vacancy',\n",
       " '5-8 Yrs',\n",
       " 'Not Disclosed',\n",
       " 'Noida',\n",
       " 'CRM, HTML, microsoft +7 more',\n",
       " '2-6 Yrs',\n",
       " '₹ 6.5-16.5 LPA']"
      ]
     },
     "execution_count": 369,
     "metadata": {},
     "output_type": "execute_result"
    }
   ],
   "source": [
    "for i in jobs_posted_tags:\n",
    "    job_posted=i.text\n",
    "    jobs_posted.append(job_posted)\n",
    "jobs_posted[0:10]"
   ]
  },
  {
   "cell_type": "code",
   "execution_count": 373,
   "id": "203af954",
   "metadata": {
    "collapsed": true
   },
   "outputs": [
    {
     "data": {
      "text/plain": [
       "[<selenium.webdriver.remote.webelement.WebElement (session=\"940eecdac3699ad5154a90e5a772ae86\", element=\"165fe674-abdf-487b-af15-1d51e0497d0d\")>,\n",
       " <selenium.webdriver.remote.webelement.WebElement (session=\"940eecdac3699ad5154a90e5a772ae86\", element=\"aa2aa8b3-1c64-4d8d-8e6a-aca08a3ebeba\")>,\n",
       " <selenium.webdriver.remote.webelement.WebElement (session=\"940eecdac3699ad5154a90e5a772ae86\", element=\"e51b32fa-48a5-4c7d-9023-9bed128918f2\")>,\n",
       " <selenium.webdriver.remote.webelement.WebElement (session=\"940eecdac3699ad5154a90e5a772ae86\", element=\"659429ba-80aa-4039-aab5-38e9d864399f\")>,\n",
       " <selenium.webdriver.remote.webelement.WebElement (session=\"940eecdac3699ad5154a90e5a772ae86\", element=\"bb9e7a90-94fa-4f69-abc3-f12f0030458c\")>,\n",
       " <selenium.webdriver.remote.webelement.WebElement (session=\"940eecdac3699ad5154a90e5a772ae86\", element=\"8a3e4b13-56c8-4b8d-8492-b9a54b94a2b5\")>,\n",
       " <selenium.webdriver.remote.webelement.WebElement (session=\"940eecdac3699ad5154a90e5a772ae86\", element=\"ed9ac742-1a81-4ee7-ae0e-92ee976d6341\")>,\n",
       " <selenium.webdriver.remote.webelement.WebElement (session=\"940eecdac3699ad5154a90e5a772ae86\", element=\"4174a1ac-7be2-407f-b7de-857403aa701d\")>,\n",
       " <selenium.webdriver.remote.webelement.WebElement (session=\"940eecdac3699ad5154a90e5a772ae86\", element=\"972c5215-2d16-4ca3-9835-b9df39dc3937\")>,\n",
       " <selenium.webdriver.remote.webelement.WebElement (session=\"940eecdac3699ad5154a90e5a772ae86\", element=\"dbd64dd6-6668-4375-86e1-883dee22b1ef\")>]"
      ]
     },
     "execution_count": 373,
     "metadata": {},
     "output_type": "execute_result"
    }
   ],
   "source": [
    "ratings_tags=driver.find_elements_by_xpath(\"//span[@class='body-small']\")\n",
    "ratings_tags[0:10]"
   ]
  },
  {
   "cell_type": "code",
   "execution_count": 374,
   "id": "984718bb",
   "metadata": {
    "collapsed": true
   },
   "outputs": [
    {
     "data": {
      "text/plain": [
       "['4.3', '4.3', '4.3', '4.3', '4.3', '4.3', '4.3', '4.3', '4.3', '4.3']"
      ]
     },
     "execution_count": 374,
     "metadata": {},
     "output_type": "execute_result"
    }
   ],
   "source": [
    "for i in ratings_tags:\n",
    "    rating=i.text\n",
    "    ratings_list.append(rating_list)\n",
    "ratings_list[0:10]"
   ]
  },
  {
   "cell_type": "code",
   "execution_count": 377,
   "id": "e3f3e864",
   "metadata": {
    "collapsed": true
   },
   "outputs": [
    {
     "name": "stdout",
     "output_type": "stream",
     "text": [
      "10 10 10\n"
     ]
    }
   ],
   "source": [
    "print(len(company_names),len(jobs_posted[0:10]),len(ratings_list))"
   ]
  },
  {
   "cell_type": "code",
   "execution_count": 378,
   "id": "da8a7990",
   "metadata": {
    "collapsed": true
   },
   "outputs": [],
   "source": [
    "jobs=pd.DataFrame({})\n",
    "jobs['company']=company_names\n",
    "jobs['jobs_posted']=jobs_posted[0:10]\n",
    "jobs['ratings']=ratings_list"
   ]
  },
  {
   "cell_type": "code",
   "execution_count": 379,
   "id": "6ab71227",
   "metadata": {
    "collapsed": true
   },
   "outputs": [
    {
     "data": {
      "text/html": [
       "<div>\n",
       "<style scoped>\n",
       "    .dataframe tbody tr th:only-of-type {\n",
       "        vertical-align: middle;\n",
       "    }\n",
       "\n",
       "    .dataframe tbody tr th {\n",
       "        vertical-align: top;\n",
       "    }\n",
       "\n",
       "    .dataframe thead th {\n",
       "        text-align: right;\n",
       "    }\n",
       "</style>\n",
       "<table border=\"1\" class=\"dataframe\">\n",
       "  <thead>\n",
       "    <tr style=\"text-align: right;\">\n",
       "      <th></th>\n",
       "      <th>company</th>\n",
       "      <th>jobs_posted</th>\n",
       "      <th>ratings</th>\n",
       "    </tr>\n",
       "  </thead>\n",
       "  <tbody>\n",
       "    <tr>\n",
       "      <th>0</th>\n",
       "      <td>Data Scientist</td>\n",
       "      <td>5-8 years</td>\n",
       "      <td>4.3</td>\n",
       "    </tr>\n",
       "    <tr>\n",
       "      <th>1</th>\n",
       "      <td>Data Scientist- AI/ML- R&amp;D</td>\n",
       "      <td>Not Disclosed</td>\n",
       "      <td>4.3</td>\n",
       "    </tr>\n",
       "    <tr>\n",
       "      <th>2</th>\n",
       "      <td>Data Scientist</td>\n",
       "      <td>Noida</td>\n",
       "      <td>4.3</td>\n",
       "    </tr>\n",
       "    <tr>\n",
       "      <th>3</th>\n",
       "      <td>Oracle HCM BI Technical Lead/Manager (People A...</td>\n",
       "      <td>1 vacancy</td>\n",
       "      <td>4.3</td>\n",
       "    </tr>\n",
       "    <tr>\n",
       "      <th>4</th>\n",
       "      <td>Hiring For Data Scientist + Python/R+ Predicti...</td>\n",
       "      <td>5-8 Yrs</td>\n",
       "      <td>4.3</td>\n",
       "    </tr>\n",
       "    <tr>\n",
       "      <th>5</th>\n",
       "      <td>Data Scientist - Immediate Joiners</td>\n",
       "      <td>Not Disclosed</td>\n",
       "      <td>4.3</td>\n",
       "    </tr>\n",
       "    <tr>\n",
       "      <th>6</th>\n",
       "      <td>Data Scientist - Machine Learning (5-14 yrs)</td>\n",
       "      <td>Noida</td>\n",
       "      <td>4.3</td>\n",
       "    </tr>\n",
       "    <tr>\n",
       "      <th>7</th>\n",
       "      <td>Data Scientist- Fresher Opening - Newgen Softw...</td>\n",
       "      <td>CRM, HTML, microsoft +7 more</td>\n",
       "      <td>4.3</td>\n",
       "    </tr>\n",
       "    <tr>\n",
       "      <th>8</th>\n",
       "      <td>Data Scientist</td>\n",
       "      <td>2-6 Yrs</td>\n",
       "      <td>4.3</td>\n",
       "    </tr>\n",
       "    <tr>\n",
       "      <th>9</th>\n",
       "      <td>Senior Data Scientist</td>\n",
       "      <td>₹ 6.5-16.5 LPA</td>\n",
       "      <td>4.3</td>\n",
       "    </tr>\n",
       "  </tbody>\n",
       "</table>\n",
       "</div>"
      ],
      "text/plain": [
       "                                             company  \\\n",
       "0                                     Data Scientist   \n",
       "1                         Data Scientist- AI/ML- R&D   \n",
       "2                                     Data Scientist   \n",
       "3  Oracle HCM BI Technical Lead/Manager (People A...   \n",
       "4  Hiring For Data Scientist + Python/R+ Predicti...   \n",
       "5                 Data Scientist - Immediate Joiners   \n",
       "6       Data Scientist - Machine Learning (5-14 yrs)   \n",
       "7  Data Scientist- Fresher Opening - Newgen Softw...   \n",
       "8                                     Data Scientist   \n",
       "9                              Senior Data Scientist   \n",
       "\n",
       "                    jobs_posted ratings  \n",
       "0                     5-8 years     4.3  \n",
       "1                 Not Disclosed     4.3  \n",
       "2                         Noida     4.3  \n",
       "3                     1 vacancy     4.3  \n",
       "4                       5-8 Yrs     4.3  \n",
       "5                 Not Disclosed     4.3  \n",
       "6                         Noida     4.3  \n",
       "7  CRM, HTML, microsoft +7 more     4.3  \n",
       "8                       2-6 Yrs     4.3  \n",
       "9                ₹ 6.5-16.5 LPA     4.3  "
      ]
     },
     "execution_count": 379,
     "metadata": {},
     "output_type": "execute_result"
    }
   ],
   "source": [
    "jobs"
   ]
  },
  {
   "cell_type": "code",
   "execution_count": null,
   "id": "4b8ae477",
   "metadata": {
    "collapsed": true
   },
   "outputs": [],
   "source": []
  },
  {
   "cell_type": "markdown",
   "id": "ce12820f",
   "metadata": {},
   "source": [
    "Q10: Write a python program to scrape the salary data for Data Scientist designation.\n",
    "You have to scrape Company name, Number of salaries, Average salary, Minsalary, Max Salary. The above task will be, done as shown in the below steps:\n",
    "1. First get the webpage https://www.ambitionbox.com/\n",
    "2. Click on the salaries option as shown in the image.\n",
    "3. After reaching to the following webpage, In place of “Search Job Profile” enters “Data Scientist” and then click on “Data Scientist”.\n",
    "4. Scrape the data for the first 10 companies. Scrape the company name, total salary record, average salary, minimum salary, maximum salary, experience required.\n",
    "5. Store the data in a dataframe."
   ]
  },
  {
   "cell_type": "code",
   "execution_count": 695,
   "id": "5da1c0b5",
   "metadata": {
    "collapsed": true
   },
   "outputs": [],
   "source": [
    "import selenium\n",
    "import pandas as pd\n",
    "from selenium import webdriver\n",
    "import warnings\n",
    "warnings.filterwarnings(\"ignore\")\n",
    "import time"
   ]
  },
  {
   "cell_type": "code",
   "execution_count": 696,
   "id": "d2706b40",
   "metadata": {
    "collapsed": true
   },
   "outputs": [],
   "source": [
    "driver = webdriver.Chrome(r\"C:\\Drivers\\my driver\\chromedriver.exe\")"
   ]
  },
  {
   "cell_type": "code",
   "execution_count": 697,
   "id": "3b86fa42",
   "metadata": {
    "collapsed": true
   },
   "outputs": [],
   "source": [
    "driver=webdriver.Chrome(\"chromedriver.exe\")\n",
    "time.sleep(2)"
   ]
  },
  {
   "cell_type": "code",
   "execution_count": 698,
   "id": "7c8abc09",
   "metadata": {
    "collapsed": true
   },
   "outputs": [],
   "source": [
    "driver.get(\"https://www.ambitionbox.com/\")"
   ]
  },
  {
   "cell_type": "code",
   "execution_count": 699,
   "id": "71f02543",
   "metadata": {
    "collapsed": true
   },
   "outputs": [],
   "source": [
    "salaries_button=driver.find_element_by_xpath(\"/html/body/div[1]/nav/nav/a[4]\")\n",
    "salaries_button.click()"
   ]
  },
  {
   "cell_type": "code",
   "execution_count": 700,
   "id": "3c2be1ee",
   "metadata": {
    "collapsed": true
   },
   "outputs": [],
   "source": [
    "job_profiles=driver.find_element_by_xpath(\"/html/body/div/div/div/main/section[1]/div[2]/div[1]/span/input\")\n",
    "job_profiles.send_keys(\"Data Scientist\")"
   ]
  },
  {
   "cell_type": "code",
   "execution_count": 701,
   "id": "09f8794c",
   "metadata": {
    "collapsed": true
   },
   "outputs": [],
   "source": [
    "search_button=driver.find_element_by_xpath(\"/html/body/div/div/div/main/section[1]/div[2]/div[1]/span/div/div/div[1]\")\n",
    "search_button.click()"
   ]
  },
  {
   "cell_type": "code",
   "execution_count": 702,
   "id": "d88caaa9",
   "metadata": {
    "collapsed": true
   },
   "outputs": [],
   "source": [
    "company_names=[]\n",
    "salary_records=[]\n",
    "average_salaries=[]\n",
    "maximum_minimum_salaries=[]\n",
    "experiences_required=[]"
   ]
  },
  {
   "cell_type": "code",
   "execution_count": 703,
   "id": "1b2215bb",
   "metadata": {
    "collapsed": true
   },
   "outputs": [
    {
     "data": {
      "text/plain": [
       "[<selenium.webdriver.remote.webelement.WebElement (session=\"8b9185807c64dc30576d3752ffa26bc1\", element=\"eb87a4ec-4138-413c-b5a9-5f5389c33d04\")>,\n",
       " <selenium.webdriver.remote.webelement.WebElement (session=\"8b9185807c64dc30576d3752ffa26bc1\", element=\"8bb476de-c0f1-4f5d-ba0c-966bfea93887\")>,\n",
       " <selenium.webdriver.remote.webelement.WebElement (session=\"8b9185807c64dc30576d3752ffa26bc1\", element=\"9591d880-1200-4857-90af-ca5f07e98948\")>,\n",
       " <selenium.webdriver.remote.webelement.WebElement (session=\"8b9185807c64dc30576d3752ffa26bc1\", element=\"0ec65e64-93a4-4e48-aa42-31898f2f9cc5\")>,\n",
       " <selenium.webdriver.remote.webelement.WebElement (session=\"8b9185807c64dc30576d3752ffa26bc1\", element=\"e68abafa-9b0a-4b25-97df-9b4c70977e37\")>,\n",
       " <selenium.webdriver.remote.webelement.WebElement (session=\"8b9185807c64dc30576d3752ffa26bc1\", element=\"27b7f1ba-68d5-46d2-9cc3-beb3fa286152\")>,\n",
       " <selenium.webdriver.remote.webelement.WebElement (session=\"8b9185807c64dc30576d3752ffa26bc1\", element=\"77ad4729-8970-497c-bd75-af01851d0703\")>,\n",
       " <selenium.webdriver.remote.webelement.WebElement (session=\"8b9185807c64dc30576d3752ffa26bc1\", element=\"3975fea2-a03f-4772-b498-dab33f3c9f81\")>,\n",
       " <selenium.webdriver.remote.webelement.WebElement (session=\"8b9185807c64dc30576d3752ffa26bc1\", element=\"e5902ad4-88dd-47ac-8c7a-467abb49e272\")>,\n",
       " <selenium.webdriver.remote.webelement.WebElement (session=\"8b9185807c64dc30576d3752ffa26bc1\", element=\"5d99e6c5-a6fb-4acf-90e7-4e28b221458f\")>]"
      ]
     },
     "execution_count": 703,
     "metadata": {},
     "output_type": "execute_result"
    }
   ],
   "source": [
    "company_name_tags=driver.find_elements_by_xpath(\"//div[@class='name']\")\n",
    "company_name_tags[0:10]"
   ]
  },
  {
   "cell_type": "code",
   "execution_count": 704,
   "id": "8d655216",
   "metadata": {
    "collapsed": true
   },
   "outputs": [
    {
     "data": {
      "text/plain": [
       "['Walmart\\nbased on 11 salaries',\n",
       " 'Ab Inbev\\nbased on 32 salaries',\n",
       " 'Reliance Jio\\nbased on 10 salaries',\n",
       " 'ZS\\nbased on 15 salaries',\n",
       " 'Optum\\nbased on 30 salaries',\n",
       " 'Fractal Analytics\\nbased on 82 salaries',\n",
       " 'Tiger Analytics\\nbased on 47 salaries',\n",
       " 'UnitedHealth\\nbased on 55 salaries',\n",
       " 'Verizon\\nbased on 14 salaries',\n",
       " 'Ganit Business Solutions\\nbased on 13 salaries']"
      ]
     },
     "execution_count": 704,
     "metadata": {},
     "output_type": "execute_result"
    }
   ],
   "source": [
    "for i in company_name_tags:\n",
    "    company_name=i.text\n",
    "    company_names.append(company_name)\n",
    "company_names[0:10]"
   ]
  },
  {
   "cell_type": "code",
   "execution_count": 705,
   "id": "9825f750",
   "metadata": {
    "collapsed": true
   },
   "outputs": [
    {
     "data": {
      "text/plain": [
       "[<selenium.webdriver.remote.webelement.WebElement (session=\"8b9185807c64dc30576d3752ffa26bc1\", element=\"cf696613-b1c7-4278-a451-57ce329da9cd\")>]"
      ]
     },
     "execution_count": 705,
     "metadata": {},
     "output_type": "execute_result"
    }
   ],
   "source": [
    "salary_record_tags=driver.find_elements_by_css_selector(\"#sal-table > div.results-body > div:nth-child(1) > div:nth-child(1) > div > div > div.name > span\")\n",
    "salary_record_tags[0:10]"
   ]
  },
  {
   "cell_type": "code",
   "execution_count": 706,
   "id": "db0149fa",
   "metadata": {
    "collapsed": true
   },
   "outputs": [
    {
     "data": {
      "text/plain": [
       "['based on 11 salaries']"
      ]
     },
     "execution_count": 706,
     "metadata": {},
     "output_type": "execute_result"
    }
   ],
   "source": [
    "for i in salary_record_tags:\n",
    "    salary_record=i.text\n",
    "    salary_records.append(salary_record)\n",
    "salary_records[0:10]"
   ]
  },
  {
   "cell_type": "code",
   "execution_count": 707,
   "id": "facd02f8",
   "metadata": {
    "collapsed": true
   },
   "outputs": [
    {
     "data": {
      "text/plain": [
       "[<selenium.webdriver.remote.webelement.WebElement (session=\"8b9185807c64dc30576d3752ffa26bc1\", element=\"c3812d6b-d92b-46b6-8fee-fcc278e8a414\")>,\n",
       " <selenium.webdriver.remote.webelement.WebElement (session=\"8b9185807c64dc30576d3752ffa26bc1\", element=\"1d1809de-3d76-4c0a-8c91-2e7dc7f369c7\")>,\n",
       " <selenium.webdriver.remote.webelement.WebElement (session=\"8b9185807c64dc30576d3752ffa26bc1\", element=\"390f6391-cee5-4ec3-bc86-39cb1b383071\")>,\n",
       " <selenium.webdriver.remote.webelement.WebElement (session=\"8b9185807c64dc30576d3752ffa26bc1\", element=\"318088b0-2b4b-4afc-9a7b-4b202f627622\")>,\n",
       " <selenium.webdriver.remote.webelement.WebElement (session=\"8b9185807c64dc30576d3752ffa26bc1\", element=\"c4b6e820-c5b2-454d-bab1-4c2ab4ac14d3\")>,\n",
       " <selenium.webdriver.remote.webelement.WebElement (session=\"8b9185807c64dc30576d3752ffa26bc1\", element=\"cceac1ee-a962-4971-a246-d41e1700a082\")>,\n",
       " <selenium.webdriver.remote.webelement.WebElement (session=\"8b9185807c64dc30576d3752ffa26bc1\", element=\"f6d2a5a4-932c-4c17-8173-ed332cae30d1\")>,\n",
       " <selenium.webdriver.remote.webelement.WebElement (session=\"8b9185807c64dc30576d3752ffa26bc1\", element=\"48a9f52a-b71d-4ac6-be2b-75b3caf2872b\")>,\n",
       " <selenium.webdriver.remote.webelement.WebElement (session=\"8b9185807c64dc30576d3752ffa26bc1\", element=\"99b75b1b-c80b-49cb-86d9-d4bcb7e59172\")>,\n",
       " <selenium.webdriver.remote.webelement.WebElement (session=\"8b9185807c64dc30576d3752ffa26bc1\", element=\"738603ad-f3cd-413f-ac0a-6e834c6f92ec\")>]"
      ]
     },
     "execution_count": 707,
     "metadata": {},
     "output_type": "execute_result"
    }
   ],
   "source": [
    "average_salaries_tags=driver.find_elements_by_xpath(\"//p[@class='averageCtc']\")\n",
    "average_salaries_tags[0:10]"
   ]
  },
  {
   "cell_type": "code",
   "execution_count": 708,
   "id": "0aa0f101",
   "metadata": {
    "collapsed": true
   },
   "outputs": [
    {
     "data": {
      "text/plain": [
       "['₹ 29.7L',\n",
       " '₹ 20.5L',\n",
       " '₹ 18.9L',\n",
       " '₹ 16.7L',\n",
       " '₹ 15.9L',\n",
       " '₹ 15.4L',\n",
       " '₹ 14.8L',\n",
       " '₹ 13.9L',\n",
       " '₹ 12.7L',\n",
       " '₹ 12.4L']"
      ]
     },
     "execution_count": 708,
     "metadata": {},
     "output_type": "execute_result"
    }
   ],
   "source": [
    "for i in average_salaries_tags:\n",
    "    average_salary=i.text\n",
    "    average_salaries.append(average_salary)\n",
    "average_salaries[0:10]"
   ]
  },
  {
   "cell_type": "code",
   "execution_count": 709,
   "id": "6825adf8",
   "metadata": {
    "collapsed": true
   },
   "outputs": [
    {
     "data": {
      "text/plain": [
       "[<selenium.webdriver.remote.webelement.WebElement (session=\"8b9185807c64dc30576d3752ffa26bc1\", element=\"eaa284ec-4fc5-41d5-90bb-059ed729c2f3\")>,\n",
       " <selenium.webdriver.remote.webelement.WebElement (session=\"8b9185807c64dc30576d3752ffa26bc1\", element=\"fa02a91e-f9f0-4722-b777-7963d9d10f63\")>,\n",
       " <selenium.webdriver.remote.webelement.WebElement (session=\"8b9185807c64dc30576d3752ffa26bc1\", element=\"0f4cf1fc-62e0-4f9f-bf13-dff70fff960b\")>,\n",
       " <selenium.webdriver.remote.webelement.WebElement (session=\"8b9185807c64dc30576d3752ffa26bc1\", element=\"f2e47a44-6f70-4c7e-80de-13b829ef4e0e\")>,\n",
       " <selenium.webdriver.remote.webelement.WebElement (session=\"8b9185807c64dc30576d3752ffa26bc1\", element=\"53f16502-be4f-4c21-bbe9-7b9f12e0b6f9\")>,\n",
       " <selenium.webdriver.remote.webelement.WebElement (session=\"8b9185807c64dc30576d3752ffa26bc1\", element=\"fb875b15-78bd-4b47-97d5-571844b24d5a\")>,\n",
       " <selenium.webdriver.remote.webelement.WebElement (session=\"8b9185807c64dc30576d3752ffa26bc1\", element=\"9fa8948e-c75e-4c4d-96fc-ec0b9e5d3bf1\")>,\n",
       " <selenium.webdriver.remote.webelement.WebElement (session=\"8b9185807c64dc30576d3752ffa26bc1\", element=\"d3422fc8-1ffc-4606-8601-53931152c12f\")>,\n",
       " <selenium.webdriver.remote.webelement.WebElement (session=\"8b9185807c64dc30576d3752ffa26bc1\", element=\"00261612-7419-4ef8-9990-c8ae6cee6b63\")>,\n",
       " <selenium.webdriver.remote.webelement.WebElement (session=\"8b9185807c64dc30576d3752ffa26bc1\", element=\"47614fd9-2600-49be-8156-056b7e7ed411\")>]"
      ]
     },
     "execution_count": 709,
     "metadata": {},
     "output_type": "execute_result"
    }
   ],
   "source": [
    "maximum_minimum_salaries_tags=driver.find_elements_by_xpath(\"//div[@class='salary-values'][1]\")\n",
    "maximum_minimum_salaries_tags[0:10]"
   ]
  },
  {
   "cell_type": "code",
   "execution_count": 710,
   "id": "e522f3d8",
   "metadata": {
    "collapsed": true
   },
   "outputs": [
    {
     "data": {
      "text/plain": [
       "['₹ 25.0L\\n₹ 35.0L',\n",
       " '₹ 15.0L\\n₹ 25.5L',\n",
       " '₹ 5.6L\\n₹ 26.2L',\n",
       " '₹ 11.0L\\n₹ 22.0L',\n",
       " '₹ 11.0L\\n₹ 22.6L',\n",
       " '₹ 9.7L\\n₹ 23.0L',\n",
       " '₹ 9.0L\\n₹ 20.0L',\n",
       " '₹ 8.3L\\n₹ 20.5L',\n",
       " '₹ 10.0L\\n₹ 21.0L',\n",
       " '₹ 8.5L\\n₹ 15.0L']"
      ]
     },
     "execution_count": 710,
     "metadata": {},
     "output_type": "execute_result"
    }
   ],
   "source": [
    "for i in maximum_minimum_salaries_tags:\n",
    "    maximum_minimum_salary=i.text\n",
    "    maximum_minimum_salaries.append(maximum_minimum_salary)\n",
    "maximum_minimum_salaries[0:10]"
   ]
  },
  {
   "cell_type": "code",
   "execution_count": 711,
   "id": "bd94509e",
   "metadata": {
    "collapsed": true
   },
   "outputs": [
    {
     "data": {
      "text/plain": [
       "[<selenium.webdriver.remote.webelement.WebElement (session=\"8b9185807c64dc30576d3752ffa26bc1\", element=\"22bcc6f5-d29d-4413-8ec2-952607100e34\")>,\n",
       " <selenium.webdriver.remote.webelement.WebElement (session=\"8b9185807c64dc30576d3752ffa26bc1\", element=\"316114df-5d2f-417f-992d-7cc40b781720\")>,\n",
       " <selenium.webdriver.remote.webelement.WebElement (session=\"8b9185807c64dc30576d3752ffa26bc1\", element=\"d49f1229-f8bf-496f-b30c-ba2843625bfe\")>,\n",
       " <selenium.webdriver.remote.webelement.WebElement (session=\"8b9185807c64dc30576d3752ffa26bc1\", element=\"0cd59751-cfcd-459c-acb4-107305059176\")>,\n",
       " <selenium.webdriver.remote.webelement.WebElement (session=\"8b9185807c64dc30576d3752ffa26bc1\", element=\"3c70aace-d4fb-487b-801a-79b70c41c0ea\")>,\n",
       " <selenium.webdriver.remote.webelement.WebElement (session=\"8b9185807c64dc30576d3752ffa26bc1\", element=\"bc1a1212-97e7-4beb-8090-612bfc112ebd\")>,\n",
       " <selenium.webdriver.remote.webelement.WebElement (session=\"8b9185807c64dc30576d3752ffa26bc1\", element=\"abc5e70e-7a38-46b8-ac4e-3ea09fd2cc5b\")>,\n",
       " <selenium.webdriver.remote.webelement.WebElement (session=\"8b9185807c64dc30576d3752ffa26bc1\", element=\"38f11c41-65e1-4eb9-a636-4c2d7cb082dd\")>,\n",
       " <selenium.webdriver.remote.webelement.WebElement (session=\"8b9185807c64dc30576d3752ffa26bc1\", element=\"efb81251-f9d1-4601-a00b-8d969305a5cc\")>,\n",
       " <selenium.webdriver.remote.webelement.WebElement (session=\"8b9185807c64dc30576d3752ffa26bc1\", element=\"eddf2847-554a-4d93-8b04-8c748d266f00\")>]"
      ]
     },
     "execution_count": 711,
     "metadata": {},
     "output_type": "execute_result"
    }
   ],
   "source": [
    "experiences_required_tags=driver.find_elements_by_xpath(\"//div[@class='company-info']\")\n",
    "experiences_required_tags[0:10]"
   ]
  },
  {
   "cell_type": "code",
   "execution_count": 712,
   "id": "b5381a2e",
   "metadata": {
    "collapsed": true
   },
   "outputs": [
    {
     "data": {
      "text/plain": [
       "['Walmart\\nbased on 11 salaries\\nData Scientist\\n . \\n3 yrs exp',\n",
       " 'Ab Inbev\\nbased on 32 salaries\\nData Scientist\\n . \\n3-4 yrs exp',\n",
       " 'Reliance Jio\\nbased on 10 salaries\\nData Scientist\\n . \\n4 yrs exp',\n",
       " 'ZS\\nbased on 15 salaries\\nData Scientist\\n . \\n2 yrs exp',\n",
       " 'Optum\\nbased on 30 salaries\\nData Scientist\\n . \\n3-4 yrs exp',\n",
       " 'Fractal Analytics\\nbased on 82 salaries\\nData Scientist\\n . \\n2-4 yrs exp',\n",
       " 'Tiger Analytics\\nbased on 47 salaries\\nData Scientist\\n . \\n2-4 yrs exp',\n",
       " 'UnitedHealth\\nbased on 55 salaries\\nData Scientist\\n . \\n2-4 yrs exp',\n",
       " 'Verizon\\nbased on 14 salaries\\nData Scientist\\n . \\n4 yrs exp',\n",
       " 'Ganit Business Solutions\\nbased on 13 salaries\\nData Scientist\\n . \\n4 yrs exp']"
      ]
     },
     "execution_count": 712,
     "metadata": {},
     "output_type": "execute_result"
    }
   ],
   "source": [
    "for i in experiences_required_tags:\n",
    "    experience_required=i.text\n",
    "    experiences_required.append(experience_required)\n",
    "experiences_required[0:10]"
   ]
  },
  {
   "cell_type": "code",
   "execution_count": 714,
   "id": "b7b0c2c7",
   "metadata": {
    "collapsed": true
   },
   "outputs": [
    {
     "name": "stdout",
     "output_type": "stream",
     "text": [
      "10 10 10 10\n"
     ]
    }
   ],
   "source": [
    "print(len(company_names),len(average_salaries),len(maximum_minimum_salaries),len(experiences_required[0:10]))"
   ]
  },
  {
   "cell_type": "code",
   "execution_count": 715,
   "id": "a848fbea",
   "metadata": {
    "collapsed": true
   },
   "outputs": [],
   "source": [
    "jobs=pd.DataFrame({})\n",
    "jobs['company']=company_names\n",
    "jobs['average_salary']=average_salaries\n",
    "jobs['maximum_minimum_salary']=maximum_minimum_salaries\n",
    "jobs['experiences_required']=experiences_required[0:10]"
   ]
  },
  {
   "cell_type": "code",
   "execution_count": 716,
   "id": "32aadc5b",
   "metadata": {},
   "outputs": [
    {
     "data": {
      "text/html": [
       "<div>\n",
       "<style scoped>\n",
       "    .dataframe tbody tr th:only-of-type {\n",
       "        vertical-align: middle;\n",
       "    }\n",
       "\n",
       "    .dataframe tbody tr th {\n",
       "        vertical-align: top;\n",
       "    }\n",
       "\n",
       "    .dataframe thead th {\n",
       "        text-align: right;\n",
       "    }\n",
       "</style>\n",
       "<table border=\"1\" class=\"dataframe\">\n",
       "  <thead>\n",
       "    <tr style=\"text-align: right;\">\n",
       "      <th></th>\n",
       "      <th>company</th>\n",
       "      <th>average_salary</th>\n",
       "      <th>maximum_minimum_salary</th>\n",
       "      <th>experiences_required</th>\n",
       "    </tr>\n",
       "  </thead>\n",
       "  <tbody>\n",
       "    <tr>\n",
       "      <th>0</th>\n",
       "      <td>Walmart\\nbased on 11 salaries</td>\n",
       "      <td>₹ 29.7L</td>\n",
       "      <td>₹ 25.0L\\n₹ 35.0L</td>\n",
       "      <td>Walmart\\nbased on 11 salaries\\nData Scientist\\...</td>\n",
       "    </tr>\n",
       "    <tr>\n",
       "      <th>1</th>\n",
       "      <td>Ab Inbev\\nbased on 32 salaries</td>\n",
       "      <td>₹ 20.5L</td>\n",
       "      <td>₹ 15.0L\\n₹ 25.5L</td>\n",
       "      <td>Ab Inbev\\nbased on 32 salaries\\nData Scientist...</td>\n",
       "    </tr>\n",
       "    <tr>\n",
       "      <th>2</th>\n",
       "      <td>Reliance Jio\\nbased on 10 salaries</td>\n",
       "      <td>₹ 18.9L</td>\n",
       "      <td>₹ 5.6L\\n₹ 26.2L</td>\n",
       "      <td>Reliance Jio\\nbased on 10 salaries\\nData Scien...</td>\n",
       "    </tr>\n",
       "    <tr>\n",
       "      <th>3</th>\n",
       "      <td>ZS\\nbased on 15 salaries</td>\n",
       "      <td>₹ 16.7L</td>\n",
       "      <td>₹ 11.0L\\n₹ 22.0L</td>\n",
       "      <td>ZS\\nbased on 15 salaries\\nData Scientist\\n . \\...</td>\n",
       "    </tr>\n",
       "    <tr>\n",
       "      <th>4</th>\n",
       "      <td>Optum\\nbased on 30 salaries</td>\n",
       "      <td>₹ 15.9L</td>\n",
       "      <td>₹ 11.0L\\n₹ 22.6L</td>\n",
       "      <td>Optum\\nbased on 30 salaries\\nData Scientist\\n ...</td>\n",
       "    </tr>\n",
       "    <tr>\n",
       "      <th>5</th>\n",
       "      <td>Fractal Analytics\\nbased on 82 salaries</td>\n",
       "      <td>₹ 15.4L</td>\n",
       "      <td>₹ 9.7L\\n₹ 23.0L</td>\n",
       "      <td>Fractal Analytics\\nbased on 82 salaries\\nData ...</td>\n",
       "    </tr>\n",
       "    <tr>\n",
       "      <th>6</th>\n",
       "      <td>Tiger Analytics\\nbased on 47 salaries</td>\n",
       "      <td>₹ 14.8L</td>\n",
       "      <td>₹ 9.0L\\n₹ 20.0L</td>\n",
       "      <td>Tiger Analytics\\nbased on 47 salaries\\nData Sc...</td>\n",
       "    </tr>\n",
       "    <tr>\n",
       "      <th>7</th>\n",
       "      <td>UnitedHealth\\nbased on 55 salaries</td>\n",
       "      <td>₹ 13.9L</td>\n",
       "      <td>₹ 8.3L\\n₹ 20.5L</td>\n",
       "      <td>UnitedHealth\\nbased on 55 salaries\\nData Scien...</td>\n",
       "    </tr>\n",
       "    <tr>\n",
       "      <th>8</th>\n",
       "      <td>Verizon\\nbased on 14 salaries</td>\n",
       "      <td>₹ 12.7L</td>\n",
       "      <td>₹ 10.0L\\n₹ 21.0L</td>\n",
       "      <td>Verizon\\nbased on 14 salaries\\nData Scientist\\...</td>\n",
       "    </tr>\n",
       "    <tr>\n",
       "      <th>9</th>\n",
       "      <td>Ganit Business Solutions\\nbased on 13 salaries</td>\n",
       "      <td>₹ 12.4L</td>\n",
       "      <td>₹ 8.5L\\n₹ 15.0L</td>\n",
       "      <td>Ganit Business Solutions\\nbased on 13 salaries...</td>\n",
       "    </tr>\n",
       "  </tbody>\n",
       "</table>\n",
       "</div>"
      ],
      "text/plain": [
       "                                          company average_salary  \\\n",
       "0                   Walmart\\nbased on 11 salaries        ₹ 29.7L   \n",
       "1                  Ab Inbev\\nbased on 32 salaries        ₹ 20.5L   \n",
       "2              Reliance Jio\\nbased on 10 salaries        ₹ 18.9L   \n",
       "3                        ZS\\nbased on 15 salaries        ₹ 16.7L   \n",
       "4                     Optum\\nbased on 30 salaries        ₹ 15.9L   \n",
       "5         Fractal Analytics\\nbased on 82 salaries        ₹ 15.4L   \n",
       "6           Tiger Analytics\\nbased on 47 salaries        ₹ 14.8L   \n",
       "7              UnitedHealth\\nbased on 55 salaries        ₹ 13.9L   \n",
       "8                   Verizon\\nbased on 14 salaries        ₹ 12.7L   \n",
       "9  Ganit Business Solutions\\nbased on 13 salaries        ₹ 12.4L   \n",
       "\n",
       "  maximum_minimum_salary                               experiences_required  \n",
       "0       ₹ 25.0L\\n₹ 35.0L  Walmart\\nbased on 11 salaries\\nData Scientist\\...  \n",
       "1       ₹ 15.0L\\n₹ 25.5L  Ab Inbev\\nbased on 32 salaries\\nData Scientist...  \n",
       "2        ₹ 5.6L\\n₹ 26.2L  Reliance Jio\\nbased on 10 salaries\\nData Scien...  \n",
       "3       ₹ 11.0L\\n₹ 22.0L  ZS\\nbased on 15 salaries\\nData Scientist\\n . \\...  \n",
       "4       ₹ 11.0L\\n₹ 22.6L  Optum\\nbased on 30 salaries\\nData Scientist\\n ...  \n",
       "5        ₹ 9.7L\\n₹ 23.0L  Fractal Analytics\\nbased on 82 salaries\\nData ...  \n",
       "6        ₹ 9.0L\\n₹ 20.0L  Tiger Analytics\\nbased on 47 salaries\\nData Sc...  \n",
       "7        ₹ 8.3L\\n₹ 20.5L  UnitedHealth\\nbased on 55 salaries\\nData Scien...  \n",
       "8       ₹ 10.0L\\n₹ 21.0L  Verizon\\nbased on 14 salaries\\nData Scientist\\...  \n",
       "9        ₹ 8.5L\\n₹ 15.0L  Ganit Business Solutions\\nbased on 13 salaries...  "
      ]
     },
     "execution_count": 716,
     "metadata": {},
     "output_type": "execute_result"
    }
   ],
   "source": [
    "jobs"
   ]
  },
  {
   "cell_type": "code",
   "execution_count": null,
   "id": "995cf6d8",
   "metadata": {
    "collapsed": true
   },
   "outputs": [],
   "source": []
  }
 ],
 "metadata": {
  "kernelspec": {
   "display_name": "Python 3",
   "language": "python",
   "name": "python3"
  },
  "language_info": {
   "codemirror_mode": {
    "name": "ipython",
    "version": 3
   },
   "file_extension": ".py",
   "mimetype": "text/x-python",
   "name": "python",
   "nbconvert_exporter": "python",
   "pygments_lexer": "ipython3",
   "version": "3.8.8"
  }
 },
 "nbformat": 4,
 "nbformat_minor": 5
}
